{
 "cells": [
  {
   "cell_type": "markdown",
   "metadata": {},
   "source": [
    "# Bottle\n",
    "\n",
    "[Bottle](https://bottlepy.org) ist ein Webframework, das leicht mit pip\n",
    "installiert werden kann.\n",
    "\n",
    "    $ pip install bottle\n",
    "\n",
    "Das Demoprogramm zeigt eine Webseite mit einem Bild und einer Zahl, die \n",
    "sich bei jedem Refresh durch den Browser ändert. \n",
    "\n",
    "![Bild](ball.gif)\n",
    "\n",
    "Für jeden Pfad, der aufgerufen werden kann, muss eine Route in Bottle deklariert\n",
    "werden. Diese Methode muss einfaches HTML an den Browser liefern. Für Dateien\n",
    "muss eine separate Route deklariert werden, die Dateien und kein HTML\n",
    "ausliefert.\n",
    "\n",
    "In einem [kommentierten PDF](bottledemo.pdf) werden die wichtigsten Dinge\n",
    "zusammenfasst."
   ]
  },
  {
   "cell_type": "code",
   "execution_count": 9,
   "metadata": {},
   "outputs": [],
   "source": [
    "import bottle\n",
    "import time"
   ]
  },
  {
   "cell_type": "markdown",
   "metadata": {},
   "source": [
    "Wir beginnen mit der Route für `/`."
   ]
  },
  {
   "cell_type": "code",
   "execution_count": 10,
   "metadata": {},
   "outputs": [],
   "source": [
    "@bottle.route(\"/\")  # bindung route to a method\n",
    "def index():\n",
    "    t = time.time()\n",
    "    html = \"\"\"\n",
    "        <!DOCTYPE html>\n",
    "        <html>\n",
    "          <head><title>Bottle Demo</title></head>\n",
    "          <body>\n",
    "            <h1>Bottle-Demo</h1>\n",
    "            <img src=\"/image/ball.gif\" />\n",
    "            <p>\n",
    "            {sekseit1970} Sekunden seit dem 1.1.1970. \n",
    "            <p/>\n",
    "          </body>\n",
    "        </html>\n",
    "        \"\"\"\n",
    "\n",
    "    # return HTML but replace variable in string before\n",
    "    return html.format(sekseit1970=t)"
   ]
  },
  {
   "cell_type": "markdown",
   "metadata": {},
   "source": [
    "Ein Aufruf liefert das HTML, das der Webserver anzeigt."
   ]
  },
  {
   "cell_type": "code",
   "execution_count": 11,
   "metadata": {},
   "outputs": [
    {
     "name": "stdout",
     "output_type": "stream",
     "text": [
      "\n",
      "        <!DOCTYPE html>\n",
      "        <html>\n",
      "          <head><title>Bottle Demo</title></head>\n",
      "          <body>\n",
      "            <h1>Bottle-Demo</h1>\n",
      "            <img src=\"/image/ball.gif\" />\n",
      "            <p>\n",
      "            1534279559.560967 Sekunden seit dem 1.1.1970. \n",
      "            <p/>\n",
      "          </body>\n",
      "        </html>\n",
      "        \n"
     ]
    }
   ],
   "source": [
    "print(index())"
   ]
  },
  {
   "cell_type": "markdown",
   "metadata": {},
   "source": [
    "In dem HTML-Dokument taucht eine Route `/image/` für die bisher noch \n",
    "keine Methode angegeben wurde. Dies holen wir nun nach. Diese Methode \n",
    "soll jedoch kein HTML, sondern eine Bilddatei `/image/ball.gif` liefern.\n",
    "\n",
    "![Bild](ball.gif)\n",
    "\n",
    "Hierfür können wir die Methode `static_file`im bottle-Modul verwenden."
   ]
  },
  {
   "cell_type": "code",
   "execution_count": 12,
   "metadata": {},
   "outputs": [],
   "source": [
    "@bottle.route(\"/image/<dateiname>\")  # dynamic route\n",
    "def image(dateiname):\n",
    "    \"\"\"Serve static files.\"\"\"\n",
    "    return bottle.static_file(filename=dateiname, root=\".\")"
   ]
  },
  {
   "cell_type": "markdown",
   "metadata": {},
   "source": [
    "Wir testen auch diese Methode einmal, indem wir sie direkt aufrufen.\n",
    "Diesmal müssen wir einen Dateiname mit übergeben, da die Methode\n",
    "einen Parameter hat. Auch die Route hat einen Parameter."
   ]
  },
  {
   "cell_type": "code",
   "execution_count": 13,
   "metadata": {},
   "outputs": [
    {
     "data": {
      "text/plain": [
       "Content-Type: image/gif\n",
       "Content-Length: 5015\n",
       "Last-Modified: Thu, 09 Aug 2018 17:57:30 GMT\n",
       "Accept-Ranges: bytes"
      ]
     },
     "execution_count": 13,
     "metadata": {},
     "output_type": "execute_result"
    }
   ],
   "source": [
    "image(\"ball.gif\")"
   ]
  },
  {
   "cell_type": "markdown",
   "metadata": {},
   "source": [
    "Zum Starten des Webservers wird schließlich die Methode `bottle.run` verwendet.\n",
    "Neben dem Parameter für den `host` und `port` gibt es die Option `reloader=True`.\n",
    "Sie startet den Server automatisch neu, sobald sich eine der Python-Dateien geändert\n",
    "hat. Bei der Entwicklung ist dies besonders hilfreich."
   ]
  },
  {
   "cell_type": "code",
   "execution_count": null,
   "metadata": {},
   "outputs": [
    {
     "name": "stderr",
     "output_type": "stream",
     "text": [
      "Bottle v0.12.13 server starting up (using WSGIRefServer())...\n",
      "Listening on http://127.0.0.1:8081/\n",
      "Hit Ctrl-C to quit.\n",
      "\n"
     ]
    }
   ],
   "source": [
    "bottle.run(host=\"127.0.0.1\", port=8081)"
   ]
  },
  {
   "cell_type": "code",
   "execution_count": null,
   "metadata": {},
   "outputs": [],
   "source": []
  }
 ],
 "metadata": {
  "kernelspec": {
   "display_name": "Python 3",
   "language": "python",
   "name": "python3"
  },
  "language_info": {
   "codemirror_mode": {
    "name": "ipython",
    "version": 3
   },
   "file_extension": ".py",
   "mimetype": "text/x-python",
   "name": "python",
   "nbconvert_exporter": "python",
   "pygments_lexer": "ipython3",
   "version": "3.7.0"
  }
 },
 "nbformat": 4,
 "nbformat_minor": 2
}
