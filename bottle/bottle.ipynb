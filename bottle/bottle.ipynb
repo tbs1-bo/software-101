{
 "cells": [
  {
   "cell_type": "markdown",
   "metadata": {},
   "source": [
    "# Bottle\n",
    "\n",
    "[Bottle](https://bottlepy.org) ist ein Webframework, das leicht mit pip\n",
    "installiert werden kann.\n",
    "\n",
    "\n",
    "## Installation\n",
    "\n",
    "\n",
    "- Linux, MacOS: `pip3 install bottle`\n",
    "- Windows: `pip install bottle` oder `python -m pip install bottle` oder `py -m pip install bottle`"
   ]
  },
  {
   "cell_type": "markdown",
   "metadata": {},
   "source": [
    "## Einfacher Webserver\n",
    "\n",
    "Für jeden Pfad, der aufgerufen werden kann, muss eine Route in Bottle deklariert\n",
    "werden. Diese Methode muss einfaches HTML an den Browser liefern."
   ]
  },
  {
   "cell_type": "code",
   "execution_count": 1,
   "metadata": {},
   "outputs": [],
   "source": [
    "import bottle"
   ]
  },
  {
   "cell_type": "markdown",
   "metadata": {},
   "source": [
    "Wir beginnen mit der Route für `/`."
   ]
  },
  {
   "cell_type": "code",
   "execution_count": 2,
   "metadata": {},
   "outputs": [],
   "source": [
    "@bottle.route(\"/\")  # bindung route to a method\n",
    "def index():\n",
    "    return \"OK\""
   ]
  },
  {
   "cell_type": "markdown",
   "metadata": {},
   "source": [
    "Zum Starten des Webservers wird schließlich die Methode `bottle.run` verwendet.\n",
    "Neben dem Parameter für den `host` und `port` gibt es die Option `reloader=True`.\n",
    "Sie startet den Server automatisch neu, sobald sich eine der Python-Dateien geändert\n",
    "hat. Bei der Entwicklung ist dies besonders hilfreich."
   ]
  },
  {
   "cell_type": "code",
   "execution_count": 3,
   "metadata": {},
   "outputs": [
    {
     "name": "stderr",
     "output_type": "stream",
     "text": [
      "Bottle v0.12.13 server starting up (using WSGIRefServer())...\n",
      "Listening on http://127.0.0.1:8081/\n",
      "Hit Ctrl-C to quit.\n",
      "\n",
      "127.0.0.1 - - [30/Sep/2018 09:30:53] \"GET / HTTP/1.1\" 200 2\n"
     ]
    }
   ],
   "source": [
    "bottle.run(host=\"127.0.0.1\", port=8081)"
   ]
  },
  {
   "cell_type": "markdown",
   "metadata": {},
   "source": [
    "Unter http://127.0.0.1:8081 ist die Seite nun erreichbar. Ein Blick in den Quelltext zeigt, dass der Text `OK` genau so auftaucht, wie er in der Methode angelegt wurde."
   ]
  },
  {
   "cell_type": "markdown",
   "metadata": {},
   "source": [
    "## HTML\n",
    "\n",
    "Unser Browser kann jedoch mehr als nur Text anzeigen. Er kann [HTML](https://www.w3schools.com/html) interpretieren. Passen wir die Methode also an und lassen valides HTML zurückgeben."
   ]
  },
  {
   "cell_type": "code",
   "execution_count": 4,
   "metadata": {},
   "outputs": [],
   "source": [
    "@bottle.route(\"/\")\n",
    "def index():\n",
    "    html = \"\"\"\n",
    "        <!DOCTYPE html>\n",
    "        <html>\n",
    "          <head><title>Bottle Demo</title></head>\n",
    "          <body>\n",
    "            <h1>Bottle-Demo</h1>\n",
    "          </body>\n",
    "        </html>\n",
    "        \"\"\"\n",
    "\n",
    "    return html"
   ]
  },
  {
   "cell_type": "code",
   "execution_count": 5,
   "metadata": {},
   "outputs": [
    {
     "name": "stderr",
     "output_type": "stream",
     "text": [
      "Bottle v0.12.13 server starting up (using WSGIRefServer())...\n",
      "Listening on http://127.0.0.1:8081/\n",
      "Hit Ctrl-C to quit.\n",
      "\n",
      "127.0.0.1 - - [30/Sep/2018 09:31:00] \"GET / HTTP/1.1\" 200 182\n"
     ]
    }
   ],
   "source": [
    "bottle.run(host=\"127.0.0.1\", port=8081)"
   ]
  },
  {
   "cell_type": "markdown",
   "metadata": {},
   "source": [
    "## Dynamische Webseiten\n",
    "\n",
    "Nun soll die Seite etwas dynamischer werden und einen Zeitstempel ausgeben, der sich bei jedem Aufruf ändert."
   ]
  },
  {
   "cell_type": "code",
   "execution_count": 6,
   "metadata": {},
   "outputs": [],
   "source": [
    "import time\n",
    "\n",
    "@bottle.route(\"/\")\n",
    "def index():\n",
    "    html = \"\"\"\n",
    "        <!DOCTYPE html>\n",
    "        <html>\n",
    "          <head><title>Bottle Demo</title></head>\n",
    "          <body>\n",
    "            <h1>Bottle-Demo</h1>\n",
    "            {sekseit1970} Sekunden seit dem 1.1.1970. \n",
    "          </body>\n",
    "        </html>\n",
    "        \"\"\"\n",
    "\n",
    "    # return HTML but replace variable in string before\n",
    "    t = time.time()\n",
    "    return html.format(sekseit1970=t)"
   ]
  },
  {
   "cell_type": "markdown",
   "metadata": {},
   "source": [
    "Wenn wir den Server nun starten, wird bei jedem Aufruf der Zeitstempel im Ergebnis ersetzt."
   ]
  },
  {
   "cell_type": "code",
   "execution_count": 7,
   "metadata": {},
   "outputs": [
    {
     "name": "stderr",
     "output_type": "stream",
     "text": [
      "Bottle v0.12.13 server starting up (using WSGIRefServer())...\n",
      "Listening on http://127.0.0.1:8081/\n",
      "Hit Ctrl-C to quit.\n",
      "\n",
      "127.0.0.1 - - [30/Sep/2018 09:31:06] \"GET / HTTP/1.1\" 200 242\n"
     ]
    }
   ],
   "source": [
    "bottle.run(host=\"127.0.0.1\", port=8081)"
   ]
  },
  {
   "cell_type": "markdown",
   "metadata": {},
   "source": [
    "## Bilder ausgeben\n",
    "\n",
    "Schließlich soll noch ein Bild auf der Webseite erscheinen. Wir legen das folgende Bild neben die Python-Datei.\n",
    "\n",
    "![Bild](ball.gif)"
   ]
  },
  {
   "cell_type": "code",
   "execution_count": 2,
   "metadata": {},
   "outputs": [],
   "source": [
    "@bottle.route(\"/\")\n",
    "def index():\n",
    "    html = \"\"\"\n",
    "        <!DOCTYPE html>\n",
    "        <html>\n",
    "          <head><title>Bottle Demo</title></head>\n",
    "          <body>\n",
    "            <h1>Bottle-Demo</h1>\n",
    "            <img src=\"/img/ball.gif\" />\n",
    "          </body>\n",
    "        </html>\n",
    "        \"\"\"\n",
    "\n",
    "    return html"
   ]
  },
  {
   "cell_type": "markdown",
   "metadata": {},
   "source": [
    "In einem ersten Schritt schlägt die Anzeige jedoch fehl. Der Statuscode 404 hinter `/img/ball.gif` weist auf eine fehlende Route für das Bild hin."
   ]
  },
  {
   "cell_type": "code",
   "execution_count": 3,
   "metadata": {},
   "outputs": [
    {
     "name": "stderr",
     "output_type": "stream",
     "text": [
      "Bottle v0.12.13 server starting up (using WSGIRefServer())...\n",
      "Listening on http://127.0.0.1:8081/\n",
      "Hit Ctrl-C to quit.\n",
      "\n",
      "127.0.0.1 - - [30/Sep/2018 09:35:42] \"GET / HTTP/1.1\" 200 222\n",
      "127.0.0.1 - - [30/Sep/2018 09:35:42] \"GET /img/ball.gif HTTP/1.1\" 404 744\n"
     ]
    }
   ],
   "source": [
    "bottle.run(host=\"127.0.0.1\", port=8081)"
   ]
  },
  {
   "cell_type": "markdown",
   "metadata": {},
   "source": [
    "In dem HTML-Dokument taucht eine Route `/img/` auf, für die bisher noch \n",
    "keine Methode angegeben wurde. Dies holen wir nun nach. Diese Methode \n",
    "soll jedoch kein HTML, sondern eine Bilddatei `/img/ball.gif` liefern."
   ]
  },
  {
   "cell_type": "markdown",
   "metadata": {},
   "source": [
    "Hierfür können wir die Methode `static_file` im bottle-Modul verwenden. Mit `root` wird das Wurzelverzeichnis für Bilder angegeben - in diesem Falle mit `.` das aktuelle Verzeichnis."
   ]
  },
  {
   "cell_type": "code",
   "execution_count": 10,
   "metadata": {},
   "outputs": [],
   "source": [
    "@bottle.route(\"/img/ball.gif\")\n",
    "def image():\n",
    "    return bottle.static_file(filename=\"ball.gif\", root=\".\")"
   ]
  },
  {
   "cell_type": "markdown",
   "metadata": {},
   "source": [
    "Wir testen auch diese Methode einmal und rufen sie direkt auf. Es fällt auf, dass nun kein HTML, sondern eine Binärdatei ausgeliefert wird."
   ]
  },
  {
   "cell_type": "code",
   "execution_count": 11,
   "metadata": {},
   "outputs": [
    {
     "data": {
      "text/plain": [
       "Content-Type: image/gif\n",
       "Content-Length: 5015\n",
       "Last-Modified: Thu, 09 Aug 2018 17:57:30 GMT\n",
       "Accept-Ranges: bytes"
      ]
     },
     "execution_count": 11,
     "metadata": {},
     "output_type": "execute_result"
    }
   ],
   "source": [
    "image()"
   ]
  },
  {
   "cell_type": "markdown",
   "metadata": {},
   "source": [
    "Starten wir den Webserver nun erneut."
   ]
  },
  {
   "cell_type": "code",
   "execution_count": 12,
   "metadata": {},
   "outputs": [
    {
     "name": "stderr",
     "output_type": "stream",
     "text": [
      "Bottle v0.12.13 server starting up (using WSGIRefServer())...\n",
      "Listening on http://127.0.0.1:8081/\n",
      "Hit Ctrl-C to quit.\n",
      "\n",
      "127.0.0.1 - - [30/Sep/2018 09:31:44] \"GET / HTTP/1.1\" 200 222\n"
     ]
    }
   ],
   "source": [
    "bottle.run(host=\"127.0.0.1\", port=8081)"
   ]
  },
  {
   "cell_type": "markdown",
   "metadata": {},
   "source": [
    "## Dynamische Routen\n",
    "\n",
    "Da es umständlich ist, für jedes Bild eine eigene Route festzulegen, können Routen auch dynamisch sein und einen Parameter enthalten - z.B. einen Dateiname für ein Bild. Dieser Parameter taucht dann auch in der Methode auf."
   ]
  },
  {
   "cell_type": "code",
   "execution_count": 13,
   "metadata": {},
   "outputs": [],
   "source": [
    "@bottle.route(\"/img/<dateiname>\")  # dynamic route\n",
    "def image(dateiname):\n",
    "    return bottle.static_file(filename=dateiname,  # parameter from method\n",
    "                              root=\".\")"
   ]
  },
  {
   "cell_type": "markdown",
   "metadata": {},
   "source": [
    "Die Parameter von dynamischen Routen können sogar an einen Datentyp gebunden werden. Dies wird in der [Dokumentation von Bottle zu \"Request Routing\"](http://bottlepy.org/docs/dev/tutorial.html#request-routing) beschrieben."
   ]
  },
  {
   "cell_type": "markdown",
   "metadata": {},
   "source": [
    "## Formulare\n",
    "\n",
    "In HTML können mit Formularen Daten an den Webserver übertragen werden. Hierfür wird das [form-tag](https://wiki.selfhtml.org/wiki/HTML/Formulare/form) genutzt. Das `action`-Attribut gibt das Ziel des Formulares an, mit `method` kann die HTTP-Methode für die Übertragung gesetzt werden."
   ]
  },
  {
   "cell_type": "code",
   "execution_count": 14,
   "metadata": {},
   "outputs": [],
   "source": [
    "@bottle.route(\"/formular\")\n",
    "def fomular():\n",
    "    return \"\"\"\n",
    "    <!DOCTYPE html>\n",
    "    <html>\n",
    "      <head><title>Bottle Demo</title></head>\n",
    "      <body>\n",
    "        <h1>Bottle-Formular</h1>\n",
    "\n",
    "        <form action=\"/formularauswerter\" method=\"POST\">\n",
    "            <input type=\"textfield\" name=\"eingabefeld\"><br>\n",
    "            <input type=\"submit\" value=\"Absenden\">\n",
    "        </form>\n",
    "        \n",
    "      </body>\n",
    "    </html>\n",
    "    \"\"\""
   ]
  },
  {
   "cell_type": "markdown",
   "metadata": {},
   "source": [
    "Das Formular leitet an die Route `/formularauswerter` weiter. Und zwar mit einem `POST`-Request. Hierfür muss noch eine Methode angegeben werden. Diesmal wird `bottle.post` als Dekorator verwendet."
   ]
  },
  {
   "cell_type": "code",
   "execution_count": 15,
   "metadata": {},
   "outputs": [],
   "source": [
    "@bottle.post(\"/formularauswerter\")\n",
    "def fomularauswerter():\n",
    "    html = \"\"\"\n",
    "    <!DOCTYPE html>\n",
    "    <html>\n",
    "      <head><title>Bottle Demo</title></head>\n",
    "      <body>\n",
    "        <h1>Bottle-Formular-Auswerter</h1>\n",
    "        Es wurde \"{req}\" eingegeben.\n",
    "      </body>\n",
    "    </html>\n",
    "    \"\"\"\n",
    "    formulareingabe = bottle.request.forms[\"eingabefeld\"]\n",
    "\n",
    "    return html.format(req=formulareingabe)"
   ]
  },
  {
   "cell_type": "code",
   "execution_count": 16,
   "metadata": {},
   "outputs": [
    {
     "name": "stderr",
     "output_type": "stream",
     "text": [
      "Bottle v0.12.13 server starting up (using WSGIRefServer())...\n",
      "Listening on http://127.0.0.1:8081/\n",
      "Hit Ctrl-C to quit.\n",
      "\n",
      "127.0.0.1 - - [30/Sep/2018 09:32:01] \"GET /formular HTTP/1.1\" 200 348\n",
      "127.0.0.1 - - [30/Sep/2018 09:32:05] \"POST /formularauswerter HTTP/1.1\" 200 199\n"
     ]
    }
   ],
   "source": [
    "bottle.run(host=\"127.0.0.1\", port=8081)"
   ]
  },
  {
   "cell_type": "markdown",
   "metadata": {},
   "source": [
    "Nun ist das Formular unter http://localhost:8081/formular erreichbar."
   ]
  },
  {
   "cell_type": "markdown",
   "metadata": {},
   "source": [
    "## Templates\n",
    "\n",
    "Damit der HTML-Quelltext nicht mit dem Python-Quelltext verschmischt wird, trennt man beide. Dadurch können Änderungen am Design durchgeführt werden, ohne den Quelltext dafür ändern zu müssen."
   ]
  },
  {
   "cell_type": "markdown",
   "metadata": {},
   "source": [
    "[Templates](https://bottlepy.org/docs/dev/tutorial.html#templates) werden im Ordner `views` abgelegt. Dort legen wir folgende einfache HTML-Datei `index.tpl` ab. Sie enthält den Platzhalter `{{mein_text}}`, der noch ersetzt werden muss."
   ]
  },
  {
   "cell_type": "code",
   "execution_count": 3,
   "metadata": {},
   "outputs": [
    {
     "name": "stdout",
     "output_type": "stream",
     "text": [
      "Overwriting views/index.tpl\n"
     ]
    }
   ],
   "source": [
    "%%writefile views/index.tpl\n",
    "\n",
    "<!DOCTYPE html>\n",
    "    <html>\n",
    "    <head><title>Bottle Demo</title></head>\n",
    "    <body>\n",
    "        <h1>Bottle-Template</h1>\n",
    "        Hallo {{mein_text}}\n",
    "    </body>\n",
    "</html>"
   ]
  },
  {
   "cell_type": "markdown",
   "metadata": {},
   "source": [
    "Das Template kann nun angezeigt und die Variable `mein_text` darin ersetzt werden. Dies erledigt die Methode `template`."
   ]
  },
  {
   "cell_type": "code",
   "execution_count": null,
   "metadata": {},
   "outputs": [],
   "source": [
    "@bottle.route('/')\n",
    "def index():\n",
    "    return bottle.template('index', mein_text='Welt')"
   ]
  },
  {
   "cell_type": "markdown",
   "metadata": {},
   "source": [
    "Nach einem Start wird das Template angezeigt und die Variable darin ersetzt."
   ]
  },
  {
   "cell_type": "code",
   "execution_count": 13,
   "metadata": {},
   "outputs": [
    {
     "name": "stderr",
     "output_type": "stream",
     "text": [
      "Bottle v0.12.13 server starting up (using WSGIRefServer())...\n",
      "Listening on http://127.0.0.1:8083/\n",
      "Hit Ctrl-C to quit.\n",
      "\n",
      "127.0.0.1 - - [14/Nov/2018 08:58:36] \"GET / HTTP/1.1\" 200 154\n",
      "127.0.0.1 - - [14/Nov/2018 08:58:37] \"GET /favicon.ico HTTP/1.1\" 404 742\n"
     ]
    }
   ],
   "source": [
    "bottle.run(host='127.0.0.1', port=8081)"
   ]
  },
  {
   "cell_type": "markdown",
   "metadata": {},
   "source": [
    "## Templates mit Kontrollstrukturen\n",
    "\n",
    "Innerhalb des Templates können nicht nur Variablen angezeigt, sondern auch Kontrollstrukturen wie Schleifen verwendet werden. Das ist besonders nützlich, wenn eine Liste mit Werten angezeigt werden soll."
   ]
  },
  {
   "cell_type": "markdown",
   "metadata": {},
   "source": [
    "Das nächste Beispiel zeigt ein Template, in dem eine Liste durchlaufen wird. Hierfür wird Python-Quelltext mit einem vorangestellten `%` im Python-Quelltext eingetragen. Da die sonst bei Python wichtige Einrückung im Template keine Rolle spielt, muss das Ende der Schleife mit einem `end` gekennzeichnet werden."
   ]
  },
  {
   "cell_type": "code",
   "execution_count": 1,
   "metadata": {},
   "outputs": [
    {
     "name": "stdout",
     "output_type": "stream",
     "text": [
      "Overwriting views/index.tpl\n"
     ]
    }
   ],
   "source": [
    "%%writefile views/index.tpl\n",
    "\n",
    "<!DOCTYPE html>\n",
    "    <html>\n",
    "    <head><title>Bottle Demo</title></head>\n",
    "    <body>\n",
    "        <h1>Bottle-Template</h1>\n",
    "        Eine Liste mit {{ len(meine_liste) }} Elementen\n",
    "        <ul>\n",
    "        % for eintrag in meine_liste:\n",
    "            <li>{{ eintrag }}</li>\n",
    "        % end\n",
    "        </ul>\n",
    "    </body>\n",
    "</html>"
   ]
  },
  {
   "cell_type": "markdown",
   "metadata": {},
   "source": [
    "Beim Aufruf der Webseite wird nun eine Liste übergeben."
   ]
  },
  {
   "cell_type": "code",
   "execution_count": 2,
   "metadata": {},
   "outputs": [],
   "source": [
    "@bottle.route('/')\n",
    "def index():\n",
    "    return bottle.template('index', \n",
    "                           meine_liste=[\"eins\", \"zwei\", \"drei\"])"
   ]
  },
  {
   "cell_type": "code",
   "execution_count": 3,
   "metadata": {},
   "outputs": [
    {
     "name": "stderr",
     "output_type": "stream",
     "text": [
      "Bottle v0.12.13 server starting up (using WSGIRefServer())...\n",
      "Listening on http://127.0.0.1:8082/\n",
      "Hit Ctrl-C to quit.\n",
      "\n",
      "127.0.0.1 - - [14/Nov/2018 09:18:29] \"GET / HTTP/1.1\" 200 275\n",
      "127.0.0.1 - - [14/Nov/2018 09:18:29] \"GET /favicon.ico HTTP/1.1\" 404 742\n"
     ]
    }
   ],
   "source": [
    "bottle.run(host='127.0.0.1', port=8081)"
   ]
  },
  {
   "cell_type": "markdown",
   "metadata": {},
   "source": [
    "## Cheat-Sheet\n",
    "\n",
    "In einem [Cheat-Sheet](bottle-cheatsheet.pdf) werden die wichtigsten Dinge\n",
    "zusammenfasst."
   ]
  },
  {
   "cell_type": "code",
   "execution_count": null,
   "metadata": {},
   "outputs": [],
   "source": []
  }
 ],
 "metadata": {
  "kernelspec": {
   "display_name": "Python 3",
   "language": "python",
   "name": "python3"
  },
  "language_info": {
   "codemirror_mode": {
    "name": "ipython",
    "version": 3
   },
   "file_extension": ".py",
   "mimetype": "text/x-python",
   "name": "python",
   "nbconvert_exporter": "python",
   "pygments_lexer": "ipython3",
   "version": "3.5.2"
  }
 },
 "nbformat": 4,
 "nbformat_minor": 2
}
