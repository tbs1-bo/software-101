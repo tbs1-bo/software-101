{
 "cells": [
  {
   "cell_type": "markdown",
   "metadata": {},
   "source": [
    "# Bottle\n",
    "\n",
    "[Bottle](https://bottlepy.org) ist ein Webframework, das leicht mit pip\n",
    "installiert werden kann.\n",
    "\n",
    "\n",
    "## Installation\n",
    "\n",
    "\n",
    "- Linux, MacOS: `pip3 install bottle`\n",
    "- Windows: `pip install bottle` oder `python -m pip install bottle` oder `py -m pip install bottle`"
   ]
  },
  {
   "cell_type": "markdown",
   "metadata": {},
   "source": [
    "## Demo\n",
    "Das Demoprogramm zeigt eine Webseite mit einem Bild und einer Zahl, die \n",
    "sich bei jedem Refresh durch den Browser ändert. \n",
    "\n",
    "![Bild](ball.gif)\n",
    "\n",
    "Für jeden Pfad, der aufgerufen werden kann, muss eine Route in Bottle deklariert\n",
    "werden. Diese Methode muss einfaches HTML an den Browser liefern. Für Dateien\n",
    "muss eine separate Route deklariert werden, die Dateien und kein HTML\n",
    "ausliefert.\n",
    "\n",
    "In einem [Cheat-Sheet](bottle-cheatsheet.pdf) werden die wichtigsten Dinge\n",
    "zusammenfasst."
   ]
  },
  {
   "cell_type": "code",
   "execution_count": 1,
   "metadata": {},
   "outputs": [],
   "source": [
    "import bottle"
   ]
  },
  {
   "cell_type": "markdown",
   "metadata": {},
   "source": [
    "Wir beginnen mit der Route für `/`."
   ]
  },
  {
   "cell_type": "code",
   "execution_count": 2,
   "metadata": {},
   "outputs": [],
   "source": [
    "@bottle.route(\"/\")  # bindung route to a method\n",
    "def index():\n",
    "    html = \"\"\"\n",
    "        <!DOCTYPE html>\n",
    "        <html>\n",
    "          <head><title>Bottle Demo</title></head>\n",
    "          <body>\n",
    "            <h1>Bottle-Demo</h1>\n",
    "          </body>\n",
    "        </html>\n",
    "        \"\"\"\n",
    "\n",
    "    return html"
   ]
  },
  {
   "cell_type": "markdown",
   "metadata": {},
   "source": [
    "Zum Starten des Webservers wird schließlich die Methode `bottle.run` verwendet.\n",
    "Danach ist die Seite unter http://localhost:8081 erreichbar.\n",
    "Neben dem Parameter für den `host` und `port` gibt es die Option `reloader=True`.\n",
    "Sie startet den Server automatisch neu, sobald sich eine der Python-Dateien geändert\n",
    "hat. Bei der Entwicklung ist dies besonders hilfreich."
   ]
  },
  {
   "cell_type": "code",
   "execution_count": 3,
   "metadata": {},
   "outputs": [
    {
     "name": "stderr",
     "output_type": "stream",
     "text": [
      "Bottle v0.12.13 server starting up (using WSGIRefServer())...\n",
      "Listening on http://127.0.0.1:8081/\n",
      "Hit Ctrl-C to quit.\n",
      "\n",
      "127.0.0.1 - - [24/Sep/2018 16:14:36] \"GET / HTTP/1.1\" 200 182\n"
     ]
    }
   ],
   "source": [
    "bottle.run(host=\"127.0.0.1\", port=8081)"
   ]
  },
  {
   "cell_type": "markdown",
   "metadata": {},
   "source": [
    "Unter http://127.0.0.1:8081 ist die Seite nun erreichbar."
   ]
  },
  {
   "cell_type": "markdown",
   "metadata": {},
   "source": [
    "## Dynamische Webseiten\n",
    "\n",
    "Nun soll die Seite entwas dynamischer werden und einen Zeitstempel bei jeder Abfrage ausgeben."
   ]
  },
  {
   "cell_type": "code",
   "execution_count": 4,
   "metadata": {},
   "outputs": [],
   "source": [
    "import time\n",
    "\n",
    "@bottle.route(\"/\")  # bindung route to a method\n",
    "def index():\n",
    "    t = time.time()\n",
    "    html = \"\"\"\n",
    "        <!DOCTYPE html>\n",
    "        <html>\n",
    "          <head><title>Bottle Demo</title></head>\n",
    "          <body>\n",
    "            <h1>Bottle-Demo</h1>\n",
    "            {sekseit1970} Sekunden seit dem 1.1.1970. \n",
    "          </body>\n",
    "        </html>\n",
    "        \"\"\"\n",
    "\n",
    "    # return HTML but replace variable in string before\n",
    "    return html.format(sekseit1970=t)"
   ]
  },
  {
   "cell_type": "markdown",
   "metadata": {},
   "source": [
    "Wenn wir den Server nun starten, wird bei jedem Aufruf der Zeitstempel im Ergebnis ersetzt."
   ]
  },
  {
   "cell_type": "code",
   "execution_count": 5,
   "metadata": {},
   "outputs": [
    {
     "name": "stderr",
     "output_type": "stream",
     "text": [
      "Bottle v0.12.13 server starting up (using WSGIRefServer())...\n",
      "Listening on http://127.0.0.1:8081/\n",
      "Hit Ctrl-C to quit.\n",
      "\n",
      "127.0.0.1 - - [24/Sep/2018 16:14:56] \"GET / HTTP/1.1\" 200 242\n",
      "127.0.0.1 - - [24/Sep/2018 16:14:59] \"GET / HTTP/1.1\" 200 242\n"
     ]
    }
   ],
   "source": [
    "bottle.run(host=\"127.0.0.1\", port=8081)"
   ]
  },
  {
   "cell_type": "markdown",
   "metadata": {},
   "source": [
    "## Bilder ausgeben\n",
    "\n",
    "Schließlich soll noch ein Bild auf der Webseite erscheinen."
   ]
  },
  {
   "cell_type": "code",
   "execution_count": 6,
   "metadata": {},
   "outputs": [],
   "source": [
    "@bottle.route(\"/\")  # bindung route to a method\n",
    "def index():\n",
    "    html = \"\"\"\n",
    "        <!DOCTYPE html>\n",
    "        <html>\n",
    "          <head><title>Bottle Demo</title></head>\n",
    "          <body>\n",
    "            <h1>Bottle-Demo</h1>\n",
    "            <img src=\"/img/ball.gif\" />\n",
    "          </body>\n",
    "        </html>\n",
    "        \"\"\"\n",
    "\n",
    "    return html"
   ]
  },
  {
   "cell_type": "markdown",
   "metadata": {},
   "source": [
    "In einem ersten Schritt schlägt die Anzeige jedoch fehl. Es noch eine Route für das Bild."
   ]
  },
  {
   "cell_type": "code",
   "execution_count": 7,
   "metadata": {},
   "outputs": [
    {
     "name": "stderr",
     "output_type": "stream",
     "text": [
      "Bottle v0.12.13 server starting up (using WSGIRefServer())...\n",
      "Listening on http://127.0.0.1:8081/\n",
      "Hit Ctrl-C to quit.\n",
      "\n",
      "127.0.0.1 - - [24/Sep/2018 16:15:10] \"GET / HTTP/1.1\" 200 222\n"
     ]
    }
   ],
   "source": [
    "bottle.run(host=\"127.0.0.1\", port=8081)"
   ]
  },
  {
   "cell_type": "markdown",
   "metadata": {},
   "source": [
    "In dem HTML-Dokument taucht eine Route `/img/` auf, für die bisher noch \n",
    "keine Methode angegeben wurde. Dies holen wir nun nach. Diese Methode \n",
    "soll jedoch kein HTML, sondern eine Bilddatei `/img/ball.gif` liefern.\n",
    "\n",
    "![Bild](ball.gif)\n",
    "\n",
    "Hierfür können wir die Methode `static_file`im bottle-Modul verwenden."
   ]
  },
  {
   "cell_type": "code",
   "execution_count": 8,
   "metadata": {},
   "outputs": [],
   "source": [
    "@bottle.route(\"/img/<dateiname>\")  # dynamic route\n",
    "def image(dateiname):\n",
    "    return bottle.static_file(filename=dateiname, root=\".\")"
   ]
  },
  {
   "cell_type": "markdown",
   "metadata": {},
   "source": [
    "Wir testen auch diese Methode einmal und rufen sie direkt auf.\n",
    "Diesmal müssen wir einen Dateiname übergeben, da die Methode\n",
    "einen Parameter hat. Auch die Route hat einen Parameter."
   ]
  },
  {
   "cell_type": "code",
   "execution_count": 9,
   "metadata": {},
   "outputs": [
    {
     "data": {
      "text/plain": [
       "Content-Type: image/gif\n",
       "Last-Modified: Sat, 07 Jul 2018 15:57:31 GMT\n",
       "Content-Length: 5015\n",
       "Accept-Ranges: bytes"
      ]
     },
     "execution_count": 9,
     "metadata": {},
     "output_type": "execute_result"
    }
   ],
   "source": [
    "image(\"ball.gif\")"
   ]
  },
  {
   "cell_type": "markdown",
   "metadata": {},
   "source": [
    "Starten wir den Webserver nun erneut."
   ]
  },
  {
   "cell_type": "code",
   "execution_count": 10,
   "metadata": {},
   "outputs": [
    {
     "name": "stderr",
     "output_type": "stream",
     "text": [
      "Bottle v0.12.13 server starting up (using WSGIRefServer())...\n",
      "Listening on http://127.0.0.1:8081/\n",
      "Hit Ctrl-C to quit.\n",
      "\n",
      "127.0.0.1 - - [24/Sep/2018 16:16:19] \"GET / HTTP/1.1\" 200 222\n"
     ]
    }
   ],
   "source": [
    "bottle.run(host=\"127.0.0.1\", port=8081)"
   ]
  },
  {
   "cell_type": "markdown",
   "metadata": {},
   "source": [
    "## Formulare\n",
    "\n",
    "In HTML können mit Formularen Daten an den Webserver übertragen werden. Hierfür wird das [form-tag](https://wiki.selfhtml.org/wiki/HTML/Formulare/form) genutzt. Das `action`-Attribut gibt das Ziel des Formulares an, mit `method` kann die HTTP-Methode für die Übertragung gesetzt werden. Zusätzlich legen wir mit `{req}` einen Teil fest, der später ersetzt werden soll."
   ]
  },
  {
   "cell_type": "code",
   "execution_count": 11,
   "metadata": {},
   "outputs": [],
   "source": [
    "@bottle.route(\"/formular\")\n",
    "def fomular():\n",
    "    return \"\"\"\n",
    "    <!DOCTYPE html>\n",
    "    <html>\n",
    "      <head><title>Bottle Demo</title></head>\n",
    "      <body>\n",
    "        <h1>Bottle-Formular</h1>\n",
    "\n",
    "        <form action=\"/formularauswerter\" method=\"POST\">\n",
    "            <input type=\"textfield\" name=\"eingabefeld\"><br>\n",
    "            <input type=\"submit\" value=\"Absenden\">\n",
    "        </form>\n",
    "        \n",
    "      </body>\n",
    "    </html>\n",
    "    \"\"\""
   ]
  },
  {
   "cell_type": "markdown",
   "metadata": {},
   "source": [
    "Das Formular leitet an die Route `/formularauswerter` weiter. Und zwar mit einem `POST`-Request. Hierfür muss noch eine Methode angegeben werden."
   ]
  },
  {
   "cell_type": "code",
   "execution_count": 12,
   "metadata": {},
   "outputs": [],
   "source": [
    "@bottle.post(\"/formularauswerter\")\n",
    "def fomular():\n",
    "    html = \"\"\"\n",
    "    <!DOCTYPE html>\n",
    "    <html>\n",
    "      <head><title>Bottle Demo</title></head>\n",
    "      <body>\n",
    "        <h1>Bottle-Formular-Auswerter</h1>\n",
    "        Es wurde \"{req}\" eingegeben.\n",
    "      </body>\n",
    "    </html>\n",
    "    \"\"\"\n",
    "    formulareingabe = bottle.request.forms[\"eingabefeld\"]\n",
    "\n",
    "    return html.format(req=formulareingabe)"
   ]
  },
  {
   "cell_type": "code",
   "execution_count": 13,
   "metadata": {},
   "outputs": [
    {
     "name": "stderr",
     "output_type": "stream",
     "text": [
      "Bottle v0.12.13 server starting up (using WSGIRefServer())...\n",
      "Listening on http://127.0.0.1:8081/\n",
      "Hit Ctrl-C to quit.\n",
      "\n",
      "127.0.0.1 - - [24/Sep/2018 16:16:54] \"GET /formular HTTP/1.1\" 200 348\n",
      "127.0.0.1 - - [24/Sep/2018 16:16:59] \"POST /formularauswerter HTTP/1.1\" 200 199\n"
     ]
    }
   ],
   "source": [
    "bottle.run(host=\"127.0.0.1\", port=8081)"
   ]
  },
  {
   "cell_type": "markdown",
   "metadata": {},
   "source": [
    "Nun ist das Formular unter http://localhost:8081/formular erreichbar."
   ]
  },
  {
   "cell_type": "code",
   "execution_count": null,
   "metadata": {},
   "outputs": [],
   "source": []
  }
 ],
 "metadata": {
  "kernelspec": {
   "display_name": "Python 3",
   "language": "python",
   "name": "python3"
  },
  "language_info": {
   "codemirror_mode": {
    "name": "ipython",
    "version": 3
   },
   "file_extension": ".py",
   "mimetype": "text/x-python",
   "name": "python",
   "nbconvert_exporter": "python",
   "pygments_lexer": "ipython3",
   "version": "3.7.0"
  }
 },
 "nbformat": 4,
 "nbformat_minor": 2
}
