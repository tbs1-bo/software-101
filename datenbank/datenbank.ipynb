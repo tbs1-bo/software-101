{
 "cells": [
  {
   "cell_type": "markdown",
   "metadata": {},
   "source": [
    "# Datenbankzugriff\n",
    "\n",
    "## Sqlite\n",
    "\n",
    "Mit dem Python-Paket [sqlite3](https://docs.python.org/library/sqlite3.html)\n",
    "kann auf  sqlite-Datenbanken direkt zugegriffen werden. Es muss daher nicht\n",
    "installiert werden und ist bei jeder Python-Installation vorhanden.\n",
    "\n",
    "In der folgenden Beispielanwendung erstellen wir eine Beispieltabelle,\n",
    "fügen ein paar Daten hinzu und geben diese wieder aus."
   ]
  },
  {
   "cell_type": "code",
   "execution_count": 1,
   "metadata": {},
   "outputs": [],
   "source": [
    "import sqlite3"
   ]
  },
  {
   "cell_type": "markdown",
   "metadata": {},
   "source": [
    "Nach dem Import des `sqlite3`-Moduls können nun Daten hinzugefügt und anschließend wieder ausgelesen werden.\n",
    "Zunächst wird eine Verbindung erstellt und aus dieser eine `Cursor` generiert, mit dem auf die Datenbank\n",
    "zugegriffen werden kann."
   ]
  },
  {
   "cell_type": "code",
   "execution_count": 2,
   "metadata": {},
   "outputs": [],
   "source": [
    "def insert_into_db():\n",
    "    conn = sqlite3.connect(\"datenbank.db\")\n",
    "    c = conn.cursor()\n",
    "    c.execute(\"CREATE TABLE IF NOT EXISTS personen(nr int, name text)\")\n",
    "\n",
    "    for i, name in enumerate([\"Peter\", \"Petra\", \"Hans\", \"Claudia\"]):\n",
    "        # use ? to avoid sql injection\n",
    "        c.execute(\"INSERT INTO personen VALUES(?,?)\", (100+i, name))\n",
    "\n",
    "    conn.commit()\n",
    "    conn.close()\n",
    "\n",
    "insert_into_db()"
   ]
  },
  {
   "cell_type": "markdown",
   "metadata": {},
   "source": [
    "Wir finden nun eine Datei `datenbank.db` im aktuellen Verzeichnis."
   ]
  },
  {
   "cell_type": "code",
   "execution_count": 13,
   "metadata": {},
   "outputs": [
    {
     "name": "stdout",
     "output_type": "stream",
     "text": [
      "datenbank.db\r\n"
     ]
    }
   ],
   "source": [
    "%ls datenbank.db"
   ]
  },
  {
   "cell_type": "markdown",
   "metadata": {},
   "source": [
    "Nun können die Daten wieder aus der Datei gelesen werden."
   ]
  },
  {
   "cell_type": "code",
   "execution_count": 4,
   "metadata": {},
   "outputs": [
    {
     "name": "stdout",
     "output_type": "stream",
     "text": [
      "Nr.\tName\n",
      "100      Peter\n",
      "101      Petra\n",
      "102      Hans\n",
      "103      Claudia\n"
     ]
    }
   ],
   "source": [
    "def select_from_db():\n",
    "    conn = sqlite3.connect(\"datenbank.db\")\n",
    "    c = conn.cursor()\n",
    "    rows = c.execute(\"SELECT nr, name FROM personen\")\n",
    "\n",
    "    print(\"Nr.\\tName\")\n",
    "    for i, name in rows:\n",
    "        print(i, \"    \", name)\n",
    "\n",
    "    conn.close()\n",
    "\n",
    "select_from_db()\n"
   ]
  },
  {
   "cell_type": "markdown",
   "metadata": {},
   "source": [
    "Zum Schluss werden alle Daten wieder gelöscht."
   ]
  },
  {
   "cell_type": "code",
   "execution_count": 5,
   "metadata": {},
   "outputs": [],
   "source": [
    "def del_data():\n",
    "    conn = sqlite3.connect(\"datenbank.db\")\n",
    "    c = conn.cursor()\n",
    "    c.execute(\"DELETE FROM personen\")\n",
    "    \n",
    "    conn.commit()\n",
    "    conn.close()\n",
    "    \n",
    "del_data()"
   ]
  },
  {
   "cell_type": "markdown",
   "metadata": {},
   "source": [
    "## MySQL\n",
    "\n",
    "Für den Zugriff auf eine MySQL-Datenbank muss zusätzlich ein \n",
    "[Connector für \n",
    "MySQL](https://dev.mysql.com/doc/connector-python/en/connector-python-installation-binary.html)\n",
    "installiert werden. Dies kann z.B. mit dem folgenden Aufruf geschehen.\n",
    "\n",
    "    $ pip install mysql-connector-python\n",
    "\n",
    "Die weitere Dokumentation von MySQL enthält verschiedene [Beispiele, die\n",
    "den Umgang mit einer MySQL-Datenbank \n",
    "zeigen](https://dev.mysql.com/doc/connector-python/en/connector-python-examples.html).\n",
    "Der wesentliche Unterschied besteht darin, wie eine Verbindung aufgebaut wird.\n",
    "Nach dem Erzeugen eines Cursors mit ``cursor = eine_connection.cursor()`` kann\n",
    "mit einem Aufruf von ``cursor.execute(...)`` wie im Falle von sqlite auf die \n",
    "Datenbank zugegriffen werden.\n",
    "\n",
    "Das sehr ausführliche [Python MySQL-Tutorial](https://pynative.com/python-mysql-tutorial/)\n",
    "geht auf viele Details genauer ein."
   ]
  }
 ],
 "metadata": {
  "kernelspec": {
   "display_name": "Python 3",
   "language": "python",
   "name": "python3"
  },
  "language_info": {
   "codemirror_mode": {
    "name": "ipython",
    "version": 3
   },
   "file_extension": ".py",
   "mimetype": "text/x-python",
   "name": "python",
   "nbconvert_exporter": "python",
   "pygments_lexer": "ipython3",
   "version": "3.7.0"
  }
 },
 "nbformat": 4,
 "nbformat_minor": 2
}
