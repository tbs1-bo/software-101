{
 "cells": [
  {
   "cell_type": "markdown",
   "metadata": {},
   "source": [
    "# Datenbankzugriff\n",
    "\n",
    "Für die folgenden Beispiele wollen wir eine Tabelle Personen(nr, name) mit den Attributen `nr` und `Name` erstellen und jeweils wieder abfragen."
   ]
  },
  {
   "cell_type": "code",
   "execution_count": 1,
   "metadata": {},
   "outputs": [],
   "source": [
    "TESTDATEN = [[101, \"Peter\"], \n",
    "             [102, \"Petra\"], \n",
    "             [103, \"Hans\"], \n",
    "             [104,\"Claudia\"]]"
   ]
  },
  {
   "cell_type": "markdown",
   "metadata": {},
   "source": [
    "## Sqlite\n",
    "\n",
    "Mit dem Python-Paket [sqlite3](https://docs.python.org/library/sqlite3.html)\n",
    "kann auf  sqlite-Datenbanken direkt zugegriffen werden. Es muss daher nicht\n",
    "installiert werden und ist bei jeder Python-Installation vorhanden.\n",
    "\n",
    "In der folgenden Beispielanwendung erstellen wir eine Beispieltabelle,\n",
    "fügen ein paar Daten hinzu und geben diese wieder aus."
   ]
  },
  {
   "cell_type": "code",
   "execution_count": 2,
   "metadata": {},
   "outputs": [],
   "source": [
    "import sqlite3"
   ]
  },
  {
   "cell_type": "markdown",
   "metadata": {},
   "source": [
    "Nach dem Import des `sqlite3`-Moduls können nun Daten hinzugefügt und anschließend wieder ausgelesen werden.\n",
    "Zunächst wird eine Verbindung erstellt und aus dieser ein `Cursor` generiert, mit dem auf die Datenbank zugegriffen werden kann."
   ]
  },
  {
   "cell_type": "code",
   "execution_count": 3,
   "metadata": {},
   "outputs": [
    {
     "name": "stdout",
     "output_type": "stream",
     "text": [
      "Füge Daten hinzu: 101 Peter\n",
      "Füge Daten hinzu: 102 Petra\n",
      "Füge Daten hinzu: 103 Hans\n",
      "Füge Daten hinzu: 104 Claudia\n"
     ]
    }
   ],
   "source": [
    "def insert_into_db():\n",
    "    conn = sqlite3.connect(\"datenbank.db\")\n",
    "    c = conn.cursor()\n",
    "    c.execute(\"\"\"CREATE TABLE IF NOT EXISTS \n",
    "        personen(nr int, name text)\"\"\")\n",
    "\n",
    "    for nr, name in TESTDATEN:\n",
    "        # use ? to avoid sql injection\n",
    "        print(\"Füge Daten hinzu:\", nr, name)\n",
    "        c.execute(\n",
    "            \"\"\"INSERT INTO personen (nr, name) VALUES(?,?)\"\"\", \n",
    "            (nr, name))\n",
    "\n",
    "    conn.commit()\n",
    "    conn.close()\n",
    "\n",
    "insert_into_db()"
   ]
  },
  {
   "cell_type": "markdown",
   "metadata": {},
   "source": [
    "Wir finden nun eine Datei `datenbank.db` im aktuellen Verzeichnis."
   ]
  },
  {
   "cell_type": "code",
   "execution_count": 4,
   "metadata": {},
   "outputs": [
    {
     "name": "stdout",
     "output_type": "stream",
     "text": [
      "datenbank.db\r\n"
     ]
    }
   ],
   "source": [
    "! ls datenbank.db"
   ]
  },
  {
   "cell_type": "markdown",
   "metadata": {},
   "source": [
    "Die Daten können wieder aus der Datei gelesen werden."
   ]
  },
  {
   "cell_type": "code",
   "execution_count": 5,
   "metadata": {},
   "outputs": [
    {
     "name": "stdout",
     "output_type": "stream",
     "text": [
      "Nr.\t Name\n",
      "101 \t Peter\n",
      "102 \t Petra\n",
      "103 \t Hans\n",
      "104 \t Claudia\n"
     ]
    }
   ],
   "source": [
    "def select_from_db():\n",
    "    conn = sqlite3.connect(\"datenbank.db\")\n",
    "    c = conn.cursor()\n",
    "    rows = c.execute(\"SELECT nr, name FROM personen\")\n",
    "\n",
    "    print(\"Nr.\\t Name\")\n",
    "    for i, name in rows:\n",
    "        print(i, \"\\t\", name)\n",
    "\n",
    "    conn.close()\n",
    "\n",
    "select_from_db()\n"
   ]
  },
  {
   "cell_type": "markdown",
   "metadata": {},
   "source": [
    "Zum Schluss werden alle Daten wieder gelöscht."
   ]
  },
  {
   "cell_type": "code",
   "execution_count": 6,
   "metadata": {},
   "outputs": [],
   "source": [
    "def del_data():\n",
    "    conn = sqlite3.connect(\"datenbank.db\")\n",
    "    c = conn.cursor()\n",
    "    c.execute(\"DELETE FROM personen\")\n",
    "    \n",
    "    conn.commit()\n",
    "    conn.close()\n",
    "    \n",
    "del_data()"
   ]
  },
  {
   "cell_type": "markdown",
   "metadata": {},
   "source": [
    "Wir löschen auch die Datenbank-Datei."
   ]
  },
  {
   "cell_type": "code",
   "execution_count": 7,
   "metadata": {},
   "outputs": [],
   "source": [
    "! rm datenbank.db"
   ]
  },
  {
   "cell_type": "markdown",
   "metadata": {},
   "source": [
    "## MySQL\n",
    "\n",
    "Für den Zugriff auf eine MySQL-Datenbank muss zusätzlich ein \n",
    "[Connector für \n",
    "MySQL](https://dev.mysql.com/doc/connector-python/en/connector-python-installation-binary.html)\n",
    "installiert werden. Dies kann z.B. mit dem folgenden Aufruf geschehen.\n",
    "\n",
    "    $ pip install mysql-connector-python\n",
    "    \n",
    "Wenn alles geklappt hat, können wir im Anschluss das neue Modul importieren."
   ]
  },
  {
   "cell_type": "code",
   "execution_count": 8,
   "metadata": {},
   "outputs": [],
   "source": [
    "import mysql.connector"
   ]
  },
  {
   "cell_type": "markdown",
   "metadata": {},
   "source": [
    "Wie stellen eine Verbindung mit der Datenbank her. Diesmal müssen wir Zugangsdaten und die Datenbank angeben."
   ]
  },
  {
   "cell_type": "code",
   "execution_count": 9,
   "metadata": {},
   "outputs": [],
   "source": [
    "cnx = mysql.connector.connect(user='root', password='',\n",
    "                              host='127.0.0.1',\n",
    "                              database='test')\n",
    "cnx.close()"
   ]
  },
  {
   "cell_type": "markdown",
   "metadata": {},
   "source": [
    "Nun können wir eine Tabelle `personen` in der Datenbank `test` erstellen."
   ]
  },
  {
   "cell_type": "code",
   "execution_count": 10,
   "metadata": {},
   "outputs": [],
   "source": [
    "conn = mysql.connector.connect(user='root', password='',\n",
    "                              host='127.0.0.1',\n",
    "                              database='test')\n",
    "c = conn.cursor()\n",
    "c.execute(\"\"\"DROP TABLE IF EXISTS personen\"\"\")\n",
    "c.execute(\"\"\"CREATE TABLE IF NOT EXISTS \n",
    "          personen(nr int, name text)\"\"\")\n",
    "\n",
    "cnx.close()"
   ]
  },
  {
   "cell_type": "markdown",
   "metadata": {},
   "source": [
    "Wir benutzen das Kommandozeilentool `mysql` und lassen uns die Tabellen in der Datenbank `test` anzeigen."
   ]
  },
  {
   "cell_type": "code",
   "execution_count": 11,
   "metadata": {},
   "outputs": [
    {
     "name": "stdout",
     "output_type": "stream",
     "text": [
      "+----------------+\r\n",
      "| Tables_in_test |\r\n",
      "+----------------+\r\n",
      "| personen       |\r\n",
      "+----------------+\r\n"
     ]
    }
   ],
   "source": [
    "! mysql -uroot --execute=\"SHOW TABLES;\" test "
   ]
  },
  {
   "cell_type": "markdown",
   "metadata": {},
   "source": [
    "Nun können wir neue Daten in die Tabelle einfügen.\n",
    "\n",
    "**Achtung:** Die Platzhalter beim Einfügen werden unter MySQL anders angegeben. Außerdem muss die Anweisung mit einem COMMIT in die Datenbank übertragen werden."
   ]
  },
  {
   "cell_type": "code",
   "execution_count": 12,
   "metadata": {},
   "outputs": [
    {
     "name": "stdout",
     "output_type": "stream",
     "text": [
      "Füge Daten hinzu: 101 Peter\n",
      "Füge Daten hinzu: 102 Petra\n",
      "Füge Daten hinzu: 103 Hans\n",
      "Füge Daten hinzu: 104 Claudia\n"
     ]
    }
   ],
   "source": [
    "conn = mysql.connector.connect(user=\"root\", password=\"\",\n",
    "                              host=\"127.0.0.1\", database=\"test\")\n",
    "c = conn.cursor()\n",
    "for nr, name in TESTDATEN:\n",
    "    print(\"Füge Daten hinzu:\", nr, name)\n",
    "    c.execute(\n",
    "        \"\"\"INSERT INTO personen (nr, name) VALUES(%s,%s)\"\"\", \n",
    "        (nr, name))\n",
    "conn.commit()\n",
    "conn.close()"
   ]
  },
  {
   "cell_type": "markdown",
   "metadata": {},
   "source": [
    "Schließlich werden die Daten wieder mit einer SELECT-Anweisung aus der Datenbank abgefragt. Wir nutzen zunächst den Kommandozeilen-Client."
   ]
  },
  {
   "cell_type": "code",
   "execution_count": 13,
   "metadata": {},
   "outputs": [
    {
     "name": "stdout",
     "output_type": "stream",
     "text": [
      "+------+---------+\r\n",
      "| nr   | name    |\r\n",
      "+------+---------+\r\n",
      "|  101 | Peter   |\r\n",
      "|  102 | Petra   |\r\n",
      "|  103 | Hans    |\r\n",
      "|  104 | Claudia |\r\n",
      "+------+---------+\r\n"
     ]
    }
   ],
   "source": [
    "! mysql -uroot --execute=\"SELECT * FROM personen\" test "
   ]
  },
  {
   "cell_type": "markdown",
   "metadata": {},
   "source": [
    "Die Daten können natürlich auch mit Python abgerufen werden. Auch hier gibt es einen Unterschied zu der Version mit sqlite: `execute` liefert auch für Abfragen keinen Rückgabewert. Stattdessen wird über den Cursor iteriert."
   ]
  },
  {
   "cell_type": "code",
   "execution_count": 14,
   "metadata": {},
   "outputs": [
    {
     "name": "stdout",
     "output_type": "stream",
     "text": [
      "101 Peter\n",
      "102 Petra\n",
      "103 Hans\n",
      "104 Claudia\n"
     ]
    }
   ],
   "source": [
    "conn = mysql.connector.connect(user=\"root\", password=\"\",\n",
    "                               host=\"127.0.0.1\", database=\"test\")\n",
    "c = conn.cursor()\n",
    "c.execute(\"SELECT nr,name FROM personen\")\n",
    "for nr, name in c:\n",
    "    print(nr, name)\n",
    "    \n",
    "conn.close()"
   ]
  },
  {
   "cell_type": "markdown",
   "metadata": {},
   "source": [
    "Die weitere Dokumentation von MySQL enthält verschiedene [Beispiele, die\n",
    "den Umgang mit einer MySQL-Datenbank \n",
    "zeigen](https://dev.mysql.com/doc/connector-python/en/connector-python-examples.html).\n",
    "Der wesentliche Unterschied besteht darin, wie eine Verbindung aufgebaut wird.\n",
    "Nach dem Erzeugen eines Cursors mit ``cursor = eine_connection.cursor()`` kann\n",
    "mit einem Aufruf von ``cursor.execute(...)`` wie im Falle von sqlite auf die \n",
    "Datenbank zugegriffen werden.\n",
    "\n",
    "Das sehr ausführliche [Python MySQL-Tutorial](https://pynative.com/python-mysql-tutorial/)\n",
    "geht auf viele Details genauer ein."
   ]
  }
 ],
 "metadata": {
  "kernelspec": {
   "display_name": "Python 3",
   "language": "python",
   "name": "python3"
  },
  "language_info": {
   "codemirror_mode": {
    "name": "ipython",
    "version": 3
   },
   "file_extension": ".py",
   "mimetype": "text/x-python",
   "name": "python",
   "nbconvert_exporter": "python",
   "pygments_lexer": "ipython3",
   "version": "3.7.0"
  }
 },
 "nbformat": 4,
 "nbformat_minor": 2
}
