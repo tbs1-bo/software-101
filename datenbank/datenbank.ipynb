{
 "cells": [
  {
   "cell_type": "markdown",
   "metadata": {},
   "source": [
    "# Datenbankzugriff\n",
    "\n",
    "Für die folgenden Beispiele wollen wir eine Tabelle Personen(nr, name) mit den Attributen `nr` und `Name` erstellen und jeweils wieder abfragen."
   ]
  },
  {
   "cell_type": "code",
   "execution_count": 1,
   "metadata": {},
   "outputs": [],
   "source": [
    "TESTDATEN = [[101, \"Peter\"], \n",
    "             [102, \"Petra\"], \n",
    "             [103, \"Hans\"], \n",
    "             [104, \"Claudia\"]]"
   ]
  },
  {
   "cell_type": "markdown",
   "metadata": {},
   "source": [
    "## Sqlite\n",
    "\n",
    "Mit dem Python-Paket [sqlite3](https://docs.python.org/library/sqlite3.html)\n",
    "kann auf  sqlite-Datenbanken direkt zugegriffen werden. Es muss daher nicht\n",
    "installiert werden und ist bei jeder Python-Installation vorhanden.\n",
    "\n",
    "In der folgenden Beispielanwendung erstellen wir eine Beispieltabelle,\n",
    "fügen ein paar Daten hinzu und geben diese wieder aus."
   ]
  },
  {
   "cell_type": "code",
   "execution_count": 2,
   "metadata": {},
   "outputs": [],
   "source": [
    "import sqlite3"
   ]
  },
  {
   "cell_type": "markdown",
   "metadata": {},
   "source": [
    "Nach dem Import des `sqlite3`-Moduls können nun Daten hinzugefügt und anschließend wieder ausgelesen werden.\n",
    "Zunächst wird eine Verbindung erstellt und aus dieser ein `Cursor` generiert, mit dem auf die Datenbank zugegriffen werden kann."
   ]
  },
  {
   "cell_type": "code",
   "execution_count": 3,
   "metadata": {},
   "outputs": [
    {
     "name": "stdout",
     "output_type": "stream",
     "text": [
      "Füge Daten hinzu: 101 Peter\n",
      "Füge Daten hinzu: 102 Petra\n",
      "Füge Daten hinzu: 103 Hans\n",
      "Füge Daten hinzu: 104 Claudia\n"
     ]
    }
   ],
   "source": [
    "def insert_into_db():\n",
    "    conn = sqlite3.connect(\"datenbank.db\")\n",
    "    c = conn.cursor()\n",
    "    c.execute(\"\"\"CREATE TABLE IF NOT EXISTS \n",
    "        personen(nr int, name text)\"\"\")\n",
    "\n",
    "    for nr, name in TESTDATEN:\n",
    "        # use ? to avoid sql injection\n",
    "        print(\"Füge Daten hinzu:\", nr, name)\n",
    "        c.execute(\n",
    "            \"\"\"INSERT INTO personen (nr, name) VALUES(?,?)\"\"\", \n",
    "            (nr, name))\n",
    "\n",
    "    conn.commit()\n",
    "    conn.close()\n",
    "\n",
    "insert_into_db()"
   ]
  },
  {
   "cell_type": "markdown",
   "metadata": {},
   "source": [
    "Wir finden nun eine Datei `datenbank.db` im aktuellen Verzeichnis."
   ]
  },
  {
   "cell_type": "code",
   "execution_count": 4,
   "metadata": {},
   "outputs": [
    {
     "name": "stdout",
     "output_type": "stream",
     "text": [
      "datenbank.db\r\n"
     ]
    }
   ],
   "source": [
    "! ls datenbank.db"
   ]
  },
  {
   "cell_type": "markdown",
   "metadata": {},
   "source": [
    "Die Daten können wieder aus der Datei gelesen werden."
   ]
  },
  {
   "cell_type": "code",
   "execution_count": 5,
   "metadata": {},
   "outputs": [
    {
     "name": "stdout",
     "output_type": "stream",
     "text": [
      "Nr.\t Name\n",
      "101 \t Peter\n",
      "102 \t Petra\n",
      "103 \t Hans\n",
      "104 \t Claudia\n"
     ]
    }
   ],
   "source": [
    "def select_from_db():\n",
    "    conn = sqlite3.connect(\"datenbank.db\")\n",
    "    c = conn.cursor()\n",
    "    rows = c.execute(\"SELECT nr, name FROM personen\")\n",
    "\n",
    "    print(\"Nr.\\t Name\")\n",
    "    for i, name in rows:\n",
    "        print(i, \"\\t\", name)\n",
    "\n",
    "    conn.close()\n",
    "\n",
    "select_from_db()\n"
   ]
  },
  {
   "cell_type": "markdown",
   "metadata": {},
   "source": [
    "Zum Schluss werden alle Daten wieder gelöscht."
   ]
  },
  {
   "cell_type": "code",
   "execution_count": 6,
   "metadata": {},
   "outputs": [],
   "source": [
    "def del_data():\n",
    "    conn = sqlite3.connect(\"datenbank.db\")\n",
    "    c = conn.cursor()\n",
    "    c.execute(\"DELETE FROM personen\")\n",
    "    \n",
    "    conn.commit()\n",
    "    conn.close()\n",
    "    \n",
    "del_data()"
   ]
  },
  {
   "cell_type": "markdown",
   "metadata": {},
   "source": [
    "Wir löschen auch die Datenbank-Datei."
   ]
  },
  {
   "cell_type": "code",
   "execution_count": 7,
   "metadata": {},
   "outputs": [],
   "source": [
    "! rm datenbank.db"
   ]
  },
  {
   "cell_type": "markdown",
   "metadata": {},
   "source": [
    "## MySQL\n",
    "\n",
    "Für den Zugriff auf eine MySQL-Datenbank muss zusätzlich ein \n",
    "[Connector für \n",
    "MySQL](https://dev.mysql.com/doc/connector-python/en/connector-python-installation-binary.html)\n",
    "installiert werden. Dies kann z.B. mit dem folgenden Aufruf geschehen.\n",
    "\n",
    "    $ pip install mysql-connector-python\n",
    "\n",
    "Bei Rechteproblemen:\n",
    "\n",
    "    $ pip install --user mysql-connector-python\n",
    "\n",
    "Wenn alles geklappt hat, können wir im Anschluss das neue Modul importieren."
   ]
  },
  {
   "cell_type": "code",
   "execution_count": 8,
   "metadata": {},
   "outputs": [],
   "source": [
    "import mysql.connector"
   ]
  },
  {
   "cell_type": "markdown",
   "metadata": {},
   "source": [
    "Wie stellen eine Verbindung mit der Datenbank her. Diesmal müssen wir Zugangsdaten und die Datenbank angeben."
   ]
  },
  {
   "cell_type": "code",
   "execution_count": 9,
   "metadata": {},
   "outputs": [],
   "source": [
    "conn = mysql.connector.connect(user='root', password='',\n",
    "                               host='127.0.0.1',\n",
    "                               database='test')\n",
    "conn.close()"
   ]
  },
  {
   "cell_type": "markdown",
   "metadata": {},
   "source": [
    "Nun können wir eine Tabelle `personen` in der Datenbank `test` erstellen."
   ]
  },
  {
   "cell_type": "code",
   "execution_count": 10,
   "metadata": {},
   "outputs": [],
   "source": [
    "conn = mysql.connector.connect(user='root', password='',\n",
    "                              host='127.0.0.1',\n",
    "                              database='test')\n",
    "c = conn.cursor()\n",
    "c.execute(\"\"\"DROP TABLE IF EXISTS personen\"\"\")\n",
    "c.execute(\"\"\"CREATE TABLE IF NOT EXISTS \n",
    "          personen(nr int, name text)\"\"\")\n",
    "\n",
    "conn.close()"
   ]
  },
  {
   "cell_type": "markdown",
   "metadata": {},
   "source": [
    "Wir benutzen das Kommandozeilentool `mysql` und lassen uns die Tabellen in der Datenbank `test` anzeigen."
   ]
  },
  {
   "cell_type": "code",
   "execution_count": 11,
   "metadata": {},
   "outputs": [
    {
     "name": "stdout",
     "output_type": "stream",
     "text": [
      "+----------------+\r\n",
      "| Tables_in_test |\r\n",
      "+----------------+\r\n",
      "| personen       |\r\n",
      "+----------------+\r\n"
     ]
    }
   ],
   "source": [
    "! mysql -uroot --execute=\"SHOW TABLES;\" test "
   ]
  },
  {
   "cell_type": "markdown",
   "metadata": {},
   "source": [
    "Nun können wir neue Daten in die Tabelle einfügen.\n",
    "\n",
    "**Achtung:** Die Platzhalter beim Einfügen werden unter MySQL anders angegeben. Außerdem muss die Anweisung mit einem COMMIT in die Datenbank übertragen werden."
   ]
  },
  {
   "cell_type": "code",
   "execution_count": 12,
   "metadata": {},
   "outputs": [
    {
     "name": "stdout",
     "output_type": "stream",
     "text": [
      "Füge Daten hinzu: 101 Peter\n",
      "Füge Daten hinzu: 102 Petra\n",
      "Füge Daten hinzu: 103 Hans\n",
      "Füge Daten hinzu: 104 Claudia\n"
     ]
    }
   ],
   "source": [
    "conn = mysql.connector.connect(user=\"root\", password=\"\",\n",
    "                              host=\"127.0.0.1\", database=\"test\")\n",
    "c = conn.cursor()\n",
    "for nr, name in TESTDATEN:\n",
    "    print(\"Füge Daten hinzu:\", nr, name)\n",
    "    c.execute(\n",
    "        \"\"\"INSERT INTO personen (nr, name) VALUES(%s,%s)\"\"\", \n",
    "        (nr, name))\n",
    "conn.commit()\n",
    "conn.close()"
   ]
  },
  {
   "cell_type": "markdown",
   "metadata": {},
   "source": [
    "Schließlich werden die Daten wieder mit einer SELECT-Anweisung aus der Datenbank abgefragt. Wir nutzen zunächst den Kommandozeilen-Client."
   ]
  },
  {
   "cell_type": "code",
   "execution_count": 13,
   "metadata": {},
   "outputs": [
    {
     "name": "stdout",
     "output_type": "stream",
     "text": [
      "+------+---------+\r\n",
      "| nr   | name    |\r\n",
      "+------+---------+\r\n",
      "|  101 | Peter   |\r\n",
      "|  102 | Petra   |\r\n",
      "|  103 | Hans    |\r\n",
      "|  104 | Claudia |\r\n",
      "+------+---------+\r\n"
     ]
    }
   ],
   "source": [
    "! mysql -uroot --execute=\"SELECT * FROM personen\" test "
   ]
  },
  {
   "cell_type": "markdown",
   "metadata": {},
   "source": [
    "Die Daten können natürlich auch mit Python abgerufen werden. Auch hier gibt es einen Unterschied zu der Version mit sqlite: `execute` liefert auch für Abfragen keinen Rückgabewert. Stattdessen wird über den Cursor iteriert."
   ]
  },
  {
   "cell_type": "code",
   "execution_count": 14,
   "metadata": {},
   "outputs": [
    {
     "name": "stdout",
     "output_type": "stream",
     "text": [
      "101 Peter\n",
      "102 Petra\n",
      "103 Hans\n",
      "104 Claudia\n"
     ]
    }
   ],
   "source": [
    "conn = mysql.connector.connect(user=\"root\", password=\"\",\n",
    "                               host=\"127.0.0.1\", database=\"test\")\n",
    "c = conn.cursor()\n",
    "c.execute(\"SELECT nr,name FROM personen\")\n",
    "for nr, name in c:\n",
    "    print(nr, name)\n",
    "    \n",
    "conn.close()"
   ]
  },
  {
   "cell_type": "markdown",
   "metadata": {},
   "source": [
    "Die weitere Dokumentation von MySQL enthält verschiedene [Beispiele, die\n",
    "den Umgang mit einer MySQL-Datenbank \n",
    "zeigen](https://dev.mysql.com/doc/connector-python/en/connector-python-examples.html).\n",
    "Der wesentliche Unterschied besteht darin, wie eine Verbindung aufgebaut wird.\n",
    "Nach dem Erzeugen eines Cursors mit ``cursor = eine_connection.cursor()`` kann\n",
    "mit einem Aufruf von ``cursor.execute(...)`` wie im Falle von sqlite auf die \n",
    "Datenbank zugegriffen werden.\n",
    "\n",
    "Das sehr ausführliche [Python MySQL-Tutorial](https://pynative.com/python-mysql-tutorial/)\n",
    "geht auf viele Details genauer ein."
   ]
  },
  {
   "cell_type": "markdown",
   "metadata": {},
   "source": [
    "## NoSQL mit TinyDB\n",
    "\n",
    "Jenseits von SQL gibt es noch verschiedene andere Ansätze, Daten in Datenbanken zu verwalten - hierbei werden keine Tabellen verwendet. Einer der Ansätze ist z.B. eine dokument-basierte Datenbank. Hier werden Daten als Dokumente wie z.B. JSON abgelegt werden. [TinyDB](https://tinydb.readthedocs.io/) ist eine solche Datenbank für Python."
   ]
  },
  {
   "cell_type": "markdown",
   "metadata": {},
   "source": [
    "### Installation\n",
    "\n",
    "Die Installation erfolgt auch hier einfach mit Hilfe von pip:\n",
    "\n",
    "    $ pip install tinydb"
   ]
  },
  {
   "cell_type": "code",
   "execution_count": 15,
   "metadata": {},
   "outputs": [],
   "source": [
    "import tinydb"
   ]
  },
  {
   "cell_type": "markdown",
   "metadata": {},
   "source": [
    "Eine Datenbank kann mit der Klasse `TinyDB` leicht erzeugt werden. Wie bei sqlite werden die Daten direkt in einer Datei gespeichert."
   ]
  },
  {
   "cell_type": "code",
   "execution_count": 16,
   "metadata": {},
   "outputs": [],
   "source": [
    "db = tinydb.TinyDB(\"db.json\")"
   ]
  },
  {
   "cell_type": "markdown",
   "metadata": {},
   "source": [
    "Die Datei `db.json` wurd als Textdatei angelegt. Wir können den Inhalt daher leicht betrachten und ggf. verändern."
   ]
  },
  {
   "cell_type": "code",
   "execution_count": 17,
   "metadata": {},
   "outputs": [
    {
     "name": "stdout",
     "output_type": "stream",
     "text": [
      "db.json: ASCII text, with no line terminators\r\n"
     ]
    }
   ],
   "source": [
    "! file db.json"
   ]
  },
  {
   "cell_type": "code",
   "execution_count": 18,
   "metadata": {},
   "outputs": [
    {
     "name": "stdout",
     "output_type": "stream",
     "text": [
      "{\"_default\": {}}"
     ]
    }
   ],
   "source": [
    "! cat db.json"
   ]
  },
  {
   "cell_type": "markdown",
   "metadata": {},
   "source": [
    "### Daten hinzufügen\n",
    "\n",
    "Noch ist die Datenbank leer. Füllen wir sie also mir ein paar Daten. Die Daten können einfache Dictionaries seind."
   ]
  },
  {
   "cell_type": "code",
   "execution_count": 19,
   "metadata": {},
   "outputs": [
    {
     "data": {
      "text/plain": [
       "1"
      ]
     },
     "execution_count": 19,
     "metadata": {},
     "output_type": "execute_result"
    }
   ],
   "source": [
    "db.insert({\"type\": \"apple\", \"count\": 7})"
   ]
  },
  {
   "cell_type": "code",
   "execution_count": 20,
   "metadata": {},
   "outputs": [
    {
     "data": {
      "text/plain": [
       "2"
      ]
     },
     "execution_count": 20,
     "metadata": {},
     "output_type": "execute_result"
    }
   ],
   "source": [
    "db.insert({\"type\": \"peach\", \"count\": 3})"
   ]
  },
  {
   "cell_type": "markdown",
   "metadata": {},
   "source": [
    "Als Rückgabewert erhalten wir eine ID für den neuen Eintrag. Ein anschließender Blick in die Datei offenbart die neuen Inhalte."
   ]
  },
  {
   "cell_type": "code",
   "execution_count": 21,
   "metadata": {},
   "outputs": [
    {
     "name": "stdout",
     "output_type": "stream",
     "text": [
      "{\"_default\": {\"1\": {\"type\": \"apple\", \"count\": 7}, \"2\": {\"type\": \"peach\", \"count\": 3}}}"
     ]
    }
   ],
   "source": [
    "! cat db.json"
   ]
  },
  {
   "cell_type": "markdown",
   "metadata": {},
   "source": [
    "Wir sehen einen Eintrag `_default`, der auf den Namen der Standardtabelle hinweist, mit der wir arbeiten. Dazu noch die hinzugefügten Einträge."
   ]
  },
  {
   "cell_type": "markdown",
   "metadata": {},
   "source": [
    "### Daten abfragen\n",
    "\n",
    "Lassen wir uns alle Einträge einmal anzeigen."
   ]
  },
  {
   "cell_type": "code",
   "execution_count": 22,
   "metadata": {},
   "outputs": [
    {
     "data": {
      "text/plain": [
       "[{'type': 'apple', 'count': 7}, {'type': 'peach', 'count': 3}]"
      ]
     },
     "execution_count": 22,
     "metadata": {},
     "output_type": "execute_result"
    }
   ],
   "source": [
    "db.all()"
   ]
  },
  {
   "cell_type": "markdown",
   "metadata": {},
   "source": [
    "Über diese Liste aus Einzeleinträgen kann auch mit einer Schleife iteriert werden."
   ]
  },
  {
   "cell_type": "code",
   "execution_count": 23,
   "metadata": {},
   "outputs": [
    {
     "name": "stdout",
     "output_type": "stream",
     "text": [
      "{'type': 'apple', 'count': 7} Typ: apple\n",
      "{'type': 'peach', 'count': 3} Typ: peach\n"
     ]
    }
   ],
   "source": [
    "for item in db:\n",
    "    print(item, \"Typ:\", item[\"type\"])"
   ]
  },
  {
   "cell_type": "markdown",
   "metadata": {},
   "source": [
    "Bis jetzt haben wir noch nicht viel gewonnen gegenüber einer direkten Speicherung eines Dictionaries. Dokumentenbasierte Datenbanken wie TinyDB bieten jedoch die Möglichkeit komplexere Anfrage zu stellen.\n",
    "\n",
    "Hierfür wird ein Query-Objekt erzeugt."
   ]
  },
  {
   "cell_type": "code",
   "execution_count": 24,
   "metadata": {},
   "outputs": [],
   "source": [
    "query = tinydb.Query()"
   ]
  },
  {
   "cell_type": "markdown",
   "metadata": {},
   "source": [
    "In der `search`-Methode kann das Query-Objekt für Abfragen genutzt werden."
   ]
  },
  {
   "cell_type": "code",
   "execution_count": 25,
   "metadata": {},
   "outputs": [
    {
     "data": {
      "text/plain": [
       "[{'type': 'apple', 'count': 7}]"
      ]
     },
     "execution_count": 25,
     "metadata": {},
     "output_type": "execute_result"
    }
   ],
   "source": [
    "db.search(query.type == \"apple\")"
   ]
  },
  {
   "cell_type": "code",
   "execution_count": 26,
   "metadata": {},
   "outputs": [
    {
     "data": {
      "text/plain": [
       "[{'type': 'peach', 'count': 3}]"
      ]
     },
     "execution_count": 26,
     "metadata": {},
     "output_type": "execute_result"
    }
   ],
   "source": [
    "db.search(query.count < 5)"
   ]
  },
  {
   "cell_type": "markdown",
   "metadata": {},
   "source": [
    "Mit `get` greifen wir auf das erste Ergebnis einer Suche zu. Jeder Eintrag in der Datenbank hat eine eindeutige ID, die über das Attribut `doc_id` abgefragt werden kann."
   ]
  },
  {
   "cell_type": "code",
   "execution_count": 27,
   "metadata": {},
   "outputs": [
    {
     "data": {
      "text/plain": [
       "2"
      ]
     },
     "execution_count": 27,
     "metadata": {},
     "output_type": "execute_result"
    }
   ],
   "source": [
    "apple = db.get(query.type == \"peach\")\n",
    "apple.doc_id"
   ]
  },
  {
   "cell_type": "markdown",
   "metadata": {},
   "source": [
    "Mit der ID können Einträge auch direkt abgerufen werden."
   ]
  },
  {
   "cell_type": "code",
   "execution_count": 28,
   "metadata": {},
   "outputs": [
    {
     "data": {
      "text/plain": [
       "{'type': 'peach', 'count': 3}"
      ]
     },
     "execution_count": 28,
     "metadata": {},
     "output_type": "execute_result"
    }
   ],
   "source": [
    "db.get(doc_id = 2)"
   ]
  },
  {
   "cell_type": "markdown",
   "metadata": {},
   "source": [
    "### Daten aktualisieren\n",
    "\n",
    "Auch Aktualisierungen werden über das Query-Objekt gemacht, wenn nicht alle Datensätze geändert werden sollen."
   ]
  },
  {
   "cell_type": "code",
   "execution_count": 29,
   "metadata": {},
   "outputs": [
    {
     "data": {
      "text/plain": [
       "[1]"
      ]
     },
     "execution_count": 29,
     "metadata": {},
     "output_type": "execute_result"
    }
   ],
   "source": [
    "db.update({\"count\": 10}, query.type == \"apple\")"
   ]
  },
  {
   "cell_type": "markdown",
   "metadata": {},
   "source": [
    "Wird keine Bedingung mit einem Query-Objekt verwendet, so werden alle Datensätze geändert."
   ]
  },
  {
   "cell_type": "code",
   "execution_count": 30,
   "metadata": {},
   "outputs": [
    {
     "data": {
      "text/plain": [
       "[1, 2]"
      ]
     },
     "execution_count": 30,
     "metadata": {},
     "output_type": "execute_result"
    }
   ],
   "source": [
    "db.update({\"new_key\": \"new_value\"})"
   ]
  },
  {
   "cell_type": "code",
   "execution_count": 31,
   "metadata": {},
   "outputs": [
    {
     "data": {
      "text/plain": [
       "[{'type': 'apple', 'count': 10, 'new_key': 'new_value'},\n",
       " {'type': 'peach', 'count': 3, 'new_key': 'new_value'}]"
      ]
     },
     "execution_count": 31,
     "metadata": {},
     "output_type": "execute_result"
    }
   ],
   "source": [
    "db.all()"
   ]
  },
  {
   "cell_type": "markdown",
   "metadata": {},
   "source": [
    "Schließlich löschen wir wieder alle Einträge."
   ]
  },
  {
   "cell_type": "code",
   "execution_count": 32,
   "metadata": {},
   "outputs": [
    {
     "data": {
      "text/plain": [
       "[]"
      ]
     },
     "execution_count": 32,
     "metadata": {},
     "output_type": "execute_result"
    }
   ],
   "source": [
    "db.purge()\n",
    "db.all()"
   ]
  },
  {
   "cell_type": "markdown",
   "metadata": {},
   "source": [
    "Und löschen auch die Datenbankdatei."
   ]
  },
  {
   "cell_type": "code",
   "execution_count": 33,
   "metadata": {},
   "outputs": [],
   "source": [
    "! rm db.json"
   ]
  },
  {
   "cell_type": "markdown",
   "metadata": {},
   "source": [
    "Fortgeschrittene Anwendungen mit TinyDB werden im [Handbuch](https://tinydb.readthedocs.io/en/latest/usage.html) beschrieben. Hier werden Fragen zur Performance beantwortet und komplexere Anfragen beschrieben."
   ]
  }
 ],
 "metadata": {
  "kernelspec": {
   "display_name": "Python 3",
   "language": "python",
   "name": "python3"
  },
  "language_info": {
   "codemirror_mode": {
    "name": "ipython",
    "version": 3
   },
   "file_extension": ".py",
   "mimetype": "text/x-python",
   "name": "python",
   "nbconvert_exporter": "python",
   "pygments_lexer": "ipython3",
   "version": "3.7.0"
  }
 },
 "nbformat": 4,
 "nbformat_minor": 2
}
