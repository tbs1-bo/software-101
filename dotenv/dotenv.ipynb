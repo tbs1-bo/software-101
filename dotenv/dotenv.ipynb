{
 "cells": [
  {
   "cell_type": "markdown",
   "id": "75831173",
   "metadata": {},
   "source": [
    "# python dotenv\n",
    "\n",
    "Es macht einen Unterschied, ob eine Anwendung auf dem lokalen Rechner des Entwicklers\n",
    "oder in einem Produktivsystem auf einem Server läuft. Unter Umständen gibt es \n",
    "unterschiedliche Werte für den Datenbank-Server oder Benutzerzugänge inklusive\n",
    "Username und Passwort unterscheiden sich.\n",
    "\n",
    "Es hat sich das Schema etabliert, Konfigurationswerte in Umgebungsvariablen abzulegen,\n",
    "die von der Anwendung ausgelesen werden können - vgl dazu auch die Anforderungen an\n",
    "eine [12factor](https://12factor.net/config)-Anwendung.\n",
    "\n",
    "Für Python gibt es eine Unterstützung durch \n",
    "[python-dotenv](https://pypi.org/project/python-dotenv/).\n",
    "\n",
    "Konfigurationen werden in `.env`-Dateien geschrieben, die nicht in der \n",
    "Versionsverwaltung abgelegt werden."
   ]
  },
  {
   "cell_type": "code",
   "execution_count": 11,
   "id": "f44f6f4c",
   "metadata": {},
   "outputs": [
    {
     "name": "stdout",
     "output_type": "stream",
     "text": [
      "DOMAIN=example.org\r\n",
      "ADMIN_EMAIL=admin@${DOMAIN}\r\n",
      "ROOT_URL=${DOMAIN}/app\r\n"
     ]
    }
   ],
   "source": [
    "! cat .env"
   ]
  },
  {
   "cell_type": "markdown",
   "id": "0f23e709",
   "metadata": {},
   "source": [
    "Im nächsten Schritt wird die Datei geladen und die Einträge in Umgebungsvariablen abgelegt."
   ]
  },
  {
   "cell_type": "code",
   "execution_count": 12,
   "id": "06661489",
   "metadata": {},
   "outputs": [
    {
     "data": {
      "text/plain": [
       "True"
      ]
     },
     "execution_count": 12,
     "metadata": {},
     "output_type": "execute_result"
    }
   ],
   "source": [
    "from dotenv import load_dotenv\n",
    "\n",
    "load_dotenv()"
   ]
  },
  {
   "cell_type": "markdown",
   "id": "7db5856c",
   "metadata": {},
   "source": [
    "Diese Werte können im Programm ausgelesen und genutzt werden."
   ]
  },
  {
   "cell_type": "code",
   "execution_count": 13,
   "id": "0c19579c",
   "metadata": {},
   "outputs": [],
   "source": [
    "import os\n",
    "\n",
    "DOMAIN = os.environ['DOMAIN']\n",
    "ADMIN_EMAIL = os.environ['ADMIN_EMAIL']\n",
    "ROOT_URL = os.environ['ROOT_URL']"
   ]
  },
  {
   "cell_type": "code",
   "execution_count": 14,
   "id": "b9e864bd",
   "metadata": {},
   "outputs": [
    {
     "name": "stdout",
     "output_type": "stream",
     "text": [
      "example.org\n",
      "admin@example.org\n",
      "example.org/app\n"
     ]
    }
   ],
   "source": [
    "print(DOMAIN)\n",
    "print(ADMIN_EMAIL)\n",
    "print(ROOT_URL)"
   ]
  }
 ],
 "metadata": {
  "kernelspec": {
   "display_name": "Python 3 (ipykernel)",
   "language": "python",
   "name": "python3"
  },
  "language_info": {
   "codemirror_mode": {
    "name": "ipython",
    "version": 3
   },
   "file_extension": ".py",
   "mimetype": "text/x-python",
   "name": "python",
   "nbconvert_exporter": "python",
   "pygments_lexer": "ipython3",
   "version": "3.10.5"
  }
 },
 "nbformat": 4,
 "nbformat_minor": 5
}
