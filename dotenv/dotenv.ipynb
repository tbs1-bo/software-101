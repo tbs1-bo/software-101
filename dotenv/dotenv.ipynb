{
 "cells": [
  {
   "cell_type": "markdown",
   "id": "f41ec3b4",
   "metadata": {},
   "source": [
    "# python dotenv\n",
    "\n",
    "Es macht einen Unterschied, ob eine Anwendung auf dem lokalen Rechner des Entwicklers\n",
    "oder in einem Produktivsystem auf einem Server läuft. Die Frage, wo Konfigurationswerte\n",
    "abgelegt werden ...\n",
    "\n",
    "https://12factor.net/config\n",
    "\n",
    "https://pypi.org/project/python-dotenv/"
   ]
  },
  {
   "cell_type": "code",
   "execution_count": 11,
   "id": "25dfdaed",
   "metadata": {},
   "outputs": [
    {
     "name": "stdout",
     "output_type": "stream",
     "text": [
      "DOMAIN=example.org\r\n",
      "ADMIN_EMAIL=admin@${DOMAIN}\r\n",
      "ROOT_URL=${DOMAIN}/app\r\n"
     ]
    }
   ],
   "source": [
    "! cat .env"
   ]
  },
  {
   "cell_type": "markdown",
   "id": "bbed3af3",
   "metadata": {},
   "source": [
    "Im nächsten Schritt wird die Datei geladen und die Einträge in Umgebungsvariablen abgelegt."
   ]
  },
  {
   "cell_type": "code",
   "execution_count": 2,
   "id": "250a71fd",
   "metadata": {},
   "outputs": [
    {
     "data": {
      "text/plain": [
       "True"
      ]
     },
     "execution_count": 2,
     "metadata": {},
     "output_type": "execute_result"
    }
   ],
   "source": [
    "from dotenv import load_dotenv\n",
    "\n",
    "load_dotenv()"
   ]
  },
  {
   "cell_type": "markdown",
   "id": "6053b3a2",
   "metadata": {},
   "source": [
    "Diese Werte können im Programm ausgelesen und genutzt werden."
   ]
  },
  {
   "cell_type": "code",
   "execution_count": 6,
   "id": "9c317362",
   "metadata": {},
   "outputs": [],
   "source": [
    "import os\n",
    "\n",
    "DOMAIN = os.environ['DOMAIN']"
   ]
  },
  {
   "cell_type": "code",
   "execution_count": 7,
   "id": "ed94173e",
   "metadata": {},
   "outputs": [],
   "source": [
    "ADMIN_EMAIL = os.environ['ADMIN_EMAIL']"
   ]
  },
  {
   "cell_type": "code",
   "execution_count": 8,
   "id": "8e613e92",
   "metadata": {},
   "outputs": [],
   "source": [
    "ROOT_URL = os.environ['ROOT_URL']"
   ]
  },
  {
   "cell_type": "code",
   "execution_count": 10,
   "id": "f223c1fa",
   "metadata": {},
   "outputs": [
    {
     "name": "stdout",
     "output_type": "stream",
     "text": [
      "example.org\n",
      "admin@example.org\n",
      "example.org/app\n"
     ]
    }
   ],
   "source": [
    "print(DOMAIN)\n",
    "print(ADMIN_EMAIL)\n",
    "print(ROOT_URL)"
   ]
  },
  {
   "cell_type": "code",
   "execution_count": null,
   "id": "95e591ab",
   "metadata": {},
   "outputs": [],
   "source": []
  }
 ],
 "metadata": {
  "kernelspec": {
   "display_name": "Python 3 (ipykernel)",
   "language": "python",
   "name": "python3"
  },
  "language_info": {
   "codemirror_mode": {
    "name": "ipython",
    "version": 3
   },
   "file_extension": ".py",
   "mimetype": "text/x-python",
   "name": "python",
   "nbconvert_exporter": "python",
   "pygments_lexer": "ipython3",
   "version": "3.10.5"
  }
 },
 "nbformat": 4,
 "nbformat_minor": 5
}
