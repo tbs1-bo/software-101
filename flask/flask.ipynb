{
 "cells": [
  {
   "cell_type": "markdown",
   "metadata": {},
   "source": [
    "## Installation"
   ]
  },
  {
   "cell_type": "code",
   "execution_count": 83,
   "metadata": {},
   "outputs": [
    {
     "data": {
      "text/html": [
       "\n",
       "                <audio  controls=\"controls\" >\n",
       "                    <source src=\"http://www.w3schools.com/html/horse.ogg\" type=\"audio/ogg\" />\n",
       "                    Your browser does not support the audio element.\n",
       "                </audio>\n",
       "              "
      ],
      "text/plain": [
       "<IPython.lib.display.Audio object>"
      ]
     },
     "execution_count": 83,
     "metadata": {},
     "output_type": "execute_result"
    }
   ],
   "source": [
    "# testing audio\n",
    "from IPython.display import Audio\n",
    "Audio(url=\"http://www.w3schools.com/html/horse.ogg\")"
   ]
  },
  {
   "cell_type": "code",
   "execution_count": null,
   "metadata": {
    "scrolled": true
   },
   "outputs": [],
   "source": [
    "pip install flask"
   ]
  },
  {
   "cell_type": "code",
   "execution_count": 58,
   "metadata": {
    "scrolled": true
   },
   "outputs": [
    {
     "name": "stdout",
     "output_type": "stream",
     "text": [
      "Overwriting app.py\n"
     ]
    }
   ],
   "source": [
    "%%writefile app.py\n",
    "\n",
    "from flask import Flask\n",
    "\n",
    "app = Flask(__name__)\n",
    "\n",
    "@app.route('/')\n",
    "def index():\n",
    "    return 'Meine TODO-App'\n",
    "\n",
    "app.run()"
   ]
  },
  {
   "cell_type": "markdown",
   "metadata": {},
   "source": [
    "## Starten\n",
    "\n",
    "    $ FLASK_ENV=development FLASK_APP=app.py flask run\n",
    "    \n",
    "Windows:\n",
    "\n",
    "    set FLASK_APP=app.py\n",
    "    set FLASK_ENV=development\n",
    "    flask run\n",
    "    \n",
    "\n",
    "http://localhost:5000/"
   ]
  },
  {
   "cell_type": "code",
   "execution_count": 59,
   "metadata": {
    "scrolled": true
   },
   "outputs": [
    {
     "name": "stdout",
     "output_type": "stream",
     "text": [
      "Overwriting app.py\n"
     ]
    }
   ],
   "source": [
    "%%writefile app.py\n",
    "\n",
    "from flask import Flask\n",
    "\n",
    "app = Flask(__name__)\n",
    "\n",
    "@app.route('/')\n",
    "def index():\n",
    "    return '''\n",
    "    <!DOCTYPE html>\n",
    "    <html>\n",
    "      <head>\n",
    "      <title>Todo App</title>\n",
    "    </head>\n",
    "    <body>\n",
    "      <h1>Todo App</h1>\n",
    "    </body>\n",
    "    </html>\n",
    "    '''"
   ]
  },
  {
   "cell_type": "markdown",
   "metadata": {},
   "source": [
    "Änderungen zur vorherigen Version sind im Folgenden mit `#` markiert."
   ]
  },
  {
   "cell_type": "markdown",
   "metadata": {},
   "source": [
    "## Templates"
   ]
  },
  {
   "cell_type": "code",
   "execution_count": 60,
   "metadata": {},
   "outputs": [
    {
     "name": "stdout",
     "output_type": "stream",
     "text": [
      "mkdir: das Verzeichnis „templates“ kann nicht angelegt werden: Die Datei existiert bereits\r\n"
     ]
    }
   ],
   "source": [
    "! mkdir templates"
   ]
  },
  {
   "cell_type": "code",
   "execution_count": 68,
   "metadata": {},
   "outputs": [
    {
     "name": "stdout",
     "output_type": "stream",
     "text": [
      "Overwriting templates/index.html\n"
     ]
    }
   ],
   "source": [
    "%%writefile templates/index.html\n",
    "\n",
    "<!DOCTYPE html>\n",
    "<html>\n",
    "  <head>\n",
    "  <title>Todo App</title>\n",
    "</head>\n",
    "<body>\n",
    "  <h1>Todo App</h1>\n",
    "</body>\n",
    "</html>"
   ]
  },
  {
   "cell_type": "code",
   "execution_count": 69,
   "metadata": {
    "scrolled": true
   },
   "outputs": [
    {
     "name": "stdout",
     "output_type": "stream",
     "text": [
      "Overwriting app.py\n"
     ]
    }
   ],
   "source": [
    "%%writefile app.py\n",
    "\n",
    "from flask import Flask, render_template  #\n",
    "\n",
    "app = Flask(__name__)\n",
    "\n",
    "@app.route('/')\n",
    "def index():\n",
    "    return render_template('index.html')  #"
   ]
  },
  {
   "cell_type": "markdown",
   "metadata": {},
   "source": [
    "## Templates Mit Parametern"
   ]
  },
  {
   "cell_type": "code",
   "execution_count": 70,
   "metadata": {},
   "outputs": [
    {
     "name": "stdout",
     "output_type": "stream",
     "text": [
      "Overwriting templates/index.html\n"
     ]
    }
   ],
   "source": [
    "%%writefile templates/index.html\n",
    "\n",
    "<!DOCTYPE html>\n",
    "<html>\n",
    "  <head>\n",
    "  <title>Todo App</title>\n",
    "</head>\n",
    "<body>\n",
    "  <h1>Todo App</h1>\n",
    "\n",
    "    <!-- Ausdrücke werden in doppelte geschweifte Klammern gesetzt -->\n",
    "    {{ tasks }}\n",
    "\n",
    "</body>\n",
    "</html>"
   ]
  },
  {
   "cell_type": "code",
   "execution_count": 72,
   "metadata": {
    "scrolled": true
   },
   "outputs": [
    {
     "name": "stdout",
     "output_type": "stream",
     "text": [
      "Overwriting app.py\n"
     ]
    }
   ],
   "source": [
    "%%writefile app.py\n",
    "\n",
    "from flask import Flask, render_template\n",
    "\n",
    "app = Flask(__name__)\n",
    "my_tasks = ['Learn Flask', 'Make App']  #\n",
    "\n",
    "@app.route('/')\n",
    "def index():\n",
    "    return render_template('index.html',tasks=my_tasks)  #"
   ]
  },
  {
   "cell_type": "markdown",
   "metadata": {},
   "source": [
    "## Schleifen in Templates"
   ]
  },
  {
   "cell_type": "code",
   "execution_count": 73,
   "metadata": {},
   "outputs": [
    {
     "name": "stdout",
     "output_type": "stream",
     "text": [
      "Overwriting templates/index.html\n"
     ]
    }
   ],
   "source": [
    "%%writefile templates/index.html\n",
    "\n",
    "<!DOCTYPE html>\n",
    "<html>\n",
    "  <head>\n",
    "  <title>Todo App</title>\n",
    "</head>\n",
    "<body>\n",
    "    <h1>Todo App</h1>\n",
    "    <ul>\n",
    "\n",
    "    <!-- for-Schleifen in Templates -->\n",
    "    {% for task in tasks %}\n",
    "    <li> {{ task }} </li>\n",
    "    {% endfor%}\n",
    "\n",
    "    </ul>\n",
    "</body>\n",
    "</html>"
   ]
  },
  {
   "cell_type": "markdown",
   "metadata": {},
   "source": [
    "## Formulare"
   ]
  },
  {
   "cell_type": "code",
   "execution_count": 74,
   "metadata": {},
   "outputs": [
    {
     "name": "stdout",
     "output_type": "stream",
     "text": [
      "Overwriting templates/index.html\n"
     ]
    }
   ],
   "source": [
    "%%writefile templates/index.html\n",
    "\n",
    "<!DOCTYPE html>\n",
    "<html>\n",
    "  <head>\n",
    "  <title>Todo App</title>\n",
    "</head>\n",
    "<body>\n",
    "    <h1>Todo App</h1>\n",
    "    <ul>\n",
    "    {% for task in tasks %}\n",
    "    <li> {{ task }} </li>\n",
    "    {% endfor %}\n",
    "    </ul>\n",
    "    \n",
    "    <!-- Formular -->\n",
    "    <h2>Task hinzufügen</h2>\n",
    "    <form action='' method='post'>\n",
    "        <label for='content'>Inhalt:</label>\n",
    "        <input type='text' name='content' placeholder=\"Neuer Task\">\n",
    "        <input type='submit' value='Add'>\n",
    "    </form>\n",
    "</body>\n",
    "</html>"
   ]
  },
  {
   "cell_type": "code",
   "execution_count": 75,
   "metadata": {
    "scrolled": true
   },
   "outputs": [
    {
     "name": "stdout",
     "output_type": "stream",
     "text": [
      "Overwriting app.py\n"
     ]
    }
   ],
   "source": [
    "%%writefile app.py\n",
    "\n",
    "from flask import Flask, render_template, request, redirect #\n",
    "\n",
    "app = Flask(__name__)\n",
    "\n",
    "my_tasks = ['Learn Flask', 'Make App']\n",
    "\n",
    "@app.route('/', methods=['GET', 'POST'])    #\n",
    "def index():\n",
    "    if request.method == 'POST':            #\n",
    "        new_task = request.form['content']  #\n",
    "        my_tasks.append(new_task)           #\n",
    "        return redirect('/')                #\n",
    "    else:\n",
    "        return render_template('index.html',tasks=my_tasks)"
   ]
  },
  {
   "cell_type": "markdown",
   "metadata": {},
   "source": [
    "## Daten speichern"
   ]
  },
  {
   "cell_type": "code",
   "execution_count": null,
   "metadata": {
    "scrolled": true
   },
   "outputs": [],
   "source": [
    "pip install flask-sqlalchemy"
   ]
  },
  {
   "cell_type": "code",
   "execution_count": 77,
   "metadata": {
    "scrolled": true
   },
   "outputs": [
    {
     "name": "stdout",
     "output_type": "stream",
     "text": [
      "Overwriting app.py\n"
     ]
    }
   ],
   "source": [
    "%%writefile app.py\n",
    "\n",
    "from flask import Flask, render_template, request, redirect\n",
    "from flask_sqlalchemy import SQLAlchemy, Model   #\n",
    "\n",
    "app = Flask(__name__)\n",
    "\n",
    "app.config['SQLALCHEMY_DATABASE_URI'] = 'sqlite:///tasks.db'  #\n",
    "db = SQLAlchemy(app)  #\n",
    "\n",
    "@app.route('/', methods=['GET', 'POST'])\n",
    "def index():\n",
    "    if request.method == 'POST':\n",
    "        new_task = request.form['content']\n",
    "        t = Task(content=new_task)  #\n",
    "        db.session.add(t)           #\n",
    "        db.session.commit()         #\n",
    "        return redirect('/')\n",
    "    else:\n",
    "        my_tasks = Task.query.all() #\n",
    "        return render_template('index.html',tasks=my_tasks)\n",
    "    \n",
    "\n",
    "class Task(db.Model):                             #\n",
    "    id = db.Column(db.Integer, primary_key=True)  #\n",
    "    content = db.Column(db.String(128))           #\n",
    "    \n",
    "db.create_all()                                   #"
   ]
  },
  {
   "cell_type": "code",
   "execution_count": 79,
   "metadata": {},
   "outputs": [
    {
     "name": "stdout",
     "output_type": "stream",
     "text": [
      "Overwriting templates/index.html\n"
     ]
    }
   ],
   "source": [
    "%%writefile templates/index.html\n",
    "\n",
    "<!DOCTYPE html>\n",
    "<html>\n",
    "  <head>\n",
    "  <title>Todo App</title>\n",
    "</head>\n",
    "<body>\n",
    "    <h1>Todo App</h1>\n",
    "    <ul>\n",
    "    {% for task in tasks %}\n",
    "    <li> {{ task.content }} </li>  <!-- Nun kann auf den Content des Objektes zugegriffen werden -->\n",
    "    {% endfor %}\n",
    "    </ul>\n",
    "    \n",
    "    <h2>Task hinzufügen</h2>\n",
    "    <form action='' method='post'>\n",
    "        <label for='content'>Inhalt:</label>\n",
    "        <input type='text' name='content' placeholder=\"Neuer Task\">\n",
    "        <input type='submit' value='Add'>\n",
    "    </form>\n",
    "</body>\n",
    "</html>"
   ]
  },
  {
   "cell_type": "markdown",
   "metadata": {},
   "source": [
    "## Daten löschen"
   ]
  },
  {
   "cell_type": "code",
   "execution_count": 80,
   "metadata": {
    "scrolled": true
   },
   "outputs": [
    {
     "name": "stdout",
     "output_type": "stream",
     "text": [
      "Overwriting app.py\n"
     ]
    }
   ],
   "source": [
    "%%writefile app.py\n",
    "\n",
    "from flask import Flask, render_template, request, redirect\n",
    "from flask_sqlalchemy import SQLAlchemy, Model\n",
    "\n",
    "app = Flask(__name__)\n",
    "\n",
    "app.config['SQLALCHEMY_DATABASE_URI'] = 'sqlite:///tasks.db'\n",
    "db = SQLAlchemy(app)\n",
    "\n",
    "@app.route('/', methods=['GET', 'POST'])\n",
    "def index():\n",
    "    if request.method == 'POST':\n",
    "        new_task = request.form['content']\n",
    "        t = Task(content=new_task)\n",
    "        db.session.add(t) \n",
    "        db.session.commit() \n",
    "        return redirect('/')\n",
    "    else:\n",
    "        my_tasks = Task.query.all()\n",
    "        return render_template('index.html',tasks=my_tasks)\n",
    "\n",
    "@app.route('/delete/<int:id>')  #\n",
    "def delete(id):                 #\n",
    "    t = Task.query.get(id)      #\n",
    "    db.session.delete(t)        #\n",
    "    db.session.commit()         #\n",
    "    return redirect('/')        #\n",
    "    \n",
    "# models\n",
    "class Task(db.Model):\n",
    "    id = db.Column(db.Integer, primary_key=True)\n",
    "    content = db.Column(db.String(128))\n",
    "    \n",
    "db.create_all()"
   ]
  },
  {
   "cell_type": "code",
   "execution_count": 81,
   "metadata": {},
   "outputs": [
    {
     "name": "stdout",
     "output_type": "stream",
     "text": [
      "Overwriting templates/index.html\n"
     ]
    }
   ],
   "source": [
    "%%writefile templates/index.html\n",
    "\n",
    "<!DOCTYPE html>\n",
    "<html>\n",
    "  <head>\n",
    "  <title>Todo App</title>\n",
    "</head>\n",
    "<body>\n",
    "    <h1>Todo App</h1>\n",
    "    <ul>\n",
    "    {% for task in tasks %}\n",
    "\n",
    "    <li> {{ task.content }} \n",
    "        <!-- Löschlink: über url_for() wird die Route für eine Methode ermittelt. -->\n",
    "        <a href='{{url_for(\"delete\", id=task.id)}}'>DEL</a> \n",
    "    </li>\n",
    "\n",
    "    {% endfor %}\n",
    "    </ul>\n",
    "    \n",
    "    <h2>Task hinzufügen</h2>\n",
    "    <form action='' method='post'>\n",
    "        <label for='content'>Inhalt:</label>\n",
    "        <input type='text' name='content' placeholder=\"Neuer Task\">\n",
    "        <input type='submit' value='Add'>\n",
    "    </form>\n",
    "</body>\n",
    "</html>"
   ]
  },
  {
   "cell_type": "markdown",
   "metadata": {},
   "source": [
    "## Schickes Layout\n",
    "\n",
    "https://watercss.kognise.dev/\n",
    "\n",
    "CSS herunterladen https://cdn.jsdelivr.net/npm/water.css@2/out/water.css"
   ]
  },
  {
   "cell_type": "code",
   "execution_count": null,
   "metadata": {},
   "outputs": [],
   "source": [
    "! mkdir static"
   ]
  },
  {
   "cell_type": "code",
   "execution_count": null,
   "metadata": {},
   "outputs": [],
   "source": [
    "! wget -O static/water.css https://cdn.jsdelivr.net/npm/water.css@2/out/water.css"
   ]
  },
  {
   "cell_type": "code",
   "execution_count": 82,
   "metadata": {},
   "outputs": [
    {
     "name": "stdout",
     "output_type": "stream",
     "text": [
      "Overwriting templates/index.html\n"
     ]
    }
   ],
   "source": [
    "%%writefile templates/index.html\n",
    "\n",
    "<!DOCTYPE html>\n",
    "<html>\n",
    "  <head>\n",
    "    <!-- Stylesheet -->\n",
    "    <link rel=\"stylesheet\" href=\"{{url_for('static', filename='water.css')}}\">   \n",
    "    <meta name=\"viewport\" content=\"width=device-width, initial-scale=1.0\">\n",
    "\n",
    "  <title>Todo App</title>\n",
    "</head>\n",
    "<body>\n",
    "    <h1>Todo App</h1>\n",
    "    <ul>\n",
    "    {% for task in tasks %}\n",
    "    <li> {{ task.content }} <a href='{{url_for(\"delete\", id=task.id)}}'>DEL</a> </li>\n",
    "    {% endfor %}\n",
    "    </ul>\n",
    "    \n",
    "    <h2>Task hinzufügen</h2>\n",
    "    <form action='' method='post'>\n",
    "        <label for='content'>Inhalt:</label>\n",
    "        <input type='text' name='content' placeholder=\"Neuer Task\">\n",
    "        <input type='submit' value='Add'>\n",
    "    </form>\n",
    "</body>\n",
    "</html>"
   ]
  },
  {
   "cell_type": "code",
   "execution_count": null,
   "metadata": {},
   "outputs": [],
   "source": []
  }
 ],
 "metadata": {
  "kernelspec": {
   "display_name": "Python 3",
   "language": "python",
   "name": "python3"
  },
  "language_info": {
   "codemirror_mode": {
    "name": "ipython",
    "version": 3
   },
   "file_extension": ".py",
   "mimetype": "text/x-python",
   "name": "python",
   "nbconvert_exporter": "python",
   "pygments_lexer": "ipython3",
   "version": "3.9.5"
  }
 },
 "nbformat": 4,
 "nbformat_minor": 4
}
