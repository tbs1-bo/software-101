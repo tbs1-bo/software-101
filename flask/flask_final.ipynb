{
 "cells": [
  {
   "cell_type": "markdown",
   "metadata": {},
   "source": [
    "## Installation\n",
    "\n",
    "Unten siehst du Steuerelemente, um eine Erläuterung abzuspielen. Setze Kopfhörer auf und höre dir die Erläuterungen zu den jeweiligen Abschnitten an."
   ]
  },
  {
   "cell_type": "markdown",
   "metadata": {},
   "source": [
    "\n",
    "<audio controls>\n",
    "  <source src=\"https://archive.org/download/flask_intro/installation.mp3\" type=\"audio/mpeg\">\n",
    "  Your browser does not support the audio element.\n",
    "</audio> \n"
   ]
  },
  {
   "cell_type": "code",
   "execution_count": null,
   "metadata": {
    "scrolled": true
   },
   "outputs": [],
   "source": [
    "pip3 install flask"
   ]
  },
  {
   "cell_type": "code",
   "execution_count": 2,
   "metadata": {},
   "outputs": [
    {
     "name": "stdout",
     "output_type": "stream",
     "text": [
      "Python 3.9.5\r\n",
      "Flask 1.1.2\r\n",
      "Werkzeug 1.0.1\r\n"
     ]
    }
   ],
   "source": [
    "flask --version"
   ]
  },
  {
   "cell_type": "code",
   "execution_count": 1,
   "metadata": {},
   "outputs": [
    {
     "name": "stdout",
     "output_type": "stream",
     "text": [
      "/home/pintman/.local/lib/python3.9/site-packages/flask_sqlalchemy/__init__.py:872: FSADeprecationWarning: SQLALCHEMY_TRACK_MODIFICATIONS adds significant overhead and will be disabled by default in the future.  Set it to True or False to suppress this warning.\r\n",
      "  warnings.warn(FSADeprecationWarning(\r\n",
      "Usage: flask [OPTIONS] COMMAND [ARGS]...\r\n",
      "\r\n",
      "  A general utility script for Flask applications.\r\n",
      "\r\n",
      "  Provides commands from Flask, extensions, and the application. Loads the\r\n",
      "  application defined in the FLASK_APP environment variable, or from a\r\n",
      "  wsgi.py file. Setting the FLASK_ENV environment variable to 'development'\r\n",
      "  will enable debug mode.\r\n",
      "\r\n",
      "    $ export FLASK_APP=hello.py\r\n",
      "    $ export FLASK_ENV=development\r\n",
      "    $ flask run\r\n",
      "\r\n",
      "Options:\r\n",
      "  --version  Show the flask version\r\n",
      "  --help     Show this message and exit.\r\n",
      "\r\n",
      "Commands:\r\n",
      "  routes  Show the routes for the app.\r\n",
      "  run     Run a development server.\r\n",
      "  shell   Run a shell in the app context.\r\n"
     ]
    }
   ],
   "source": [
    "flask"
   ]
  },
  {
   "cell_type": "code",
   "execution_count": 2,
   "metadata": {},
   "outputs": [
    {
     "name": "stdout",
     "output_type": "stream",
     "text": [
      "Usage: flask run [OPTIONS]\r\n",
      "\r\n",
      "  Run a local development server.\r\n",
      "\r\n",
      "  This server is for development purposes only. It does not provide the\r\n",
      "  stability, security, or performance of production WSGI servers.\r\n",
      "\r\n",
      "  The reloader and debugger are enabled by default if FLASK_ENV=development\r\n",
      "  or FLASK_DEBUG=1.\r\n",
      "\r\n",
      "Options:\r\n",
      "  -h, --host TEXT                 The interface to bind to.\r\n",
      "  -p, --port INTEGER              The port to bind to.\r\n",
      "  --cert PATH                     Specify a certificate file to use HTTPS.\r\n",
      "  --key FILE                      The key file to use when specifying a\r\n",
      "                                  certificate.\r\n",
      "\r\n",
      "  --reload / --no-reload          Enable or disable the reloader. By default\r\n",
      "                                  the reloader is active if debug is enabled.\r\n",
      "\r\n",
      "  --debugger / --no-debugger      Enable or disable the debugger. By default\r\n",
      "                                  the debugger is active if debug is enabled.\r\n",
      "\r\n",
      "  --eager-loading / --lazy-loader\r\n",
      "                                  Enable or disable eager loading. By default\r\n",
      "                                  eager loading is enabled if the reloader is\r\n",
      "                                  disabled.\r\n",
      "\r\n",
      "  --with-threads / --without-threads\r\n",
      "                                  Enable or disable multithreading.\r\n",
      "  --extra-files PATH              Extra files that trigger a reload on change.\r\n",
      "                                  Multiple paths are separated by ':'.\r\n",
      "\r\n",
      "  --help                          Show this message and exit.\r\n"
     ]
    }
   ],
   "source": [
    "flask run --help"
   ]
  },
  {
   "cell_type": "markdown",
   "metadata": {},
   "source": [
    "\n",
    "<audio controls>\n",
    "  <source src=\"https://archive.org/download/flask_intro/einfache_app.mp3\" type=\"audio/mpeg\">\n",
    "  Your browser does not support the audio element.\n",
    "</audio>\n"
   ]
  },
  {
   "cell_type": "code",
   "execution_count": 3,
   "metadata": {
    "collapsed": true
   },
   "outputs": [
    {
     "name": "stdout",
     "output_type": "stream",
     "text": [
      "Overwriting app.py\n"
     ]
    }
   ],
   "source": [
    "\n",
    "from flask import Flask\n",
    "\n",
    "app = Flask(__name__)\n",
    "\n",
    "@app.route('/')\n",
    "def index():\n",
    "    return 'Meine TODO-App'"
   ]
  },
  {
   "cell_type": "markdown",
   "metadata": {},
   "source": [
    "Probiere es nun selbst aus: Installiere flask, erstelle die Dateien und starte den \n",
    "Web-Server. Lasse ihn die ganze Zeit im Hintergrund laufen und beobachte, welche \n",
    "Ausgaben er produziert."
   ]
  },
  {
   "cell_type": "markdown",
   "metadata": {},
   "source": [
    "## Web-Server starten"
   ]
  },
  {
   "cell_type": "markdown",
   "metadata": {},
   "source": [
    "\n",
    "<audio controls>\n",
    "  <source src=\"https://archive.org/download/flask_intro/flask_starten.mp3\" type=\"audio/mpeg\">\n",
    "  Your browser does not support the audio element.\n",
    "</audio>\n"
   ]
  },
  {
   "cell_type": "markdown",
   "metadata": {},
   "source": [
    "MacOS/Linux:\n",
    "\n",
    "    export FLASK_APP=app.py\n",
    "    export FLASK_ENV=development\n",
    "    flask run\n",
    "    \n",
    "Windows:\n",
    "\n",
    "    set FLASK_APP=app.py\n",
    "    set FLASK_ENV=development\n",
    "    flask run\n",
    "    \n",
    "\n",
    "http://localhost:5000/"
   ]
  },
  {
   "cell_type": "markdown",
   "metadata": {},
   "source": [
    "## HTML-Ausgabe"
   ]
  },
  {
   "cell_type": "markdown",
   "metadata": {},
   "source": [
    "\n",
    "<audio controls>\n",
    "  <source src=\"https://archive.org/download/flask_intro/return_html.mp3\" type=\"audio/mpeg\">\n",
    "  Your browser does not support the audio element.\n",
    "</audio> \n"
   ]
  },
  {
   "cell_type": "code",
   "execution_count": 4,
   "metadata": {
    "scrolled": true
   },
   "outputs": [
    {
     "name": "stdout",
     "output_type": "stream",
     "text": [
      "Overwriting app.py\n"
     ]
    }
   ],
   "source": [
    "\n",
    "from flask import Flask\n",
    "\n",
    "app = Flask(__name__)\n",
    "\n",
    "@app.route('/')\n",
    "def index():\n",
    "    return '''\n",
    "    <!DOCTYPE html>\n",
    "    <html>\n",
    "      <head>\n",
    "      <title>Todo App</title>\n",
    "    </head>\n",
    "    <body>\n",
    "      <h1>Todo App</h1>\n",
    "    </body>\n",
    "    </html>\n",
    "    '''"
   ]
  },
  {
   "cell_type": "markdown",
   "metadata": {},
   "source": [
    "Änderungen zur vorherigen Version sind im Folgenden mit `#` markiert."
   ]
  },
  {
   "cell_type": "markdown",
   "metadata": {},
   "source": [
    "## Templates"
   ]
  },
  {
   "cell_type": "markdown",
   "metadata": {},
   "source": [
    "\n",
    "<audio controls>\n",
    "  <source src=\"https://archive.org/download/flask_intro/render_template.mp3\" type=\"audio/mpeg\">\n",
    "  Your browser does not support the audio element.\n",
    "</audio> \n"
   ]
  },
  {
   "cell_type": "code",
   "execution_count": null,
   "metadata": {},
   "outputs": [],
   "source": [
    "mkdir templates"
   ]
  },
  {
   "cell_type": "code",
   "execution_count": 5,
   "metadata": {
    "collapsed": true
   },
   "outputs": [
    {
     "name": "stdout",
     "output_type": "stream",
     "text": [
      "Overwriting templates/index.html\n"
     ]
    }
   ],
   "source": [
    "\n",
    "<!DOCTYPE html>\n",
    "<html>\n",
    "  <head>\n",
    "  <title>Todo App</title>\n",
    "</head>\n",
    "<body>\n",
    "  <h1>Todo App</h1>\n",
    "</body>\n",
    "</html>"
   ]
  },
  {
   "cell_type": "code",
   "execution_count": 69,
   "metadata": {
    "collapsed": true
   },
   "outputs": [
    {
     "name": "stdout",
     "output_type": "stream",
     "text": [
      "Overwriting app.py\n"
     ]
    }
   ],
   "source": [
    "\n",
    "from flask import Flask, render_template  #\n",
    "\n",
    "app = Flask(__name__)\n",
    "\n",
    "@app.route('/')\n",
    "def index():\n",
    "    return render_template('index.html')  #"
   ]
  },
  {
   "cell_type": "markdown",
   "metadata": {},
   "source": [
    "## Templates mit Parametern"
   ]
  },
  {
   "cell_type": "markdown",
   "metadata": {},
   "source": [
    "\n",
    "<audio controls>\n",
    "  <source src=\"https://archive.org/download/flask_intro/templates_param.mp3\" type=\"audio/mpeg\">\n",
    "  Your browser does not support the audio element.\n",
    "</audio> \n"
   ]
  },
  {
   "cell_type": "code",
   "execution_count": 20,
   "metadata": {},
   "outputs": [
    {
     "name": "stdout",
     "output_type": "stream",
     "text": [
      "Overwriting templates/index.html\n"
     ]
    }
   ],
   "source": [
    "\n",
    "<!DOCTYPE html>\n",
    "<html>\n",
    "  <head>\n",
    "  <title>Todo App</title>\n",
    "</head>\n",
    "<body>\n",
    "  <h1>Todo App</h1>\n",
    "\n",
    "    <!-- # Ausdrücke werden in doppelte geschweifte Klammern gesetzt -->\n",
    "    {{ tasks }}\n",
    "\n",
    "</body>\n",
    "</html>"
   ]
  },
  {
   "cell_type": "code",
   "execution_count": 4,
   "metadata": {},
   "outputs": [
    {
     "name": "stdout",
     "output_type": "stream",
     "text": [
      "Overwriting app.py\n"
     ]
    }
   ],
   "source": [
    "\n",
    "from flask import Flask, render_template\n",
    "\n",
    "app = Flask(__name__)\n",
    "my_tasks = ['Learn Flask', 'Make App']                    #\n",
    "\n",
    "@app.route('/')\n",
    "def index():\n",
    "    return render_template('index.html', tasks=my_tasks)  #"
   ]
  },
  {
   "cell_type": "markdown",
   "metadata": {},
   "source": [
    "## Schleifen in Templates"
   ]
  },
  {
   "cell_type": "markdown",
   "metadata": {},
   "source": [
    "\n",
    "<audio controls>\n",
    "  <source src=\"https://archive.org/download/flask_intro/template_loop.mp3\" type=\"audio/mpeg\">\n",
    "  Your browser does not support the audio element.\n",
    "</audio> \n"
   ]
  },
  {
   "cell_type": "code",
   "execution_count": 5,
   "metadata": {},
   "outputs": [
    {
     "name": "stdout",
     "output_type": "stream",
     "text": [
      "Overwriting templates/index.html\n"
     ]
    }
   ],
   "source": [
    "\n",
    "<!DOCTYPE html>\n",
    "<html>\n",
    "  <head>\n",
    "  <title>Todo App</title>\n",
    "</head>\n",
    "<body>\n",
    "    <h1>Todo App</h1>\n",
    "    <ul>\n",
    "\n",
    "        <!-- # for-Schleifen in Templates -->\n",
    "        {% for task in tasks %}\n",
    "            <li> {{ task }} </li>\n",
    "        {% endfor %}\n",
    "\n",
    "    </ul>\n",
    "</body>\n",
    "</html>"
   ]
  },
  {
   "cell_type": "markdown",
   "metadata": {},
   "source": [
    "## Formulare"
   ]
  },
  {
   "cell_type": "markdown",
   "metadata": {},
   "source": [
    "\n",
    "<audio controls>\n",
    "  <source src=\"https://archive.org/download/flask_intro/html_form.mp3\" type=\"audio/mpeg\">\n",
    "  Your browser does not support the audio element.\n",
    "</audio> \n"
   ]
  },
  {
   "cell_type": "code",
   "execution_count": 6,
   "metadata": {},
   "outputs": [
    {
     "name": "stdout",
     "output_type": "stream",
     "text": [
      "Overwriting templates/index.html\n"
     ]
    }
   ],
   "source": [
    "\n",
    "<!DOCTYPE html>\n",
    "<html>\n",
    "  <head>\n",
    "  <title>Todo App</title>\n",
    "</head>\n",
    "<body>\n",
    "    <h1>Todo App</h1>\n",
    "    <ul>\n",
    "        {% for task in tasks %}\n",
    "            <li> {{ task }} </li>\n",
    "        {% endfor %}\n",
    "    </ul>\n",
    "    \n",
    "    <!-- # Formular -->\n",
    "    <h2>Task hinzufügen</h2>\n",
    "    <form action='' method='post'>\n",
    "        <label for='content'>Inhalt:</label>\n",
    "        <input type='text' name='content' placeholder=\"Neuer Task\">\n",
    "        <input type='submit' value='Add'>\n",
    "    </form>\n",
    "\n",
    "</body>\n",
    "</html>"
   ]
  },
  {
   "cell_type": "markdown",
   "metadata": {},
   "source": [
    "\n",
    "<audio controls>\n",
    "  <source src=\"https://archive.org/download/flask_intro/http_post_processing.mp3\" type=\"audio/mpeg\">\n",
    "  Your browser does not support the audio element.\n",
    "</audio> \n"
   ]
  },
  {
   "cell_type": "code",
   "execution_count": 5,
   "metadata": {
    "scrolled": true
   },
   "outputs": [
    {
     "name": "stdout",
     "output_type": "stream",
     "text": [
      "Overwriting app.py\n"
     ]
    }
   ],
   "source": [
    "\n",
    "from flask import Flask, render_template, request, redirect #\n",
    "\n",
    "app = Flask(__name__)\n",
    "\n",
    "my_tasks = ['Learn Flask', 'Make App']\n",
    "\n",
    "@app.route('/', methods=['GET', 'POST'])    #\n",
    "def index():\n",
    "    if request.method == 'POST':            #\n",
    "        new_task = request.form['content']  #\n",
    "        my_tasks.append(new_task)           #\n",
    "        return redirect('/')                #\n",
    "    else:\n",
    "        return render_template('index.html', tasks=my_tasks)"
   ]
  },
  {
   "cell_type": "markdown",
   "metadata": {},
   "source": [
    "## Daten in einer Datenbank speichern"
   ]
  },
  {
   "cell_type": "markdown",
   "metadata": {},
   "source": [
    "\n",
    "<audio controls>\n",
    "  <source src=\"https://archive.org/download/flask_intro/sql_alchemy.mp3\" type=\"audio/mpeg\">\n",
    "  Your browser does not support the audio element.\n",
    "</audio> \n"
   ]
  },
  {
   "cell_type": "code",
   "execution_count": null,
   "metadata": {
    "scrolled": true
   },
   "outputs": [],
   "source": [
    "pip install flask-sqlalchemy"
   ]
  },
  {
   "cell_type": "code",
   "execution_count": 4,
   "metadata": {
    "scrolled": true
   },
   "outputs": [
    {
     "name": "stdout",
     "output_type": "stream",
     "text": [
      "Overwriting app.py\n"
     ]
    }
   ],
   "source": [
    "\n",
    "from flask import Flask, render_template, request, redirect\n",
    "from flask_sqlalchemy import SQLAlchemy, Model                #\n",
    "\n",
    "app = Flask(__name__)\n",
    "\n",
    "app.config['SQLALCHEMY_DATABASE_URI'] = 'sqlite:///tasks.db'  #\n",
    "db = SQLAlchemy(app)                                          #\n",
    "\n",
    "@app.route('/', methods=['GET', 'POST'])\n",
    "def index():\n",
    "    if request.method == 'POST':\n",
    "        new_task = request.form['content']\n",
    "        t = Task(content=new_task)  #\n",
    "        db.session.add(t)           #\n",
    "        db.session.commit()         #\n",
    "        return redirect('/')\n",
    "    else:\n",
    "        my_tasks = Task.query.all() #\n",
    "        return render_template('index.html', tasks=my_tasks)\n",
    "    \n",
    "\n",
    "class Task(db.Model):                             #\n",
    "    id = db.Column(db.Integer, primary_key=True)  #\n",
    "    content = db.Column(db.String(128))           #\n",
    "    \n",
    "db.create_all()                                   #"
   ]
  },
  {
   "cell_type": "code",
   "execution_count": 9,
   "metadata": {},
   "outputs": [
    {
     "name": "stdout",
     "output_type": "stream",
     "text": [
      "Overwriting templates/index.html\n"
     ]
    }
   ],
   "source": [
    "\n",
    "<!DOCTYPE html>\n",
    "<html>\n",
    "  <head>\n",
    "  <title>Todo App</title>\n",
    "</head>\n",
    "<body>\n",
    "    <h1>Todo App</h1>\n",
    "    <ul>\n",
    "    {% for task in tasks %}\n",
    "        <!-- # Nun kann auf den Content des Objektes zugegriffen werden -->\n",
    "        <li> {{ task.content }} </li>  \n",
    "    {% endfor %}\n",
    "    </ul>\n",
    "    \n",
    "    <h2>Task hinzufügen</h2>\n",
    "    <form action='' method='post'>\n",
    "        <label for='content'>Inhalt:</label>\n",
    "        <input type='text' name='content' placeholder=\"Neuer Task\">\n",
    "        <input type='submit' value='Add'>\n",
    "    </form>\n",
    "</body>\n",
    "</html>"
   ]
  },
  {
   "cell_type": "markdown",
   "metadata": {},
   "source": [
    "## Daten löschen"
   ]
  },
  {
   "cell_type": "markdown",
   "metadata": {},
   "source": [
    "\n",
    "<audio controls>\n",
    "  <source src=\"https://archive.org/download/flask_intro/delete.mp3\" type=\"audio/mpeg\">\n",
    "  Your browser does not support the audio element.\n",
    "</audio> \n"
   ]
  },
  {
   "cell_type": "code",
   "execution_count": 5,
   "metadata": {
    "scrolled": true
   },
   "outputs": [
    {
     "name": "stdout",
     "output_type": "stream",
     "text": [
      "Overwriting app.py\n"
     ]
    }
   ],
   "source": [
    "\n",
    "from flask import Flask, render_template, request, redirect\n",
    "from flask_sqlalchemy import SQLAlchemy, Model\n",
    "\n",
    "app = Flask(__name__)\n",
    "\n",
    "app.config['SQLALCHEMY_DATABASE_URI'] = 'sqlite:///tasks.db'\n",
    "db = SQLAlchemy(app)\n",
    "\n",
    "@app.route('/', methods=['GET', 'POST'])\n",
    "def index():\n",
    "    if request.method == 'POST':\n",
    "        new_task = request.form['content']\n",
    "        t = Task(content=new_task)\n",
    "        db.session.add(t) \n",
    "        db.session.commit() \n",
    "        return redirect('/')\n",
    "    else:\n",
    "        my_tasks = Task.query.all()\n",
    "        return render_template('index.html', tasks=my_tasks)\n",
    "\n",
    "@app.route('/delete/<int:id>')  #\n",
    "def delete(id):                 #\n",
    "    t = Task.query.get(id)      #\n",
    "    db.session.delete(t)        #\n",
    "    db.session.commit()         #\n",
    "    return redirect('/')        #\n",
    "    \n",
    "# models\n",
    "class Task(db.Model):\n",
    "    id = db.Column(db.Integer, primary_key=True)\n",
    "    content = db.Column(db.String(128))\n",
    "    \n",
    "db.create_all()"
   ]
  },
  {
   "cell_type": "code",
   "execution_count": 6,
   "metadata": {},
   "outputs": [
    {
     "name": "stdout",
     "output_type": "stream",
     "text": [
      "Overwriting templates/index.html\n"
     ]
    }
   ],
   "source": [
    "\n",
    "<!DOCTYPE html>\n",
    "<html>\n",
    "  <head>\n",
    "  <title>Todo App</title>\n",
    "</head>\n",
    "<body>\n",
    "    <h1>Todo App</h1>\n",
    "    <ul>\n",
    "    {% for task in tasks %}\n",
    "\n",
    "    <li> {{ task.content }} \n",
    "        <!-- # Löschlink: über url_for() wird die Route für eine Methode ermittelt. -->\n",
    "        <a href='{{url_for(\"delete\", id=task.id)}}'>DELETE</a> \n",
    "    </li>\n",
    "\n",
    "    {% endfor %}\n",
    "    </ul>\n",
    "    \n",
    "    <h2>Task hinzufügen</h2>\n",
    "    <form action='' method='post'>\n",
    "        <label for='content'>Inhalt:</label>\n",
    "        <input type='text' name='content' placeholder=\"Neuer Task\">\n",
    "        <input type='submit' value='Add'>\n",
    "    </form>\n",
    "</body>\n",
    "</html>"
   ]
  },
  {
   "cell_type": "markdown",
   "metadata": {},
   "source": [
    "## Schickes Layout\n",
    "\n",
    "https://watercss.kognise.dev/\n",
    "\n",
    "CSS herunterladen https://cdn.jsdelivr.net/npm/water.css@2/out/water.css"
   ]
  },
  {
   "cell_type": "code",
   "execution_count": null,
   "metadata": {},
   "outputs": [],
   "source": [
    "mkdir static\n",
    "wget -O static/water.css https://cdn.jsdelivr.net/npm/water.css@2/out/water.css"
   ]
  },
  {
   "cell_type": "code",
   "execution_count": 3,
   "metadata": {},
   "outputs": [
    {
     "name": "stdout",
     "output_type": "stream",
     "text": [
      "water.css\r\n"
     ]
    }
   ],
   "source": [
    "ls static"
   ]
  },
  {
   "cell_type": "code",
   "execution_count": 4,
   "metadata": {},
   "outputs": [
    {
     "name": "stdout",
     "output_type": "stream",
     "text": [
      "Overwriting templates/index.html\n"
     ]
    }
   ],
   "source": [
    "\n",
    "<!DOCTYPE html>\n",
    "<html>\n",
    "  <head>\n",
    "    <!-- # Stylesheet -->\n",
    "    <link rel=\"stylesheet\" href=\"{{url_for('static', filename='water.css')}}\">   \n",
    "    <meta name=\"viewport\" content=\"width=device-width, initial-scale=1.0\">\n",
    "\n",
    "  <title>Todo App</title>\n",
    "</head>\n",
    "<body>\n",
    "    <h1>Todo App</h1>\n",
    "    <ul>\n",
    "    {% for task in tasks %}\n",
    "        <li> {{ task.content }} <a href='{{url_for(\"delete\", id=task.id)}}'>DEL</a> </li>\n",
    "    {% endfor %}\n",
    "    </ul>\n",
    "    \n",
    "    <h2>Task hinzufügen</h2>\n",
    "    <form action='' method='post'>\n",
    "        <label for='content'>Inhalt:</label>\n",
    "        <input type='text' name='content' placeholder=\"Neuer Task\">\n",
    "        <input type='submit' value='Add'>\n",
    "    </form>\n",
    "</body>\n",
    "</html>"
   ]
  },
  {
   "cell_type": "markdown",
   "metadata": {},
   "source": [
    "## Daten ändern"
   ]
  },
  {
   "cell_type": "code",
   "execution_count": 38,
   "metadata": {},
   "outputs": [
    {
     "name": "stdout",
     "output_type": "stream",
     "text": [
      "Overwriting templates/index.html\n"
     ]
    }
   ],
   "source": [
    "\n",
    "<!DOCTYPE html>\n",
    "<html>\n",
    "  <head>\n",
    "    <link rel=\"stylesheet\" href=\"{{url_for('static', filename='water.css')}}\">   \n",
    "    <meta name=\"viewport\" content=\"width=device-width, initial-scale=1.0\">\n",
    "    <title>Todo App</title>\n",
    "</head>\n",
    "<body>\n",
    "    <h1>Todo App</h1>\n",
    "    <ul>\n",
    "    {% for task in tasks %}\n",
    "\n",
    "    <li> {{ task.content }} \n",
    "        <a href='{{url_for(\"delete\", id=task.id)}}'>DELETE</a> \n",
    "\n",
    "        <!-- # Updatelink ergänzt -->\n",
    "        <a href='{{url_for(\"update\", id=task.id)}}'>UPDATE</a> \n",
    "\n",
    "    </li>\n",
    "\n",
    "    {% endfor %}\n",
    "    </ul>\n",
    "    \n",
    "    <h2>Task hinzufügen</h2>\n",
    "    <form action='' method='post'>\n",
    "        <label for='content'>Inhalt:</label>\n",
    "        <input type='text' name='content' placeholder=\"Neuer Task\">\n",
    "        <input type='submit' value='Add'>\n",
    "    </form>\n",
    "</body>\n",
    "</html>"
   ]
  },
  {
   "cell_type": "code",
   "execution_count": 39,
   "metadata": {
    "scrolled": true
   },
   "outputs": [
    {
     "name": "stdout",
     "output_type": "stream",
     "text": [
      "Overwriting app.py\n"
     ]
    }
   ],
   "source": [
    "\n",
    "from flask import Flask, render_template, request, redirect\n",
    "from flask_sqlalchemy import SQLAlchemy, Model\n",
    "\n",
    "app = Flask(__name__)\n",
    "\n",
    "app.config['SQLALCHEMY_DATABASE_URI'] = 'sqlite:///tasks.db'\n",
    "db = SQLAlchemy(app)\n",
    "\n",
    "@app.route('/', methods=['GET', 'POST'])\n",
    "def index():\n",
    "    if request.method == 'POST':\n",
    "        new_task = request.form['content']\n",
    "        t = Task(content=new_task)\n",
    "        db.session.add(t) \n",
    "        db.session.commit() \n",
    "        return redirect('/')\n",
    "    else:\n",
    "        my_tasks = Task.query.all()\n",
    "        return render_template('index.html', tasks=my_tasks)\n",
    "\n",
    "@app.route('/delete/<int:id>')\n",
    "def delete(id):                 \n",
    "    t = Task.query.get(id)      \n",
    "    db.session.delete(t)        \n",
    "    db.session.commit()         \n",
    "    return redirect('/')        \n",
    "    \n",
    "@app.route('/update/<int:id>', methods=['GET', 'POST'])  #\n",
    "def update(id):                                          #\n",
    "    t = Task.query.get(id)\n",
    "    if request.method == 'POST':\n",
    "        t.content = request.form['content']\n",
    "        db.session.commit()\n",
    "        return redirect('/')\n",
    "    else:\n",
    "        return render_template('update.html', task=t)\n",
    "    \n",
    "# models\n",
    "class Task(db.Model):\n",
    "    id = db.Column(db.Integer, primary_key=True)\n",
    "    content = db.Column(db.String(128))\n",
    "    \n",
    "db.create_all()"
   ]
  },
  {
   "cell_type": "code",
   "execution_count": 40,
   "metadata": {},
   "outputs": [
    {
     "name": "stdout",
     "output_type": "stream",
     "text": [
      "Overwriting templates/update.html\n"
     ]
    }
   ],
   "source": [
    "\n",
    "<!DOCTYPE html>\n",
    "<html>\n",
    "<head>\n",
    "    <link rel=\"stylesheet\" href=\"{{url_for('static', filename='water.css')}}\">   \n",
    "    <meta name=\"viewport\" content=\"width=device-width, initial-scale=1.0\">\n",
    "    <title>Todo App</title>\n",
    "</head>\n",
    "<body>\n",
    "    <h2>Task Ändern</h2>\n",
    "    <form action='{{ url_for(\"update\", id=task.id) }}' method='post'>\n",
    "        <label for='content'>Inhalt:</label>\n",
    "        <input type='text' name='content' value=\"{{ task.content }}\">\n",
    "        <input type='submit' value='Update'>\n",
    "    </form>\n",
    "</body>\n",
    "</html>"
   ]
  },
  {
   "cell_type": "markdown",
   "metadata": {},
   "source": [
    "## Quiz\n",
    "\n",
    "- [Quiz](https://forms.office.com/Pages/ResponsePage.aspx?id=vXaNqv_gIkSSC8VeqJUdRS_J0kTXn4pIneR-vyqBhblUQkgyVjFMRE1GMjlKNDAxNTAwSDVaQjAzTS4u) - Office-Zugang erforderlich"
   ]
  },
  {
   "cell_type": "markdown",
   "metadata": {},
   "source": [
    "## Weitere Infos\n",
    "\n",
    "* [Quickstart](https://flask.palletsprojects.com/en/2.0.x/quickstart/)"
   ]
  }
 ],
 "metadata": {
  "kernelspec": {
   "display_name": "Python 3",
   "language": "python",
   "name": "python3"
  },
  "language_info": {
   "codemirror_mode": {
    "name": "ipython",
    "version": 3
   },
   "file_extension": ".py",
   "mimetype": "text/x-python",
   "name": "python",
   "nbconvert_exporter": "python",
   "pygments_lexer": "ipython3",
   "version": "3.9.5"
  }
 },
 "nbformat": 4,
 "nbformat_minor": 4
}
