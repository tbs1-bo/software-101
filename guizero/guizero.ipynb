{
 "cells": [
  {
   "cell_type": "markdown",
   "metadata": {},
   "source": [
    "# guizero\n",
    "\n",
    "[guizero](https://lawsie.github.io/guizero) ermöglicht die \n",
    "einfache Gestaltung von Graphischen Benutzeroberflächen."
   ]
  },
  {
   "cell_type": "markdown",
   "metadata": {},
   "source": [
    "## Installation\n",
    "\n",
    "guizero kann mit pip installiert werden:\n",
    "\n",
    "- Windows: pip install guizero\n",
    "- Linux/Mac: pip3 install guizero\n",
    "\n",
    "Auf der Webseite wird eine alternative Möglichkeit der Installation vorgestellt, die mit einem Download auskommt."
   ]
  },
  {
   "cell_type": "markdown",
   "metadata": {},
   "source": [
    "## Beispiele\n",
    "\n",
    "Die folgende Beispielanwendungen zeigen verschiedene GUI-Elemente von tkinter\n",
    "in Aktion. Der Quelltext muss ausgeführt werden, um das Fenster zu sehen."
   ]
  },
  {
   "cell_type": "code",
   "execution_count": 1,
   "metadata": {},
   "outputs": [],
   "source": [
    "import guizero"
   ]
  },
  {
   "cell_type": "markdown",
   "metadata": {},
   "source": [
    "Zunächst ein leeres Fenster ohne Inhalt.\n",
    "\n",
    "![blank](blank_window.png)"
   ]
  },
  {
   "cell_type": "code",
   "execution_count": 2,
   "metadata": {},
   "outputs": [],
   "source": [
    "class BlankWindow:\n",
    "    def __init__(self, title=\"Blank Window\"):\n",
    "        self.root = guizero.App(title=title)\n",
    "        \n",
    "    def run(self):\n",
    "        self.root.display()\n",
    "        \n",
    "\n",
    "w = BlankWindow()\n",
    "w.run()"
   ]
  },
  {
   "cell_type": "markdown",
   "metadata": {},
   "source": [
    "## Buttons\n",
    "\n",
    "Nun ein Fenster mit einem Button. Die Methode `click` wird bei einem Klick auf den Button ausgeführt.\n",
    "\n",
    "![blank](with_button.png)"
   ]
  },
  {
   "cell_type": "code",
   "execution_count": 3,
   "metadata": {},
   "outputs": [
    {
     "name": "stdout",
     "output_type": "stream",
     "text": [
      "Button clicked!\n",
      "Button clicked!\n"
     ]
    }
   ],
   "source": [
    "class WindowWithButton(BlankWindow):\n",
    "    def __init__(self):\n",
    "        super().__init__(\"With Button\")\n",
    "        # add button, invoking method 'click' when clicked.\n",
    "        btn = guizero.PushButton(self.root, text=\"next\", \n",
    "                                 command=self.click)\n",
    "        \n",
    "    def click(self):\n",
    "        print(\"Button clicked!\")\n",
    "\n",
    "        \n",
    "w = WindowWithButton()\n",
    "w.run()   "
   ]
  },
  {
   "cell_type": "markdown",
   "metadata": {},
   "source": [
    "## Layout\n",
    "\n",
    "Zwei Buttons können in einem [Grid-Layout](https://lawsie.github.io/guizero/layout/) angeordnet werden.\n",
    "\n",
    "![blank](with_2_buttons.png)"
   ]
  },
  {
   "cell_type": "code",
   "execution_count": 4,
   "metadata": {},
   "outputs": [],
   "source": [
    "class WindowWithTwoButtons:\n",
    "    def __init__(self):\n",
    "        self.root = guizero.App(title='Two Buttons', layout='grid')\n",
    "        btn1 = guizero.PushButton(self.root, text=\"btn1\",\n",
    "                                  grid=[0,0])\n",
    "        btn2 = guizero.PushButton(self.root, text=\"btn2\",\n",
    "                                  grid=[1,0])\n",
    "    def run(self):\n",
    "        self.root.display()\n",
    "        \n",
    "w = WindowWithTwoButtons()\n",
    "w.run()"
   ]
  },
  {
   "cell_type": "markdown",
   "metadata": {},
   "source": [
    "## Bilder\n",
    "\n",
    "Die Klasse `Picture` kann genutzt werden, um [Bilder anzuzeigen](https://lawsie.github.io/guizero/images/). Hierfür wird das folgende Bild `ball.gif` verwendet.\n",
    "\n",
    "![Ball](ball.gif)\n",
    "![blank](with_label.png)"
   ]
  },
  {
   "cell_type": "code",
   "execution_count": 5,
   "metadata": {},
   "outputs": [],
   "source": [
    "class WindowWithLabel(BlankWindow):\n",
    "    def __init__(self):\n",
    "        super().__init__(\"With Label\")\n",
    "        # add image in a Picture-Object\n",
    "        self.bild = guizero.Picture(self.root,\n",
    "                                    image=\"ball.gif\")\n",
    "        \n",
    "w = WindowWithLabel()\n",
    "w.run()"
   ]
  },
  {
   "cell_type": "markdown",
   "metadata": {},
   "source": [
    "## Komplexeres Beispiel\n",
    "\n",
    "Nun ein komplexeres Beispiel mit einem Menü, einem Button und einem Label.\n",
    "\n",
    "![blank](complex_demo.png)"
   ]
  },
  {
   "cell_type": "code",
   "execution_count": 6,
   "metadata": {},
   "outputs": [],
   "source": [
    "class GUI:\n",
    "    def __init__(self):\n",
    "        self.counter = 0\n",
    "\n",
    "        root = guizero.App(title='TKinter Demo', layout='grid')\n",
    "\n",
    "        guizero.MenuBar(root,\n",
    "                       toplevel=['Tools'],\n",
    "                       options=[\n",
    "                           [ ['Next', self.click] ]\n",
    "                       ])\n",
    "        # add image\n",
    "        bild = guizero.Picture(root, image=\"ball.gif\",\n",
    "                              grid=[0,0])\n",
    "\n",
    "        # add button, invoking method 'click' when clicked.\n",
    "        btn = guizero.PushButton(root, text=\"next\", \n",
    "                                 command=self.click,\n",
    "                                 grid=[0,1])\n",
    "\n",
    "        # add label with counter value\n",
    "        self.lbl = guizero.Text(root, \n",
    "                                text=\"Label für Counter\",\n",
    "                                grid=[1,1])\n",
    "\n",
    "        # add entry field\n",
    "        self.ent = guizero.TextBox(root, grid=[2,1])\n",
    "\n",
    "        # entering main event loop\n",
    "        root.display()\n",
    "\n",
    "    def click(self):\n",
    "        # update label and counter\n",
    "        self.lbl.value = \"Counter %s\" % self.counter\n",
    "        self.counter += 1\n",
    "\n",
    "if __name__ == \"__main__\":\n",
    "    GUI()"
   ]
  }
 ],
 "metadata": {
  "kernelspec": {
   "display_name": "Python 3",
   "language": "python",
   "name": "python3"
  },
  "language_info": {
   "codemirror_mode": {
    "name": "ipython",
    "version": 3
   },
   "file_extension": ".py",
   "mimetype": "text/x-python",
   "name": "python",
   "nbconvert_exporter": "python",
   "pygments_lexer": "ipython3",
   "version": "3.7.0"
  }
 },
 "nbformat": 4,
 "nbformat_minor": 2
}
