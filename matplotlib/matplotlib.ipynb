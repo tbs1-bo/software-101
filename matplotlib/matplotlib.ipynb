{
 "cells": [
  {
   "cell_type": "markdown",
   "metadata": {},
   "source": [
    "# Matplotlib\n",
    "\n",
    "Die Bilbiothek [matplotlib](https://matplotlib.org) kann für die Erzeugung verschiedener Diagramme genutzt werden. \n",
    "\n",
    "Sie kann mit Hilfe von `pip` leicht installiert werden:\n",
    "\n",
    "    $ pip install matplotlib\n",
    "    \n",
    "Wenn alles geklappt hat, können wir die Bilbiothek importieren."
   ]
  },
  {
   "cell_type": "code",
   "execution_count": 1,
   "metadata": {},
   "outputs": [],
   "source": [
    "import matplotlib\n",
    "import matplotlib.pyplot as plt"
   ]
  },
  {
   "cell_type": "markdown",
   "metadata": {},
   "source": [
    "Wir erstellen eine Liste mit X- und Y-Werten, die in einem Koordinatensystem gezeichnet werden soll."
   ]
  },
  {
   "cell_type": "code",
   "execution_count": 2,
   "metadata": {},
   "outputs": [],
   "source": [
    "xs = [-3,-2,-1,0,1,2,3]\n",
    "ys = [9,4,1,0,1,4,9]"
   ]
  },
  {
   "cell_type": "markdown",
   "metadata": {},
   "source": [
    "Mit Hilfe der Funktion `plot` können einfache Plots erstellt werden. Der Plot wird anschließend mit der Funktion `savefig` direkt als PNG- und SVG-Bild abgespeichert, um ihn weiterverwenden zu können."
   ]
  },
  {
   "cell_type": "code",
   "execution_count": 3,
   "metadata": {},
   "outputs": [
    {
     "data": {
      "image/png": "[encoded data removed]",
      "text/plain": [
       "<Figure size 432x288 with 1 Axes>"
      ]
     },
     "metadata": {
      "needs_background": "light"
     },
     "output_type": "display_data"
    }
   ],
   "source": [
    "plt.plot(xs, ys)\n",
    "plt.savefig(\"plot.png\")\n",
    "plt.savefig(\"plot.svg\")"
   ]
  },
  {
   "cell_type": "markdown",
   "metadata": {},
   "source": [
    "Es wurde sowohl eine PNG-Datei als Bitmap, als auch eine SVG-Datei als Vektorformat abgespeichert."
   ]
  },
  {
   "cell_type": "code",
   "execution_count": 4,
   "metadata": {},
   "outputs": [
    {
     "name": "stdout",
     "output_type": "stream",
     "text": [
      "plot.png: PNG image data, 432 x 288, 8-bit/color RGBA, non-interlaced\r\n",
      "plot.svg: SVG Scalable Vector Graphics image\r\n"
     ]
    }
   ],
   "source": [
    "! file plot.png plot.svg"
   ]
  },
  {
   "cell_type": "markdown",
   "metadata": {},
   "source": [
    "Das PNG-Bild\n",
    "\n",
    "![Bild PNG](plot.png) \n",
    "\n",
    "Das SVG-Bild\n",
    "\n",
    "![Bild SVG](plot.svg)"
   ]
  },
  {
   "cell_type": "markdown",
   "metadata": {},
   "source": [
    "Für viele weitere Plots und zahlreiche Konfigurationsmöglichkeiten hilft ein Blick in die [Beispiele](https://matplotlib.org/tutorials/introductory/sample_plots.html) und die Beschreibung der Methode [plot](https://matplotlib.org/api/_as_gen/matplotlib.pyplot.plot.html#matplotlib.pyplot.plot)."
   ]
  }
 ],
 "metadata": {
  "kernelspec": {
   "display_name": "Python 3",
   "language": "python",
   "name": "python3"
  },
  "language_info": {
   "codemirror_mode": {
    "name": "ipython",
    "version": 3
   },
   "file_extension": ".py",
   "mimetype": "text/x-python",
   "name": "python",
   "nbconvert_exporter": "python",
   "pygments_lexer": "ipython3",
   "version": "3.7.0"
  }
 },
 "nbformat": 4,
 "nbformat_minor": 2
}
