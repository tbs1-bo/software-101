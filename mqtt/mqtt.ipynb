{
 "cells": [
  {
   "cell_type": "markdown",
   "metadata": {},
   "source": [
    "# MQTT\n",
    "\n",
    "[MQTT](https://de.wikipedia.org/wiki/MQTT) ist ein u.a. von IBM entwickeltes offenes Protokoll, das auf Port 1883 und 8883 (mit Verschlüsselung) läuft und für die Übertragung von Sensordaten zwischen Maschinen entwickelt wurde. Ein [Artikel bei heise](https://heise.de/-2168152) und ein [Artikel bei dzone](https://dzone.com/articles/mqtt-the-nerve-system-of-iot) beschreiben das Protokoll ausführlich."
   ]
  },
  {
   "cell_type": "markdown",
   "metadata": {},
   "source": [
    "## Broker\n",
    "\n",
    "Bei der Kommunikation ist ein Broker beteiligt, der die Nachrichten empfangen und verteilen kann. Eine Implementierung für einen solchen Broker ist \"mosquitto\". Er kann über den Paket-Manager installiert werden.\n",
    "\n",
    "    sudo apt install mosquitto\n",
    "    \n",
    "Für Testzwecke kann auch ein öffentlicher Broker von Eclipse verwendet werden."
   ]
  },
  {
   "cell_type": "code",
   "execution_count": 1,
   "metadata": {},
   "outputs": [],
   "source": [
    "MQTT_BROKER = \"test.mosquitto.org\""
   ]
  },
  {
   "cell_type": "markdown",
   "metadata": {},
   "source": [
    "## Clients\n",
    "\n",
    "Mit dem Broker können nun verschiedene Clients kommunizieren. Hierbei kann ein Client ein Topic abonnieren oder Nachrichten in ein Topic schreiben."
   ]
  },
  {
   "cell_type": "markdown",
   "metadata": {},
   "source": [
    "Ein Topic ist ähnlich einer URL oder einem Dateipfad aufgebaut und verweist z.B. auf einen Sensor an einem bestimmten Ort."
   ]
  },
  {
   "cell_type": "code",
   "execution_count": 2,
   "metadata": {},
   "outputs": [],
   "source": [
    "TOPIC = \"Erdgeschoss/Wohnzimmer/Temp\""
   ]
  },
  {
   "cell_type": "markdown",
   "metadata": {},
   "source": [
    "Als Client-Bibliothek für Python nutzen wir [paho-mqtt](https://pypi.python.org/pypi/paho-mqtt/). Diese lässt sich einfach installieren. \n",
    "\n",
    "- Windows: `python -m pip install paho-mqtt` oder `py -m pip install paho-mqtt`\n",
    "- Linux, MacOS: `python3 -m pip install paho-mqtt`"
   ]
  },
  {
   "cell_type": "markdown",
   "metadata": {},
   "source": [
    "## Subscriber\n",
    "\n",
    "Wir beginnen mit einem Client, der ein Topic abonniert und bei neuen Nachrichten eine Ausgabe auf die Konsole macht. Hierfür geben wir zwei callback-Methoden an.\n",
    "\n",
    "1. `my_connect_method` soll aufgerufen werden, sobald eine Verbindung zum Broker zustande gekommen ist.\n",
    "2. `my_message_method` soll bei jeder neuen Nachricht aufgerufen werden."
   ]
  },
  {
   "cell_type": "code",
   "execution_count": 3,
   "metadata": {},
   "outputs": [],
   "source": [
    "import paho.mqtt.client as mqtt\n",
    "\n",
    "def my_connect_method(client, userdata, flags, rc, properties):\n",
    "    print(\"Connected. Subscribing to topic\", TOPIC)\n",
    "    client.subscribe(TOPIC)\n",
    "    \n",
    "def my_message_method(client, userdata, msg):\n",
    "    msg_str = msg.payload.decode(\"UTF8\")\n",
    "    print(\"Message received:\", msg.topic, msg_str)"
   ]
  },
  {
   "cell_type": "markdown",
   "metadata": {},
   "source": [
    "Nun erstellen wir einen Client und legen die eben erstellten Callback-Methoden fest."
   ]
  },
  {
   "cell_type": "code",
   "execution_count": 4,
   "metadata": {},
   "outputs": [],
   "source": [
    "client = mqtt.Client(mqtt.CallbackAPIVersion.VERSION2)\n",
    "client.on_connect = my_connect_method\n",
    "client.on_message = my_message_method"
   ]
  },
  {
   "cell_type": "markdown",
   "metadata": {},
   "source": [
    "Schließlich verbinden wir den Client mit dem Broker und warten auf neue Nachrichten."
   ]
  },
  {
   "cell_type": "code",
   "execution_count": 6,
   "metadata": {},
   "outputs": [
    {
     "data": {
      "text/plain": [
       "<MQTTErrorCode.MQTT_ERR_SUCCESS: 0>"
      ]
     },
     "execution_count": 6,
     "metadata": {},
     "output_type": "execute_result"
    }
   ],
   "source": [
    "client.connect(MQTT_BROKER)"
   ]
  },
  {
   "cell_type": "markdown",
   "metadata": {},
   "source": [
    "Wenn der Client verbunden ist, wird eine Endlosschleife gestartet, die regelmäßig neue Nachrichten abruft. Es gibt verschiedene Varianten, diese Netzwerkschleife zu starten, die [hier](https://pypi.org/project/paho-mqtt/#network-loop) genauer beschrieben werden.\n",
    "\n",
    "- `loop_start` startet den Abruf im Hintergrund, \n",
    "- `loop_forever` startet die Netzwerkschleife im Fordergrund und blockiert damit die Anwendung ab diesem Aufruf."
   ]
  },
  {
   "cell_type": "code",
   "execution_count": 7,
   "metadata": {},
   "outputs": [
    {
     "data": {
      "text/plain": [
       "<MQTTErrorCode.MQTT_ERR_SUCCESS: 0>"
      ]
     },
     "execution_count": 7,
     "metadata": {},
     "output_type": "execute_result"
    },
    {
     "name": "stdout",
     "output_type": "stream",
     "text": [
      "Connected. Subscribing to topic Erdgeschoss/Wohnzimmer/Temp\n",
      "Message received: Erdgeschoss/Wohnzimmer/Temp 22\n",
      "Message received: Erdgeschoss/Wohnzimmer/Temp 23\n"
     ]
    }
   ],
   "source": [
    "client.loop_start()"
   ]
  },
  {
   "cell_type": "markdown",
   "metadata": {},
   "source": [
    "## Publisher\n",
    "\n",
    "Erstellen wir nun einen weiteren Client, der in dem Topic Nachrichten veröffentlicht."
   ]
  },
  {
   "cell_type": "code",
   "execution_count": 8,
   "metadata": {},
   "outputs": [
    {
     "data": {
      "text/plain": [
       "<MQTTErrorCode.MQTT_ERR_SUCCESS: 0>"
      ]
     },
     "execution_count": 8,
     "metadata": {},
     "output_type": "execute_result"
    }
   ],
   "source": [
    "publisher = mqtt.Client(mqtt.CallbackAPIVersion.VERSION2)\n",
    "publisher.connect(MQTT_BROKER)\n",
    "publisher.loop_start()"
   ]
  },
  {
   "cell_type": "markdown",
   "metadata": {},
   "source": [
    "Nun können wir eine Nachricht veröffentlichen. Wir sehen die Ausgabe aus unseren definierten Callback-Methoden, sobald die Nachricht eintrifft. "
   ]
  },
  {
   "cell_type": "code",
   "execution_count": 9,
   "metadata": {},
   "outputs": [
    {
     "data": {
      "text/plain": [
       "<paho.mqtt.client.MQTTMessageInfo at 0x7fd644343ba0>"
      ]
     },
     "execution_count": 9,
     "metadata": {},
     "output_type": "execute_result"
    }
   ],
   "source": [
    "publisher.publish(topic=TOPIC, payload=22)"
   ]
  },
  {
   "cell_type": "markdown",
   "metadata": {},
   "source": [
    "Mit der retain-Option wird die Nachricht auf dem Server gespeichert. Damit erfahren auch Clients von der Information, wenn sie sich später verbinden."
   ]
  },
  {
   "cell_type": "code",
   "execution_count": 10,
   "metadata": {},
   "outputs": [
    {
     "data": {
      "text/plain": [
       "<paho.mqtt.client.MQTTMessageInfo at 0x7fd644318680>"
      ]
     },
     "execution_count": 10,
     "metadata": {},
     "output_type": "execute_result"
    }
   ],
   "source": [
    "publisher.publish(topic=TOPIC, payload=23, retain=True)"
   ]
  },
  {
   "cell_type": "markdown",
   "metadata": {},
   "source": [
    "## Userdata\n",
    "\n",
    "Sollen Daten zwischen mehreren Nachrichten ausgetauscht werden, so kann ein ``userdata``-Objekt\n",
    "hierfür genutzt werden. Es wird beim Erstellen des MQTT-Clients übergeben und wird anschließend\n",
    "bei jedem Eintreffen einer Nachricht automatisch mit übermittelt."
   ]
  },
  {
   "cell_type": "code",
   "execution_count": 4,
   "metadata": {},
   "outputs": [],
   "source": [
    "USERDATA_TOPIC = \"userdata_test\"\n",
    "\n",
    "# Client mit userdata-Objekt erzeugen\n",
    "a_list = []\n",
    "client = mqtt.Client(userdata=a_list)\n",
    "\n",
    "# die Methode nutzt das userdata-Objekt bei eintreffenden Nachrichten\n",
    "def message_with_userdata_received(client, userdata, msg):\n",
    "    my_list = userdata\n",
    "    my_list.append(msg.payload.decode())\n",
    "    print(\"userdata\", userdata)\n",
    "\n",
    "client.on_message = message_with_userdata_received\n",
    "client.connect(MQTT_BROKER)\n",
    "client.subscribe(USERDATA_TOPIC)\n",
    "client.loop_start()"
   ]
  },
  {
   "cell_type": "markdown",
   "metadata": {},
   "source": [
    "Ein Publisher wird erzeugt und verbindet sich mit dem Broker"
   ]
  },
  {
   "cell_type": "code",
   "execution_count": 5,
   "metadata": {},
   "outputs": [],
   "source": [
    "publisher = mqtt.Client()\n",
    "publisher.connect(MQTT_BROKER, MQTT_PORT)\n",
    "publisher.loop_start()"
   ]
  },
  {
   "cell_type": "markdown",
   "metadata": {},
   "source": [
    "Nun werden ein paar Zahlen in das Topic gesendet und dadurch die Liste in userdata\n",
    "gefüllt."
   ]
  },
  {
   "cell_type": "code",
   "execution_count": 6,
   "metadata": {},
   "outputs": [
    {
     "name": "stdout",
     "output_type": "stream",
     "text": [
      "userdata ['21']\n",
      "userdata ['21', '22']\n",
      "userdata ['21', '22', '23']\n"
     ]
    }
   ],
   "source": [
    "for i in [21,22,23]:\n",
    "    publisher.publish(topic=USERDATA_TOPIC, payload=i)"
   ]
  },
  {
   "cell_type": "markdown",
   "metadata": {},
   "source": [
    "## MQTT-Recorder\n",
    "\n",
    "Mit dem [mqtt-recorder](https://github.com/rpdswtk/mqtt_recorder) können Nachrichten an einen Broker aufgezeichnet und \n",
    "später wieder abgespielt werden.\n",
    "\n",
    "Dies hilft immer dann, wenn die Hardware noch keine Daten an den Broker senden kann.\n",
    "\n",
    "### Installation\n",
    "\n",
    "Das Tool kann einfach über `pip` installiert werden: `pip install mqtt-recorder`\n",
    "\n",
    "### Daten aufzeichnen \n",
    "\n",
    "`mqtt-recorder --mode record --host localhost --file daten.csv --topics topics.json `\n",
    "\n",
    "Aufbau der Datei `topics.json`\n",
    "\n",
    "```\n",
    "{ \n",
    "    \"topics\": [ \n",
    "        \"ein/topic\", \n",
    "        \"ein/anderes/topic\" \n",
    "    ] \n",
    "} \n",
    "```\n",
    "\n",
    "### Daten abspielen \n",
    "\n",
    "`mqtt-recorder --mode replay --host localhost --file daten.csv `"
   ]
  },
  {
   "cell_type": "markdown",
   "metadata": {},
   "source": [
    "## Dashboard\n",
    "\n",
    "Ein Dahsboard für MQTT ermöglicht es, Werte im Broker zu visualisieren. [Node-RED](https://nodered.org/) ist eine IOT-Plattform, die mit dem Raspberry Pi ausgeliefert wird. "
   ]
  },
  {
   "cell_type": "markdown",
   "metadata": {},
   "source": [
    "### Installation\n",
    "\n",
    "Node-Red kann um ein [Dahboard](https://flows.nodered.org/node/node-red-dashboard) erweitert werden. Hierzu wird in Node-RED im Menü \"Manage Palette\" > \"Install\" aufgerufen. In der Suchmaske kann mit `node-red-dashboard` ein solches Dashboard hinzugefügt werden.\n",
    "\n",
    "Falls der Menüpunkt nicht vorhanden ist, kann das Modul als npm-Modul über die Kommandozeile nachinstalliert werden.\n",
    "\n",
    "```\n",
    "    $ sudo apt install npm    \n",
    "    $ cd ~/.node-red\n",
    "    $ npm install node-red-dashboard\n",
    "```\n",
    "\n",
    "Nach einem Neustart von Node-RED, sind zusätzliche Knoten vorhanden, mit denen ein Dashboard erstellt werden kann."
   ]
  },
  {
   "cell_type": "markdown",
   "metadata": {},
   "source": [
    "### Beispiel-Flow\n",
    "\n",
    "Der folgende Flow zeigt oben einen Slider, der seinen Wert an einen MQTT-Broker sendet. Im unteren Bereich wird das gleiche Topic abonniert und der eingestellte Wert in einer Zeigeranzeige visualisiert.\n",
    "\n",
    "![flow](media/flow.png)"
   ]
  },
  {
   "cell_type": "markdown",
   "metadata": {},
   "source": [
    "<!--\n",
    "\n",
    "[{\"id\":\"4514f17c.ed104\",\"type\":\"tab\",\"label\":\"Flow 4\",\"disabled\":false,\"info\":\"\"},{\"id\":\"19f47891.e7549f\",\"type\":\"mqtt out\",\"z\":\"4514f17c.ed104\",\"name\":\"MQTT Erdgeschoss/Wohnzimmer/temp\",\"topic\":\"Erdgeschoss/Wohnzimmer/temp\",\"qos\":\"\",\"retain\":\"\",\"broker\":\"aa3df211.b5b298\",\"x\":413.8833312988281,\"y\":101.88333129882812,\"wires\":[]},{\"id\":\"15325225.39381e\",\"type\":\"ui_slider\",\"z\":\"4514f17c.ed104\",\"name\":\"Slider Temp.\",\"label\":\"Temperatur einstellen\",\"group\":\"58d4c9d3.e4bee8\",\"order\":0,\"width\":0,\"height\":0,\"passthru\":true,\"outs\":\"all\",\"topic\":\"\",\"min\":0,\"max\":\"100\",\"step\":1,\"x\":132.76666259765625,\"y\":104.73330688476562,\"wires\":[[\"19f47891.e7549f\"]]},{\"id\":\"9df909cb.8b6478\",\"type\":\"mqtt in\",\"z\":\"4514f17c.ed104\",\"name\":\"MQTT Erdgeschoss/Wohnzimmer/temp\",\"topic\":\"Erdgeschoss/Wohnzimmer/temp\",\"qos\":\"2\",\"broker\":\"aa3df211.b5b298\",\"x\":220.88333129882812,\"y\":265.8833312988281,\"wires\":[[\"aeadfad6.037a98\"]]},{\"id\":\"aeadfad6.037a98\",\"type\":\"ui_gauge\",\"z\":\"4514f17c.ed104\",\"name\":\"Anzeige\",\"group\":\"58d4c9d3.e4bee8\",\"order\":0,\"width\":0,\"height\":0,\"gtype\":\"gage\",\"title\":\"Temperatur\",\"label\":\"°C\",\"format\":\"{{value}}\",\"min\":0,\"max\":\"100\",\"colors\":[\"#00b500\",\"#e6e600\",\"#ca3838\"],\"seg1\":\"\",\"seg2\":\"\",\"x\":480.8833312988281,\"y\":278.1166687011719,\"wires\":[]},{\"id\":\"6e4c6faf.86a82\",\"type\":\"comment\",\"z\":\"4514f17c.ed104\",\"name\":\"Senden an den Broker\",\"info\":\"Nachrcit\",\"x\":161,\"y\":52.75,\"wires\":[]},{\"id\":\"fc2b6a3e.2ac3a\",\"type\":\"comment\",\"z\":\"4514f17c.ed104\",\"name\":\"Empfangen vom Broker\",\"info\":\"\",\"x\":172.88333129882812,\"y\":219.88333129882812,\"wires\":[]},{\"id\":\"aa3df211.b5b298\",\"type\":\"mqtt-broker\",\"z\":\"\",\"name\":\"eclipse\",\"broker\":\"iot.eclipse.org\",\"port\":\"1883\",\"clientid\":\"\",\"usetls\":false,\"compatmode\":true,\"keepalive\":\"60\",\"cleansession\":true,\"birthTopic\":\"\",\"birthQos\":\"0\",\"birthPayload\":\"\",\"closeTopic\":\"\",\"closeQos\":\"0\",\"closePayload\":\"\",\"willTopic\":\"\",\"willQos\":\"0\",\"willPayload\":\"\"},{\"id\":\"58d4c9d3.e4bee8\",\"type\":\"ui_group\",\"z\":\"\",\"name\":\"Default\",\"tab\":\"a485af3c.d49028\",\"disp\":true,\"width\":\"6\",\"collapse\":false},{\"id\":\"a485af3c.d49028\",\"type\":\"ui_tab\",\"z\":\"\",\"name\":\"Home\",\"icon\":\"dashboard\"}]\n",
    "\n",
    "-->"
   ]
  },
  {
   "cell_type": "markdown",
   "metadata": {},
   "source": [
    "Eine Änderung des Schiebereglers wird nun über einen MQTT-Broker an die Zeigeranzeige weitergeleitet.\n",
    "\n",
    "![flow in action](media/flow_action.gif)"
   ]
  },
  {
   "cell_type": "markdown",
   "metadata": {},
   "source": [
    "## Links\n",
    "\n",
    "* [MQTT-Spiele](http://www.jython.ch/index.php?inhalt_links=navigation.inc.php&inhalt_mitte=mqttgames/mqttGames.inc.php)\n",
    "* [traze](https://traze.iteratec.de/) ist ein Spiel, das über MQTT gespielt wird."
   ]
  }
 ],
 "metadata": {
  "kernelspec": {
   "display_name": "Python 3 (ipykernel)",
   "language": "python",
   "name": "python3"
  },
  "language_info": {
   "codemirror_mode": {
    "name": "ipython",
    "version": 3
   },
   "file_extension": ".py",
   "mimetype": "text/x-python",
   "name": "python",
   "nbconvert_exporter": "python",
   "pygments_lexer": "ipython3",
   "version": "3.12.5"
  }
 },
 "nbformat": 4,
 "nbformat_minor": 4
}
