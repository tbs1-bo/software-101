{
 "cells": [
  {
   "cell_type": "markdown",
   "metadata": {},
   "source": [
    "## Netzwerkprogrammierung\n",
    "\n",
    "Die Netzwerkprogrammierung auf der Ebene von Sockets wird in Python über das Modul \n",
    "[socket](https://docs.python.org/3/library/socket.html)\n",
    "realisiert. Ein \n",
    "[HOWTO socket programming](https://docs.python.org/3/howto/sockets.html)\n",
    "beschreibt weitere Details.\n",
    "\n",
    "Wir benötigen daher zunächst einen Import für das Modul `socket`."
   ]
  },
  {
   "cell_type": "code",
   "execution_count": 9,
   "metadata": {},
   "outputs": [],
   "source": [
    "import socket"
   ]
  },
  {
   "cell_type": "markdown",
   "metadata": {},
   "source": [
    "Ein Socket besteht immer aus eine IP-Adresse und einem Port. Für den Server wählen wir eine lokale Adresse und einen hohen Port."
   ]
  },
  {
   "cell_type": "code",
   "execution_count": 10,
   "metadata": {},
   "outputs": [],
   "source": [
    "SERVER = (\"127.0.0.1\", 8181)"
   ]
  },
  {
   "cell_type": "markdown",
   "metadata": {},
   "source": [
    "## Echo-Server\n",
    "\n",
    "Der Echo-Server funktioniert ganz einfach. Er soll die Anfrage des Clients entgegennehmen und wieder zurücksenden."
   ]
  },
  {
   "cell_type": "code",
   "execution_count": 11,
   "metadata": {},
   "outputs": [],
   "source": [
    "def run_server():\n",
    "    # Creating socket and binding to IP, PORT\n",
    "    server_socket = socket.socket()\n",
    "    server_socket.bind(SERVER)\n",
    "    server_socket.listen(5)  # 5 is a backlog of this many hanging connections\n",
    "    \n",
    "    print(\"SRV-THREAD: Waiting for connection\")\n",
    "    client_socket, address_info = server_socket.accept()  # wait until connection\n",
    "\n",
    "    print(\"SRV-THREAD: Client connected from\", address_info)\n",
    "    data = client_socket.recv(128)\n",
    " \n",
    "    print(\"SRV-THREAD: Recevied:\", data)\n",
    "    # Data is a bytes stream. Must be converted to a UTF8-String\n",
    "    payload = \"SERVER RECEIVED: \" + str(data, \"utf8\")\n",
    "    client_socket.send(bytes(payload, \"utf8\"))\n",
    "    print(\"SRV-THREAD: finished\")\n",
    "    # closing server. Usually this will be run in a loop.\n",
    "    server_socket.close()"
   ]
  },
  {
   "cell_type": "markdown",
   "metadata": {},
   "source": [
    "Gewöhnlich wird der Server in einer eigenen Datei oder auf einem anderen Computer ausgeführt. Aus technischen Gründen wählen wir einen eigenen Thread, in dem der Server laufen soll."
   ]
  },
  {
   "cell_type": "code",
   "execution_count": 12,
   "metadata": {},
   "outputs": [
    {
     "name": "stdout",
     "output_type": "stream",
     "text": [
      "SRV-THREAD: Waiting for connection\n"
     ]
    }
   ],
   "source": [
    "import threading\n",
    "server_thread = threading.Thread(target=run_server)\n",
    "server_thread.start()"
   ]
  },
  {
   "cell_type": "markdown",
   "metadata": {},
   "source": [
    "## Client\n",
    "\n",
    "Der Client verbindet sich zu IP und Port des Servers. In der Ausgabe ist der Port des Clients zu sehen, über den der Server mit diesem kommuniziert. Er wird zufällig gewählt. Die Ausgabe stammt vom Server-Thread."
   ]
  },
  {
   "cell_type": "code",
   "execution_count": 13,
   "metadata": {},
   "outputs": [
    {
     "name": "stdout",
     "output_type": "stream",
     "text": [
      "SRV-THREAD: Client connected from ('127.0.0.1', 49662)\n"
     ]
    }
   ],
   "source": [
    "client_socket = socket.socket()\n",
    "client_socket.connect(SERVER)"
   ]
  },
  {
   "cell_type": "markdown",
   "metadata": {},
   "source": [
    "Die Daten müssen als Bytes gesendet und empfanden werden. Die Methode `bytes` hilft bei der Kovertierung von Zeichen in Bytes. Es sind Ausgaben des Servers und auch die Länge der gesendeten Daten in Bytes zu sehen."
   ]
  },
  {
   "cell_type": "code",
   "execution_count": 14,
   "metadata": {},
   "outputs": [
    {
     "name": "stdout",
     "output_type": "stream",
     "text": [
      "SRV-THREAD: Recevied:"
     ]
    },
    {
     "data": {
      "text/plain": [
       "12"
      ]
     },
     "execution_count": 14,
     "metadata": {},
     "output_type": "execute_result"
    },
    {
     "name": "stdout",
     "output_type": "stream",
     "text": [
      " b'Hallo Server'\n",
      "SRV-THREAD: finished\n"
     ]
    }
   ],
   "source": [
    "payload = bytes(\"Hallo Server\", \"utf8\")\n",
    "client_socket.send(payload)"
   ]
  },
  {
   "cell_type": "markdown",
   "metadata": {},
   "source": [
    "Der Server antwortet nun. Wir empfangen die Daten und geben sie aus."
   ]
  },
  {
   "cell_type": "code",
   "execution_count": 7,
   "metadata": {},
   "outputs": [
    {
     "name": "stdout",
     "output_type": "stream",
     "text": [
      "Client received from server: b'SERVER RECEIVED: Hallo Server'\n"
     ]
    }
   ],
   "source": [
    "data = client_socket.recv(1024)\n",
    "print(\"Client received from server:\", data)"
   ]
  },
  {
   "cell_type": "markdown",
   "metadata": {},
   "source": [
    "Schließlich wird der Socket geschlossen."
   ]
  },
  {
   "cell_type": "code",
   "execution_count": 8,
   "metadata": {},
   "outputs": [],
   "source": [
    "client_socket.close()"
   ]
  },
  {
   "cell_type": "code",
   "execution_count": null,
   "metadata": {},
   "outputs": [],
   "source": []
  }
 ],
 "metadata": {
  "kernelspec": {
   "display_name": "Python 3",
   "language": "python",
   "name": "python3"
  },
  "language_info": {
   "codemirror_mode": {
    "name": "ipython",
    "version": 3
   },
   "file_extension": ".py",
   "mimetype": "text/x-python",
   "name": "python",
   "nbconvert_exporter": "python",
   "pygments_lexer": "ipython3",
   "version": "3.7.0"
  }
 },
 "nbformat": 4,
 "nbformat_minor": 2
}
