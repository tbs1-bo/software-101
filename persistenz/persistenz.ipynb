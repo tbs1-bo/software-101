{
 "cells": [
  {
   "cell_type": "markdown",
   "metadata": {},
   "source": [
    "# Persistenz\n",
    "\n",
    "Unter Persistenz versteht man das dauerhafte Speichern von Daten. Hierfür existieren grob zwei Möglichkeiten: Daten in einer Datenbank oder in einer Datei speichern. Hier soll es um die Persistenz in Dateien gehen."
   ]
  },
  {
   "cell_type": "markdown",
   "metadata": {},
   "source": [
    "Wir wollen verschiedene Messdaten speichern und erzeugen dafür zunächst ein paar Testdaten. Die bestehen aus einem Zeitstempel wie er von `time.time()` erzeugt wird und einem Messwert - z.B. ein Temperaturwert."
   ]
  },
  {
   "cell_type": "code",
   "execution_count": 2,
   "metadata": {},
   "outputs": [],
   "source": [
    "EXAMPLE_DATA = [\n",
    "    (1548573684.800749, 25),\n",
    "    (1548573685.810749, 24.8),\n",
    "    (1548573686.820749, 24)\n",
    "]"
   ]
  },
  {
   "cell_type": "markdown",
   "metadata": {},
   "source": [
    "Die Daten können nun z.B. in einer einfachen Klasse `Datastore` verwaltet werden."
   ]
  },
  {
   "cell_type": "code",
   "execution_count": 3,
   "metadata": {},
   "outputs": [],
   "source": [
    "class Datastore:\n",
    "    def __init__(self):\n",
    "        self.data = []"
   ]
  },
  {
   "cell_type": "markdown",
   "metadata": {},
   "source": [
    "Nun erzeugen wir ein Objekt und fügen die Testdaten hinzu."
   ]
  },
  {
   "cell_type": "code",
   "execution_count": 4,
   "metadata": {},
   "outputs": [],
   "source": [
    "ds = Datastore()\n",
    "ds.data = EXAMPLE_DATA"
   ]
  },
  {
   "cell_type": "markdown",
   "metadata": {},
   "source": [
    "## CSV\n",
    "\n",
    "Die Daten sollen nun in einer CSV-Datei gespeichert werden. Hierbei handelt es sich um ein Tesxtformat, das einzelne Datensätze in Zeilen speichert. Jedes Datum im Datensatz wird über ein Zeichen getrennt: wir verwenden das Semikolon, da es selten in Daten vorkommt."
   ]
  },
  {
   "cell_type": "code",
   "execution_count": 19,
   "metadata": {},
   "outputs": [],
   "source": [
    "class Datastore:\n",
    "    def __init__(self):\n",
    "        self.data = []\n",
    "\n",
    "    def save_csv(self, filename):\n",
    "        'Save data to CSV file.'\n",
    "        with open(filename, \"wt\") as file:\n",
    "            for timeval, tempval in self.data:\n",
    "                file.write(str(timeval) + \";\" + str(tempval) + \"\\n\")\n",
    "\n",
    "    def load_csv(self, filename):\n",
    "        'Load content of CSV-file into data attribute.'\n",
    "        self.data = []\n",
    "        with open(filename, \"rt\") as file:\n",
    "            lines = file.readlines()\n",
    "            \n",
    "        for line in lines:\n",
    "            time, temp = line.strip().split(\";\")\n",
    "            self.data.append( (float(time), float(temp)) )"
   ]
  },
  {
   "cell_type": "markdown",
   "metadata": {},
   "source": [
    "Ein Datastore-Objekt kann nun mit den Testdaten befüllt und gespeichert werden."
   ]
  },
  {
   "cell_type": "code",
   "execution_count": 23,
   "metadata": {},
   "outputs": [
    {
     "name": "stdout",
     "output_type": "stream",
     "text": [
      "Writing data: [(1548573684.800749, 25), (1548573685.810749, 24.8), (1548573686.820749, 24)]\n"
     ]
    }
   ],
   "source": [
    "ds = Datastore()\n",
    "ds.data = EXAMPLE_DATA\n",
    "print('Writing data:', ds.data)\n",
    "ds.save_csv(\"data.csv\")"
   ]
  },
  {
   "cell_type": "markdown",
   "metadata": {},
   "source": [
    "Nun wurde eine Datei geschrieben, deren Inhalt wir uns einmal anschauen."
   ]
  },
  {
   "cell_type": "code",
   "execution_count": 24,
   "metadata": {},
   "outputs": [
    {
     "name": "stdout",
     "output_type": "stream",
     "text": [
      "1548573684.800749;25\r\n",
      "1548573685.810749;24.8\r\n",
      "1548573686.820749;24\r\n"
     ]
    }
   ],
   "source": [
    "!cat data.csv"
   ]
  },
  {
   "cell_type": "markdown",
   "metadata": {},
   "source": [
    "Anschließend können die Daten wieder geladen werden."
   ]
  },
  {
   "cell_type": "code",
   "execution_count": 25,
   "metadata": {},
   "outputs": [
    {
     "name": "stdout",
     "output_type": "stream",
     "text": [
      "Loaded data: [(1548573684.800749, 25.0), (1548573685.810749, 24.8), (1548573686.820749, 24.0)]\n"
     ]
    }
   ],
   "source": [
    "ds2 = Datastore()\n",
    "ds2.load_csv('data.csv')\n",
    "print('Loaded data:', ds2.data)"
   ]
  },
  {
   "cell_type": "markdown",
   "metadata": {},
   "source": [
    "## Pickle\n",
    "\n",
    "Mit der Bibliothek `pickle`, können ganze Objekte in Python in einer Binärdatei gespeichert und wieder geladen werden. pickle muss nicht extra installiert werden. Wir müssen es aber zu Beginn importieren. Die Datastoreklasse wird nun um Methoden für das Speichern und Laden ergänzt."
   ]
  },
  {
   "cell_type": "code",
   "execution_count": 11,
   "metadata": {},
   "outputs": [],
   "source": [
    "import pickle\n",
    "\n",
    "class Datastore:\n",
    "    def __init__(self):\n",
    "        self.data = []\n",
    "\n",
    "    def save_pickle(self, filename):\n",
    "        'Save object to a file (binary pickle format).'\n",
    "        with open(filename, 'wb') as file:\n",
    "            pickle.dump(self, file)\n",
    "\n",
    "    @staticmethod\n",
    "    def load_pickle(filename):\n",
    "        'Load Datastore object from file and return it.'\n",
    "        with open(filename, 'rb') as file:\n",
    "            ds = pickle.load(file)\n",
    "            return ds"
   ]
  },
  {
   "cell_type": "markdown",
   "metadata": {},
   "source": [
    "Man beachte den Dekorator `@staticmethod` bei der Methode `load_pickle`. Er bewirkt, dass die Methode nicht auf dem Objekt, sondern auf der Klasse aufgerufen wird. Das ist sinnvoll, da wir beim Laden noch kein Objekt haben. \n",
    "\n",
    "Doch speichern wir zunächst die Testdaten."
   ]
  },
  {
   "cell_type": "code",
   "execution_count": 12,
   "metadata": {},
   "outputs": [
    {
     "name": "stdout",
     "output_type": "stream",
     "text": [
      "Write data [(1548573684.800749, 25), (1548573685.810749, 24.8), (1548573686.820749, 24)]\n"
     ]
    }
   ],
   "source": [
    "ds = Datastore()\n",
    "ds.data = EXAMPLE_DATA\n",
    "print('Write data', ds.data)\n",
    "ds.save_pickle('data.pickle')"
   ]
  },
  {
   "cell_type": "markdown",
   "metadata": {},
   "source": [
    "Es wurde eine Datei `data.pickle` angelegt, die man sich mit einem Hexeditor anschauen kann. Darin kann man Teile der Klasse erkennen. Es ist aber schwieriger, die Daten zu überprüfen als dies bei einer Textdatei der Fall ist."
   ]
  },
  {
   "cell_type": "code",
   "execution_count": 15,
   "metadata": {},
   "outputs": [
    {
     "name": "stdout",
     "output_type": "stream",
     "text": [
      "00000000: 8003 635f 5f6d 6169 6e5f 5f0a 4461 7461  ..c__main__.Data\r\n",
      "00000010: 7374 6f72 650a 7100 2981 7101 7d71 0258  store.q.).q.}q.X\r\n",
      "00000020: 0400 0000 6461 7461 7103 5d71 0428 4741  ....dataq.]q.(GA\r\n",
      "00000030: d713 56fd 333f 794b 1986 7105 4741 d713  ..V.3?yK..q.GA..\r\n",
      "00000040: 56fd 73e3 5047 4038 cccc cccc cccd 8671  V.s.PG@8.......q\r\n",
      "00000050: 0647 41d7 1356 fdb4 8727 4b18 8671 0765  .GA..V...'K..q.e\r\n",
      "00000060: 7362 2e                                  sb.\r\n"
     ]
    }
   ],
   "source": [
    "!xxd data.pickle"
   ]
  },
  {
   "cell_type": "markdown",
   "metadata": {},
   "source": [
    "Nun werden die Dateien wieder geladen. Wir rufen die Methoden zum Laden direkt auf der Klasse auf und erhalten ein Objekt, so wie es vor dem Speichern ausgehen hat."
   ]
  },
  {
   "cell_type": "code",
   "execution_count": 16,
   "metadata": {},
   "outputs": [
    {
     "name": "stdout",
     "output_type": "stream",
     "text": [
      "Loaded data [(1548573684.800749, 25), (1548573685.810749, 24.8), (1548573686.820749, 24)]\n"
     ]
    }
   ],
   "source": [
    "ds2 = Datastore.load_pickle('data.pickle')\n",
    "print('Loaded data', ds2.data)"
   ]
  },
  {
   "cell_type": "code",
   "execution_count": null,
   "metadata": {},
   "outputs": [],
   "source": []
  }
 ],
 "metadata": {
  "kernelspec": {
   "display_name": "Python 3",
   "language": "python",
   "name": "python3"
  },
  "language_info": {
   "codemirror_mode": {
    "name": "ipython",
    "version": 3
   },
   "file_extension": ".py",
   "mimetype": "text/x-python",
   "name": "python",
   "nbconvert_exporter": "python",
   "pygments_lexer": "ipython3",
   "version": "3.5.2"
  }
 },
 "nbformat": 4,
 "nbformat_minor": 2
}
