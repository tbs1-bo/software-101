{
 "cells": [
  {
   "cell_type": "markdown",
   "metadata": {},
   "source": [
    "# Pygame Zero\n",
    "\n",
    "Die Bibliothek wird mit pip installiert:\n",
    "\n",
    "    $ pip install pgzero\n",
    "\n",
    "Eine leere Datei ist bereits ein Programm für PyGameZero. Man kann zusätzlich die Dimensionen des Fensters eingeben. \n",
    "\n",
    "Die erste Zeile mit `%%` muss nicht eingegeben werden."
   ]
  },
  {
   "cell_type": "code",
   "execution_count": 1,
   "metadata": {},
   "outputs": [
    {
     "name": "stdout",
     "output_type": "stream",
     "text": [
      "Overwriting demo.py\n"
     ]
    }
   ],
   "source": [
    "%%writefile demo.py\n",
    "\n",
    "WIDTH = 300\n",
    "HEIGHT = 300"
   ]
  },
  {
   "cell_type": "markdown",
   "metadata": {},
   "source": [
    "Die Datei `demo.py` kann anschließend mit `pgzrun` ausgeführt werden (Das `!` muss nicht eingegeben werden):"
   ]
  },
  {
   "cell_type": "code",
   "execution_count": 2,
   "metadata": {},
   "outputs": [
    {
     "name": "stdout",
     "output_type": "stream",
     "text": [
      "pygame 1.9.4\r\n",
      "Hello from the pygame community. https://www.pygame.org/contribute.html\r\n"
     ]
    }
   ],
   "source": [
    "! pgzrun demo.py"
   ]
  },
  {
   "cell_type": "markdown",
   "metadata": {},
   "source": [
    "Ein Verzeichnis `images` enthält Bilder, die automatisch geladen werden."
   ]
  },
  {
   "cell_type": "code",
   "execution_count": 3,
   "metadata": {},
   "outputs": [
    {
     "name": "stdout",
     "output_type": "stream",
     "text": [
      "ball.gif\r\n"
     ]
    }
   ],
   "source": [
    "! ls images"
   ]
  },
  {
   "cell_type": "markdown",
   "metadata": {},
   "source": [
    "Nun wird ein *Actor* mit einem Bild initialisiert. Jeder Actor hat eine Position (.x und .y), die nun in jedem Frame mit der Funktion `update` geändert wird."
   ]
  },
  {
   "cell_type": "code",
   "execution_count": 4,
   "metadata": {},
   "outputs": [
    {
     "name": "stdout",
     "output_type": "stream",
     "text": [
      "Overwriting demo.py\n"
     ]
    }
   ],
   "source": [
    "%%writefile demo.py\n",
    "\n",
    "act = Actor(\"ball\")  # create actor\n",
    "\n",
    "def draw():\n",
    "    act.draw()  # draw actor \n",
    "    \n",
    "def update():\n",
    "    act.x += 1  # move actor"
   ]
  },
  {
   "cell_type": "code",
   "execution_count": 5,
   "metadata": {},
   "outputs": [
    {
     "name": "stdout",
     "output_type": "stream",
     "text": [
      "pygame 1.9.4\r\n",
      "Hello from the pygame community. https://www.pygame.org/contribute.html\r\n"
     ]
    }
   ],
   "source": [
    "! pgzrun demo.py"
   ]
  },
  {
   "cell_type": "markdown",
   "metadata": {},
   "source": [
    "Es entsteht ein unschöner \"Ball-Streifen\". Der Hintergrund muss zuvor immer gelöscht werden."
   ]
  },
  {
   "cell_type": "code",
   "execution_count": 6,
   "metadata": {},
   "outputs": [
    {
     "name": "stdout",
     "output_type": "stream",
     "text": [
      "Overwriting demo.py\n"
     ]
    }
   ],
   "source": [
    "%%writefile demo.py\n",
    "\n",
    "act = Actor(\"ball\")\n",
    "\n",
    "def draw():\n",
    "    screen.fill((0,0,0))  # clear the screen\n",
    "    act.draw()\n",
    "    \n",
    "def update():\n",
    "    act.x += 1"
   ]
  },
  {
   "cell_type": "code",
   "execution_count": 7,
   "metadata": {},
   "outputs": [
    {
     "name": "stdout",
     "output_type": "stream",
     "text": [
      "pygame 1.9.4\r\n",
      "Hello from the pygame community. https://www.pygame.org/contribute.html\r\n"
     ]
    }
   ],
   "source": [
    "! pgzrun demo.py"
   ]
  },
  {
   "cell_type": "markdown",
   "metadata": {},
   "source": [
    "Schließlich können wir auch auf Mouseclicks reagieren:"
   ]
  },
  {
   "cell_type": "code",
   "execution_count": 8,
   "metadata": {},
   "outputs": [
    {
     "name": "stdout",
     "output_type": "stream",
     "text": [
      "Overwriting demo.py\n"
     ]
    }
   ],
   "source": [
    "%%writefile demo.py\n",
    "\n",
    "act = Actor(\"ball\")\n",
    "direction = 1\n",
    "\n",
    "def draw():\n",
    "    screen.fill((0,0,0))\n",
    "    act.draw()\n",
    "    \n",
    "def update():\n",
    "    act.x += direction\n",
    "    \n",
    "def on_mouse_down(pos):  # handle mouse clicks\n",
    "    global direction\n",
    "    direction *= -1 # change direction on mouseclick"
   ]
  },
  {
   "cell_type": "code",
   "execution_count": 9,
   "metadata": {},
   "outputs": [
    {
     "name": "stdout",
     "output_type": "stream",
     "text": [
      "pygame 1.9.4\r\n",
      "Hello from the pygame community. https://www.pygame.org/contribute.html\r\n"
     ]
    }
   ],
   "source": [
    "! pgzrun demo.py"
   ]
  },
  {
   "cell_type": "markdown",
   "metadata": {},
   "source": [
    "Nun soll es objekt-orientiert mit einer Klasse umgesetzt werden. Das ermöglicht es uns, mit vielen Bällen unabhängig umgehen zu können."
   ]
  },
  {
   "cell_type": "code",
   "execution_count": 10,
   "metadata": {},
   "outputs": [
    {
     "name": "stdout",
     "output_type": "stream",
     "text": [
      "Overwriting demo.py\n"
     ]
    }
   ],
   "source": [
    "%%writefile demo.py\n",
    "\n",
    "class Ball:\n",
    "    def __init__(self, x, y):\n",
    "        self.act = Actor(\"ball\")\n",
    "        self.act.x = x\n",
    "        self.act.y = y\n",
    "        self.direction = 1\n",
    "\n",
    "    def draw(self):\n",
    "        self.act.draw()\n",
    "        \n",
    "    def update(self):\n",
    "        self.act.x += self.direction\n",
    "        \n",
    "    def clicked(self):\n",
    "        self.direction *= -1\n",
    "\n",
    "        \n",
    "# creating some balls\n",
    "balls = [Ball(0, 60), Ball(30, 180), Ball(60, 250)]\n",
    "\n",
    "# event methods for all balls\n",
    "def draw():\n",
    "    screen.fill((0,0,0))\n",
    "    for ball in balls: \n",
    "        ball.draw()\n",
    "    \n",
    "def update():\n",
    "    for ball in balls:\n",
    "        ball.update()\n",
    "    \n",
    "def on_mouse_down(pos):\n",
    "    for ball in balls:\n",
    "        ball.clicked()\n"
   ]
  },
  {
   "cell_type": "code",
   "execution_count": 11,
   "metadata": {},
   "outputs": [
    {
     "name": "stdout",
     "output_type": "stream",
     "text": [
      "pygame 1.9.4\r\n",
      "Hello from the pygame community. https://www.pygame.org/contribute.html\r\n"
     ]
    }
   ],
   "source": [
    "! pgzrun demo.py"
   ]
  },
  {
   "cell_type": "markdown",
   "metadata": {},
   "source": [
    "Schließlich wird das Demofile wieder gelöscht."
   ]
  },
  {
   "cell_type": "code",
   "execution_count": 12,
   "metadata": {},
   "outputs": [],
   "source": [
    "! rm demo.py"
   ]
  }
 ],
 "metadata": {
  "kernelspec": {
   "display_name": "Python 3",
   "language": "python",
   "name": "python3"
  },
  "language_info": {
   "codemirror_mode": {
    "name": "ipython",
    "version": 3
   },
   "file_extension": ".py",
   "mimetype": "text/x-python",
   "name": "python",
   "nbconvert_exporter": "python",
   "pygments_lexer": "ipython3",
   "version": "3.7.0"
  }
 },
 "nbformat": 4,
 "nbformat_minor": 2
}
