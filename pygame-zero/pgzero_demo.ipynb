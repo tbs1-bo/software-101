{
 "cells": [
  {
   "cell_type": "markdown",
   "metadata": {},
   "source": [
    "# Pygame Zero\n",
    "\n",
    "## Installation \n",
    "\n",
    "[Pygame Zero](http://pygame-zero.readthedocs.io) ist eine auf \n",
    "pygame aufbauende Bibliothek. Sie kann \n",
    "leicht mit pip installiert werden.\n",
    "\n",
    "    $ pip install pgzero\n",
    "    \n",
    "Danach steht das Kommandozeilentool `pgzrun` zur \n",
    "Verfügung, mit dem\n",
    "die Python-Dateien gestartet werden können. "
   ]
  },
  {
   "cell_type": "markdown",
   "metadata": {},
   "source": [
    "## Ein leeres Fenster\n",
    "\n",
    "Eine leere Datei ist bereits ein Programm für PyGameZero. Man kann zusätzlich die Dimensionen des Fensters eingeben. "
   ]
  },
  {
   "cell_type": "code",
   "execution_count": 1,
   "metadata": {},
   "outputs": [
    {
     "name": "stdout",
     "output_type": "stream",
     "text": [
      "Overwriting demo.py\n"
     ]
    }
   ],
   "source": [
    "%%writefile demo.py\n",
    "# demo.py\n",
    "WIDTH = 300\n",
    "HEIGHT = 300"
   ]
  },
  {
   "cell_type": "markdown",
   "metadata": {},
   "source": [
    "Die Datei `demo.py` kann nun mit `pgzrun` ausgeführt werden."
   ]
  },
  {
   "cell_type": "code",
   "execution_count": 2,
   "metadata": {},
   "outputs": [
    {
     "name": "stdout",
     "output_type": "stream",
     "text": [
      "pygame 1.9.4\r\n",
      "Hello from the pygame community. https://www.pygame.org/contribute.html\r\n"
     ]
    }
   ],
   "source": [
    "! pgzrun demo.py"
   ]
  },
  {
   "cell_type": "markdown",
   "metadata": {},
   "source": [
    "## Start ohne pgzrun\n",
    "\n",
    "Alternativ kann ein Programm auch direkt über Python gestartet werden. Dazu muss das Modul `pgzrun` importiert und am Ende des Programms aufgerufen werden."
   ]
  },
  {
   "cell_type": "code",
   "execution_count": 3,
   "metadata": {},
   "outputs": [
    {
     "name": "stdout",
     "output_type": "stream",
     "text": [
      "Overwriting demo.py\n"
     ]
    }
   ],
   "source": [
    "%%writefile demo.py\n",
    "\n",
    "import pgzrun\n",
    "\n",
    "WIDTH = 300\n",
    "HEIGHT = 300\n",
    "\n",
    "# run main gameloop\n",
    "pgzrun.go()"
   ]
  },
  {
   "cell_type": "code",
   "execution_count": 4,
   "metadata": {},
   "outputs": [
    {
     "name": "stdout",
     "output_type": "stream",
     "text": [
      "pygame 1.9.4\r\n",
      "Hello from the pygame community. https://www.pygame.org/contribute.html\r\n"
     ]
    }
   ],
   "source": [
    "! python3 demo.py"
   ]
  },
  {
   "cell_type": "markdown",
   "metadata": {},
   "source": [
    "## Bilder\n",
    "\n",
    "Ein Verzeichnis `images` enthält Bilder, die automatisch geladen werden."
   ]
  },
  {
   "cell_type": "code",
   "execution_count": 3,
   "metadata": {},
   "outputs": [
    {
     "name": "stdout",
     "output_type": "stream",
     "text": [
      "images/ball.gif: GIF image data, version 89a, 111 x 111\r\n"
     ]
    }
   ],
   "source": [
    "! file images/*"
   ]
  },
  {
   "cell_type": "markdown",
   "metadata": {},
   "source": [
    "Nun wird ein Objekt von der Klasse *Actor* erstellt und mit einem Bild initialisiert. Jeder Actor hat eine Position (.x und .y), die nun in jedem Frame 60 mal pro Sekunde mit der Funktion `update` geändert wird. Danach wird die Methode `draw` aufgerufen, die die Spielwelt zeichnet."
   ]
  },
  {
   "cell_type": "code",
   "execution_count": 21,
   "metadata": {},
   "outputs": [
    {
     "name": "stdout",
     "output_type": "stream",
     "text": [
      "Overwriting demo.py\n"
     ]
    }
   ],
   "source": [
    "%%writefile demo.py\n",
    "\n",
    "ball = Actor(\"ball\")  # create actor\n",
    "\n",
    "def update():\n",
    "    ball.x += 1  # move actor\n",
    "    \n",
    "def draw():\n",
    "    ball.draw()  # draw actor "
   ]
  },
  {
   "cell_type": "code",
   "execution_count": 22,
   "metadata": {},
   "outputs": [
    {
     "name": "stdout",
     "output_type": "stream",
     "text": [
      "pygame 1.9.4\r\n",
      "Hello from the pygame community. https://www.pygame.org/contribute.html\r\n"
     ]
    }
   ],
   "source": [
    "! pgzrun demo.py"
   ]
  },
  {
   "cell_type": "markdown",
   "metadata": {},
   "source": [
    "Es entsteht ein unschöner \"Ball-Streifen\". Um dies zu vermeiden, muss der Hintergrund zuvor immer gelöscht werden."
   ]
  },
  {
   "cell_type": "code",
   "execution_count": 23,
   "metadata": {},
   "outputs": [
    {
     "name": "stdout",
     "output_type": "stream",
     "text": [
      "Overwriting demo.py\n"
     ]
    }
   ],
   "source": [
    "%%writefile demo.py\n",
    "\n",
    "ball = Actor(\"ball\")\n",
    "\n",
    "def update():\n",
    "    ball.x += 1\n",
    "\n",
    "def draw():\n",
    "    screen.fill((0,0,0))  # clear the screen\n",
    "    ball.draw()"
   ]
  },
  {
   "cell_type": "code",
   "execution_count": 24,
   "metadata": {},
   "outputs": [
    {
     "name": "stdout",
     "output_type": "stream",
     "text": [
      "pygame 1.9.4\r\n",
      "Hello from the pygame community. https://www.pygame.org/contribute.html\r\n"
     ]
    }
   ],
   "source": [
    "! pgzrun demo.py"
   ]
  },
  {
   "cell_type": "markdown",
   "metadata": {},
   "source": [
    "## Interaktion mit der Maus\n",
    "\n",
    "Schließlich können wir auch auf Mouseclicks reagieren. Dafür muss eine Methode `on_mouse_down` erstellt werden, die aufgerufen wird, sobald die Maus geklickt wird."
   ]
  },
  {
   "cell_type": "code",
   "execution_count": 25,
   "metadata": {},
   "outputs": [
    {
     "name": "stdout",
     "output_type": "stream",
     "text": [
      "Overwriting demo.py\n"
     ]
    }
   ],
   "source": [
    "%%writefile demo.py\n",
    "\n",
    "ball = Actor(\"ball\")\n",
    "direction = 1\n",
    "\n",
    "def update():\n",
    "    ball.x += direction\n",
    "\n",
    "def draw():\n",
    "    screen.fill((0,0,0))\n",
    "    ball.draw()\n",
    "    \n",
    "def on_mouse_down(pos):  # handle mouse clicks\n",
    "    global direction\n",
    "    direction *= -1 # change direction on mouseclick"
   ]
  },
  {
   "cell_type": "code",
   "execution_count": 26,
   "metadata": {},
   "outputs": [
    {
     "name": "stdout",
     "output_type": "stream",
     "text": [
      "pygame 1.9.4\r\n",
      "Hello from the pygame community. https://www.pygame.org/contribute.html\r\n"
     ]
    }
   ],
   "source": [
    "! pgzrun demo.py"
   ]
  },
  {
   "cell_type": "markdown",
   "metadata": {},
   "source": [
    "## Sound\n",
    "\n",
    "Sounds werde so ähnlich wie Bilder gehandhabt. Es muss ein Verzeichnis `sounds` existieren, in dem sich die Sounddateien (als WAV) befinden."
   ]
  },
  {
   "cell_type": "code",
   "execution_count": 3,
   "metadata": {},
   "outputs": [
    {
     "name": "stdout",
     "output_type": "stream",
     "text": [
      "Overwriting demo.py\n"
     ]
    }
   ],
   "source": [
    "%%writefile demo.py\n",
    "\n",
    "def on_mouse_down(pos):\n",
    "    sounds.punch.play()  # play sounds/punch.wav"
   ]
  },
  {
   "cell_type": "markdown",
   "metadata": {},
   "source": [
    "Der Sound [sounds/punch.wav](sounds/punch.wav) wird nun bei jedem Klick abgespielt."
   ]
  },
  {
   "cell_type": "code",
   "execution_count": 5,
   "metadata": {},
   "outputs": [
    {
     "name": "stdout",
     "output_type": "stream",
     "text": [
      "pygame 1.9.4\r\n",
      "Hello from the pygame community. https://www.pygame.org/contribute.html\r\n"
     ]
    }
   ],
   "source": [
    "! pgzrun demo.py"
   ]
  },
  {
   "cell_type": "markdown",
   "metadata": {},
   "source": [
    "## Objekt-Orientierte Bälle\n",
    "\n",
    "Nun soll das Programm objekt-orientiert mit einer Klasse umgesetzt werden. Das ermöglicht es uns, mit mehreren Bällen unabhängig umgehen zu können."
   ]
  },
  {
   "cell_type": "code",
   "execution_count": 9,
   "metadata": {},
   "outputs": [
    {
     "name": "stdout",
     "output_type": "stream",
     "text": [
      "Overwriting demo.py\n"
     ]
    }
   ],
   "source": [
    "%%writefile demo.py\n",
    "\n",
    "class Ball:  # Eine Klasse Ball mit verschiedenen Methoden\n",
    "    def __init__(self, x, y):\n",
    "        self.act = Actor(\"ball\")\n",
    "        self.act.x = x\n",
    "        self.act.y = y\n",
    "        self.direction = 1\n",
    "\n",
    "    def draw(self):\n",
    "        self.act.draw()\n",
    "        \n",
    "    def update(self):\n",
    "        self.act.x += self.direction\n",
    "        \n",
    "    def clicked(self):\n",
    "        self.direction *= -1"
   ]
  },
  {
   "cell_type": "markdown",
   "metadata": {},
   "source": [
    "Wir erstellen ein paar Ball-Objekte und ergänzen Event-Methoden für die Bälle."
   ]
  },
  {
   "cell_type": "code",
   "execution_count": 10,
   "metadata": {},
   "outputs": [
    {
     "name": "stdout",
     "output_type": "stream",
     "text": [
      "Appending to demo.py\n"
     ]
    }
   ],
   "source": [
    "%%writefile -a demo.py\n",
    "\n",
    "# creating some balls\n",
    "balls = [Ball(0, 60), Ball(30, 180), Ball(60, 250)]\n",
    "\n",
    "# event methods for all balls\n",
    "def draw():\n",
    "    screen.fill((0,0,0))\n",
    "    for ball in balls: \n",
    "        ball.draw()\n",
    "    \n",
    "def update():\n",
    "    for ball in balls:\n",
    "        ball.update()\n",
    "    \n",
    "def on_mouse_down(pos):\n",
    "    for ball in balls:\n",
    "        ball.clicked()"
   ]
  },
  {
   "cell_type": "code",
   "execution_count": 11,
   "metadata": {},
   "outputs": [
    {
     "name": "stdout",
     "output_type": "stream",
     "text": [
      "pygame 1.9.4\r\n",
      "Hello from the pygame community. https://www.pygame.org/contribute.html\r\n"
     ]
    }
   ],
   "source": [
    "! pgzrun demo.py"
   ]
  },
  {
   "cell_type": "markdown",
   "metadata": {},
   "source": [
    "## Support für den Mu-Editor\n",
    "\n",
    "Der Editor [Mu](https://codewith.mu/) besitzt einen eigenen Modus für\n",
    "Pygame-Zero-Spiele."
   ]
  },
  {
   "cell_type": "markdown",
   "metadata": {},
   "source": [
    "## Weitere Informationen\n",
    "\n",
    "Ein [Cheat Sheet](pygame-zero-cheatsheet.pdf) fasst die wichtigsten Aspekte zusammen.\n",
    "\n",
    "Die beim Aufruf mit `pgzrun` verfügbaren Objekte sind in der Dokumentation im Abschnitt\n",
    "[builtins](http://pygame-zero.readthedocs.io/en/stable/builtins.html) beschrieben."
   ]
  }
 ],
 "metadata": {
  "kernelspec": {
   "display_name": "Python 3",
   "language": "python",
   "name": "python3"
  },
  "language_info": {
   "codemirror_mode": {
    "name": "ipython",
    "version": 3
   },
   "file_extension": ".py",
   "mimetype": "text/x-python",
   "name": "python",
   "nbconvert_exporter": "python",
   "pygments_lexer": "ipython3",
   "version": "3.7.0"
  }
 },
 "nbformat": 4,
 "nbformat_minor": 2
}
