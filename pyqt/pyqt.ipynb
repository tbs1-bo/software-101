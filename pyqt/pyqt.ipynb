{
 "cells": [
  {
   "cell_type": "markdown",
   "metadata": {},
   "source": [
    "# pyqt\n",
    "\n",
    "Qt ist eine professionelle Bibliothek für die platformübergreifende Erstellung von Anwendungen - insbesondere von Desktop-Awendungen. Mit [pyqt](https://riverbankcomputing.com/software/pyqt/intro) existiert eine Python Schnittstelle."
   ]
  },
  {
   "cell_type": "markdown",
   "metadata": {},
   "source": [
    "## Installation - Qt\n",
    "\n",
    "Die Installation von [Qt](https://www.qt.io/) erfolgt über einen Download der Open-Source Variante der Software von der Webseite. "
   ]
  },
  {
   "cell_type": "markdown",
   "metadata": {},
   "source": [
    "## Installation - pyqt\n",
    "\n",
    "pyqt kann über pip installiert werden.\n",
    "\n",
    "* Windows: `pip install pyqt5` oder `python -m pip install pyqt5` oder `py -m pip install pyqt5`\n",
    "* Linux, MacOS: `pip3 install pyqt5`"
   ]
  },
  {
   "cell_type": "markdown",
   "metadata": {},
   "source": [
    "## Einfache Anwendung\n",
    "\n",
    "Eine erste einfach Anwendung kann mit wenigen Zeilen Quelltext schnell erstellt werden.\n",
    "\n",
    "![Hallo Welt](media/hallo_welt.png)"
   ]
  },
  {
   "cell_type": "code",
   "execution_count": 1,
   "metadata": {},
   "outputs": [
    {
     "name": "stdout",
     "output_type": "stream",
     "text": [
      "finished\n"
     ]
    }
   ],
   "source": [
    "from PyQt5.QtWidgets import QApplication, QLabel\n",
    "\n",
    "app = QApplication([])\n",
    "label = QLabel('Hallo Welt!')\n",
    "label.show()\n",
    "app.exec_()\n",
    "print(\"finished\")"
   ]
  },
  {
   "cell_type": "markdown",
   "metadata": {},
   "source": [
    "Die Klasse `QApplication` stellt die Hauptanwendung dar. Sie erhält Parameter als Übergabewert. In diesem Fall eine leere Liste, wenn es keine Parameter gibt."
   ]
  },
  {
   "cell_type": "markdown",
   "metadata": {},
   "source": [
    "## Interaktion mit einem Button\n",
    "\n",
    "Nun soll etwas Leben ins Spiel kommen und eine Anwendung entstehen, die einen Button enthält. Damit der Button etwas tut, wenn man auf ihn drückt, müssen wir ihn mit einer Methode verknüpfen. Für die Verknüpfung von Ereignissen mit Aktionen nutzt Qt \"Signals\" (die Ereignisse) und \"Slots\" als Methoden, die auf die Ereignisse reagieren.\n",
    "\n",
    "![click mich](media/click_mich.png)"
   ]
  },
  {
   "cell_type": "code",
   "execution_count": 1,
   "metadata": {},
   "outputs": [
    {
     "data": {
      "text/plain": [
       "0"
      ]
     },
     "execution_count": 1,
     "metadata": {},
     "output_type": "execute_result"
    }
   ],
   "source": [
    "from PyQt5.QtWidgets import QApplication, QPushButton, QMessageBox\n",
    "\n",
    "app = QApplication([])\n",
    "button = QPushButton('Click mich')\n",
    "\n",
    "def on_button_click():\n",
    "    alert = QMessageBox()\n",
    "    alert.setText('Du hast den Button gefunden')\n",
    "    alert.exec_()\n",
    "    \n",
    "button.clicked.connect(on_button_click)  # connect signal clicked with method\n",
    "button.show()\n",
    "app.exec_()"
   ]
  },
  {
   "cell_type": "markdown",
   "metadata": {},
   "source": [
    "## QtCreator und QtDesigner\n",
    "\n",
    "Das Erstellen einer GUI ist in Qt besonders einfach, da ein mächtiger GUI-Editor mitgeliefert wird. Mit ihm kann die GUI erstellt und als ui-Datei (ui=user interface) gespeichert werden."
   ]
  },
  {
   "cell_type": "markdown",
   "metadata": {},
   "source": [
    "## Neues Design erstellen\n",
    "\n",
    "Um ein neues GUI-Design erstellen zu können, wähle im Qt-Creator \n",
    "\n",
    "1. Neu \n",
    "1. Qt \n",
    "1. Qt-Designer-Formular\n",
    "\n",
    "![qt-creator](media/qt_creator.png)"
   ]
  },
  {
   "cell_type": "markdown",
   "metadata": {},
   "source": [
    "Erstelle nun zwei PushButton, einen [TableView](http://doc.qt.io/qt-5/qtableview.html#details) und ein Label mit den Namen btn_submit, btn_add_row, tableView und lbl_status. Die fertige Datei hat den Namen [mainwindow.ui](mainwindow.ui). Es handelt sich um eine XML-Datei, die von pyqt eingelesen und in Python-Quelltext umgewandelt werden kann."
   ]
  },
  {
   "cell_type": "code",
   "execution_count": 2,
   "metadata": {},
   "outputs": [
    {
     "name": "stdout",
     "output_type": "stream",
     "text": [
      "mainwindow.ui: XML 1.0 document text, ASCII text\r\n"
     ]
    }
   ],
   "source": [
    "! file mainwindow.ui"
   ]
  },
  {
   "cell_type": "markdown",
   "metadata": {},
   "source": [
    "Um aus einer ui-Datei Python-Quelltext zu erzeugen, wird das Kommandozeilentool `pyuic5` mitgeliefert (uic=user interface compiler)."
   ]
  },
  {
   "cell_type": "code",
   "execution_count": 3,
   "metadata": {},
   "outputs": [],
   "source": [
    "! pyuic5 -x -o mainwindow.py mainwindow.ui"
   ]
  },
  {
   "cell_type": "markdown",
   "metadata": {},
   "source": [
    "Der Parameter `-o` bestimmt den Name der Ausgabedatei. Durch `-x` wird zusätzlich ein kleines Rahmenprogramm generiert, womit die GUI schnell angezeigt werden kann."
   ]
  },
  {
   "cell_type": "code",
   "execution_count": 4,
   "metadata": {},
   "outputs": [
    {
     "name": "stdout",
     "output_type": "stream",
     "text": [
      "QApplication: invalid style override passed, ignoring it.\r\n"
     ]
    }
   ],
   "source": [
    "! python mainwindow.py"
   ]
  },
  {
   "cell_type": "markdown",
   "metadata": {},
   "source": [
    "Die generierte Datei sieht wie folgt aus."
   ]
  },
  {
   "cell_type": "code",
   "execution_count": 5,
   "metadata": {},
   "outputs": [
    {
     "name": "stdout",
     "output_type": "stream",
     "text": [
      "# -*- coding: utf-8 -*-\r\n",
      "\r\n",
      "# Form implementation generated from reading ui file 'mainwindow.ui'\r\n",
      "#\r\n",
      "# Created by: PyQt5 UI code generator 5.11.3\r\n",
      "#\r\n",
      "# WARNING! All changes made in this file will be lost!\r\n",
      "\r\n",
      "from PyQt5 import QtCore, QtGui, QtWidgets\r\n",
      "\r\n",
      "class Ui_mainWindow(object):\r\n",
      "    def setupUi(self, mainWindow):\r\n",
      "        mainWindow.setObjectName(\"mainWindow\")\r\n",
      "        mainWindow.resize(475, 381)\r\n",
      "        self.centralWidget = QtWidgets.QWidget(mainWindow)\r\n",
      "        self.centralWidget.setObjectName(\"centralWidget\")\r\n",
      "        self.btn_submit = QtWidgets.QPushButton(self.centralWidget)\r\n",
      "        self.btn_submit.setGeometry(QtCore.QRect(10, 300, 85, 27))\r\n",
      "        self.btn_submit.setObjectName(\"btn_submit\")\r\n",
      "        self.tableView = QtWidgets.QTableView(self.centralWidget)\r\n",
      "        self.tableView.setGeometry(QtCore.QRect(0, 0, 471, 291))\r\n",
      "        self.tableView.setSortingEnabled(True)\r\n",
      "        self.tableView.setObjectName(\"tableView\")\r\n",
      "        self.lbl_status = QtWidgets.QLabel(self.centralWidget)\r\n",
      "        self.lbl_status.setGeometry(QtCore.QRect(200, 300, 251, 20))\r\n",
      "        self.lbl_status.setObjectName(\"lbl_status\")\r\n",
      "        self.btn_add_row = QtWidgets.QPushButton(self.centralWidget)\r\n",
      "        self.btn_add_row.setGeometry(QtCore.QRect(100, 300, 31, 27))\r\n",
      "        self.btn_add_row.setObjectName(\"btn_add_row\")\r\n",
      "        mainWindow.setCentralWidget(self.centralWidget)\r\n",
      "        self.menuBar = QtWidgets.QMenuBar(mainWindow)\r\n",
      "        self.menuBar.setGeometry(QtCore.QRect(0, 0, 475, 27))\r\n",
      "        self.menuBar.setObjectName(\"menuBar\")\r\n",
      "        mainWindow.setMenuBar(self.menuBar)\r\n",
      "        self.mainToolBar = QtWidgets.QToolBar(mainWindow)\r\n",
      "        self.mainToolBar.setObjectName(\"mainToolBar\")\r\n",
      "        mainWindow.addToolBar(QtCore.Qt.TopToolBarArea, self.mainToolBar)\r\n",
      "        self.statusBar = QtWidgets.QStatusBar(mainWindow)\r\n",
      "        self.statusBar.setObjectName(\"statusBar\")\r\n",
      "        mainWindow.setStatusBar(self.statusBar)\r\n",
      "\r\n",
      "        self.retranslateUi(mainWindow)\r\n",
      "        QtCore.QMetaObject.connectSlotsByName(mainWindow)\r\n",
      "\r\n",
      "    def retranslateUi(self, mainWindow):\r\n",
      "        _translate = QtCore.QCoreApplication.translate\r\n",
      "        mainWindow.setWindowTitle(_translate(\"mainWindow\", \"Sql Demo Anwendung\"))\r\n",
      "        self.btn_submit.setText(_translate(\"mainWindow\", \"Submit\"))\r\n",
      "        self.lbl_status.setText(_translate(\"mainWindow\", \"Status: OK\"))\r\n",
      "        self.btn_add_row.setText(_translate(\"mainWindow\", \"+\"))\r\n",
      "\r\n",
      "\r\n",
      "if __name__ == \"__main__\":\r\n",
      "    import sys\r\n",
      "    app = QtWidgets.QApplication(sys.argv)\r\n",
      "    mainWindow = QtWidgets.QMainWindow()\r\n",
      "    ui = Ui_mainWindow()\r\n",
      "    ui.setupUi(mainWindow)\r\n",
      "    mainWindow.show()\r\n",
      "    sys.exit(app.exec_())\r\n",
      "\r\n"
     ]
    }
   ],
   "source": [
    "! cat mainwindow.py"
   ]
  },
  {
   "cell_type": "markdown",
   "metadata": {},
   "source": [
    "## Eine komplexere Anwendung mit Datenbank-Anbindung\n",
    "\n",
    "Probieren wir uns nun an einer komplexeren Anwendung, die auf eine Datenbank zugreift, sie darstellt und eine Änderung der Daten ermöglicht."
   ]
  },
  {
   "cell_type": "markdown",
   "metadata": {},
   "source": [
    "## Erstellen einer Datenbank\n",
    "\n",
    "Zunächst erstellen wir eine sqlite-Datenbank und darin eine Tabelle Person mit den Attributen *id, name, geschlecht* und *gebjahr*. Wir deklarieren eine Variable SQL_CREATE mit dem zugehörigen CREATE-Statement. Es enthält zusätzlich einen CONSTRAINT, der für das Geschlecht nur die Werte 'w', 'm' und 'x' zulässt."
   ]
  },
  {
   "cell_type": "code",
   "execution_count": 3,
   "metadata": {},
   "outputs": [],
   "source": [
    "SQL_CREATE = '''\n",
    "    CREATE TABLE IF NOT EXISTS person \n",
    "    (\n",
    "      id integer primary key autoincrement,\n",
    "      name text not null,\n",
    "      geschlecht text not null,\n",
    "      gebjahr integer not null,\n",
    "      CONSTRAINT check_correct_val CHECK (geschlecht in ('w', 'm', 'x'))\n",
    "    )\n",
    "'''"
   ]
  },
  {
   "cell_type": "markdown",
   "metadata": {},
   "source": [
    "Ebenso legen wir den Namen für die Datenbank in einer Variablen fest."
   ]
  },
  {
   "cell_type": "code",
   "execution_count": 17,
   "metadata": {},
   "outputs": [],
   "source": [
    "DB_FILE = 'db.sqlite'"
   ]
  },
  {
   "cell_type": "markdown",
   "metadata": {},
   "source": [
    "Wir legen weitere Konstanten fest, die für die gesamte Anwendung gelten sollen: Die Anzahl der zufällig zu erzeugenden Daten und eine Auswahl von Namen, die zufällig beim Erstellen der Datensätze für das Attribut *name* gewählt werden. "
   ]
  },
  {
   "cell_type": "code",
   "execution_count": 14,
   "metadata": {},
   "outputs": [],
   "source": [
    "NUM_INIT_DATA = 10\n",
    "NAMES = ['Peter', 'Susi', 'Moni', 'Max']"
   ]
  },
  {
   "cell_type": "markdown",
   "metadata": {},
   "source": [
    "Zwei weitere Variablen beschreiben eine untere und obere Grenzen für das Geburtsjahr."
   ]
  },
  {
   "cell_type": "code",
   "execution_count": 18,
   "metadata": {},
   "outputs": [],
   "source": [
    "GEBJAHR_MIN = 1950\n",
    "GEBJAHR_MAX = 2010"
   ]
  },
  {
   "cell_type": "markdown",
   "metadata": {},
   "source": [
    "Nun erstellen wir die Datenbank und füllen sie mit Beispieldaten."
   ]
  },
  {
   "cell_type": "code",
   "execution_count": 5,
   "metadata": {},
   "outputs": [],
   "source": [
    "import sqlite3\n",
    "import random\n",
    "\n",
    "conn = sqlite3.connect(DB_FILE)\n",
    "c = conn.cursor()\n",
    "c.execute(SQL_CREATE)\n",
    "\n",
    "for id in range(NUM_INIT_DATA):\n",
    "    gebjahr = random.randint(GEBJAHR_MIN, GEBJAHR_MAX)\n",
    "    name = random.choice(NAMES)\n",
    "    geschlecht = random.choice(['m', 'w', 'x'])\n",
    "\n",
    "    c.execute('''INSERT INTO person (id,name,geschlecht,gebjahr) \n",
    "                 VALUES (?,?,?,?)''',\n",
    "              (id, name, geschlecht, gebjahr))\n",
    "\n",
    "conn.commit()\n",
    "conn.close()"
   ]
  },
  {
   "cell_type": "markdown",
   "metadata": {},
   "source": [
    "Mit sqlite3 können die Daten bereits auf der Kommandozeile ausgelesen werden."
   ]
  },
  {
   "cell_type": "code",
   "execution_count": 6,
   "metadata": {},
   "outputs": [
    {
     "name": "stdout",
     "output_type": "stream",
     "text": [
      "id          name        geschlecht  gebjahr   \r\n",
      "----------  ----------  ----------  ----------\r\n",
      "0           Susi        m           1965      \r\n",
      "1           Peter       x           1993      \r\n",
      "2           Moni        m           2009      \r\n",
      "3           Peter       m           1967      \r\n",
      "4           Susi        w           1961      \r\n",
      "5           Max         m           1950      \r\n",
      "6           Moni        m           1952      \r\n",
      "7           Moni        w           2009      \r\n",
      "8           Max         w           1986      \r\n",
      "9           Max         x           1954      \r\n"
     ]
    }
   ],
   "source": [
    "! sqlite3 --column --header db.sqlite 'SELECT * FROM person'"
   ]
  },
  {
   "cell_type": "markdown",
   "metadata": {},
   "source": [
    "Wir erstellen nun die Klasse `MainWindow`, die von der Klasse `Ui_mainWindow` erbt - letzte stammt aus der generierten Datei `mainwindow.py`. Wir ändern nichts in der generierten Datei, damit spätere Änderungen an der GUI und ein anschließendes neues Erzeugen unsere Mühen nicht kaputt machen."
   ]
  },
  {
   "cell_type": "markdown",
   "metadata": {},
   "source": [
    "Die Daten für den TableView werden aus einem [QSqlTableModel](http://doc.qt.io/qt-5/qsqltablemodel.html#details) geladen. Dieses Modell stellt Daten aus einer Datenbank zur Verfügung."
   ]
  },
  {
   "cell_type": "code",
   "execution_count": 2,
   "metadata": {},
   "outputs": [],
   "source": [
    "import sys\n",
    "import random\n",
    "import sqlite3\n",
    "\n",
    "import mainwindow\n",
    "from PyQt5.QtWidgets import QApplication, QDialog, QMainWindow\n",
    "from PyQt5.QtSql import QSqlTableModel, QSqlDatabase\n",
    "\n",
    "class MainWindow(mainwindow.Ui_mainWindow):\n",
    "    def __init__(self, dbfile):\n",
    "        self.dbfile = dbfile\n",
    "        \n",
    "    def setupUi(self, mainwindow):\n",
    "        super().setupUi(mainwindow)\n",
    "        # connect signals with methods\n",
    "        self.btn_submit.clicked.connect(self.submit_clicked)\n",
    "        self.btn_add_row.clicked.connect(self.add_row_clicked)\n",
    "\n",
    "        # create database object for sqlite-database\n",
    "        db = QSqlDatabase.addDatabase('QSQLITE')\n",
    "        db.setDatabaseName(self.dbfile)\n",
    "\n",
    "        # the table model will show the data from the db in the tableview\n",
    "        self.tablemodel = QSqlTableModel()\n",
    "        self.tablemodel.setTable('person')\n",
    "        self.tablemodel.setEditStrategy(QSqlTableModel.OnManualSubmit)\n",
    "        self.tablemodel.select()  # populate model with data\n",
    "\n",
    "        self.tableView.setModel(self.tablemodel)\n",
    "        self.tableView.hideColumn(0)  # hide ids\n",
    "\n",
    "    def submit_clicked(self):\n",
    "        'Write changes into the DB when submit button is clicked.'\n",
    "        succ = self.tablemodel.submitAll()\n",
    "        self.lbl_status.setText(\"Daten erfolgreich gespeichert? %s\" % succ)\n",
    "\n",
    "    def add_row_clicked(self):\n",
    "        'Add new row to the table when +-Button is clicked.'\n",
    "        self.tablemodel.insertRows(self.tablemodel.rowCount(), 1)"
   ]
  },
  {
   "cell_type": "markdown",
   "metadata": {},
   "source": [
    "Schließlich erzeugen wir eine neue Instanz der Klasse und starten das Programm.\n",
    "\n",
    "![anwendung](media/sql_demo_anwendung.png)"
   ]
  },
  {
   "cell_type": "code",
   "execution_count": null,
   "metadata": {},
   "outputs": [],
   "source": [
    "app = QApplication([])\n",
    "window = QMainWindow()\n",
    "ui = MainWindow(DB_FILE)\n",
    "ui.setupUi(window)\n",
    "window.show()\n",
    "\n",
    "app.exec_()"
   ]
  },
  {
   "cell_type": "markdown",
   "metadata": {},
   "source": [
    "Eine Verbindung zwischen Tabellen, wie sie bei 1-n-Beziehungen auftritt, kann über ein anderes TableModel realisiert werden: das [QSqlRelationalTableModel](http://doc.qt.io/qt-5/qsqlrelationaltablemodel.html#details)."
   ]
  },
  {
   "cell_type": "markdown",
   "metadata": {},
   "source": [
    "## Deployment\n",
    "\n",
    "Nachdem die Awendung erstellt wurde, soll sie natürlich auch auf anderen Rechnern laufen können. Um ein Programmversion zu erstellen, die alle notwendigen Komponenten enthält, bringt pyqt das Programm `pyqtdeploy` und `pyqtdeploy-build` mit. Deren Bedienung ist leider etwas komplizierter. Daher stelle ich an dieser Stelle die Verwendung von [fbs](https://build-system.fman.io/) vor."
   ]
  },
  {
   "cell_type": "markdown",
   "metadata": {},
   "source": [
    "## Installation - fbs\n",
    "\n",
    "Die Installation erfolgt wieder mit pip. Der Paketname lautet fbs. Zusätlich wird das Paket pyinstaller in einer speziellen Version benötigt:\n",
    "\n",
    "    pip install fbs pyinstaller==3.3.1\n",
    "    \n",
    "Danach steht ein Modul fbs zur Verfügung."
   ]
  },
  {
   "cell_type": "code",
   "execution_count": 4,
   "metadata": {},
   "outputs": [
    {
     "name": "stdout",
     "output_type": "stream",
     "text": [
      "usage: python -m fbs [-h] {run,installer,clean,test,freeze,startproject} ...\r\n",
      "\r\n",
      "fbs\r\n",
      "\r\n",
      "positional arguments:\r\n",
      "  {run,installer,clean,test,freeze,startproject}\r\n",
      "    run                 Run your app from source\r\n",
      "    installer           Create an installer for your app\r\n",
      "    clean               Remove previous build outputs\r\n",
      "    test                Execute your automated tests\r\n",
      "    freeze              Compile your application to a standalone executable\r\n",
      "    startproject        Start a new fbs project in the current directory\r\n",
      "\r\n",
      "optional arguments:\r\n",
      "  -h, --help            show this help message and exit\r\n"
     ]
    }
   ],
   "source": [
    "! python -m fbs"
   ]
  },
  {
   "cell_type": "markdown",
   "metadata": {},
   "source": [
    "## fbs-Projekt erstellen, ausführen, einfrieren\n",
    "\n",
    "Mit dem Kommando `startproject` wird ein Beispielprojekt erstellt.\n",
    "\n",
    "    python -m fbs startproject\n",
    "    \n",
    "Nach Angabe eines Projektnamens wird ein Verzeichnis `src` mit einem Minimalprojekt erstellt."
   ]
  },
  {
   "cell_type": "code",
   "execution_count": 31,
   "metadata": {},
   "outputs": [
    {
     "name": "stdout",
     "output_type": "stream",
     "text": [
      "\u001b[01;34msrc\u001b[00m\r\n",
      "├── \u001b[01;34mbuild\u001b[00m\r\n",
      "│   └── \u001b[01;34msettings\u001b[00m\r\n",
      "└── \u001b[01;34mmain\u001b[00m\r\n",
      "    ├── \u001b[01;34micons\u001b[00m\r\n",
      "    │   ├── \u001b[01;34mbase\u001b[00m\r\n",
      "    │   ├── \u001b[01;34mlinux\u001b[00m\r\n",
      "    │   └── \u001b[01;34mmac\u001b[00m\r\n",
      "    ├── \u001b[01;34mNSIS\u001b[00m\r\n",
      "    ├── \u001b[01;34mpython\u001b[00m\r\n",
      "    │   └── \u001b[01;34m__pycache__\u001b[00m\r\n",
      "    └── \u001b[01;34mresources\u001b[00m\r\n",
      "        └── \u001b[01;34mmac-frozen\u001b[00m\r\n",
      "            └── \u001b[01;34mContents\u001b[00m\r\n",
      "\r\n",
      "13 directories\r\n"
     ]
    }
   ],
   "source": [
    "! tree -d src"
   ]
  },
  {
   "cell_type": "markdown",
   "metadata": {},
   "source": [
    "Wir konzentrieren uns an dieser Stelle auf den Ordner `src/main/python`. In diesem befindet sich die Datei `main.py`, die das Hauptprogramm enthält. Die anderen Ordner bieten Konfigurationsmöglichkeiten für unterschiedliche Zielplattformen."
   ]
  },
  {
   "cell_type": "code",
   "execution_count": 32,
   "metadata": {},
   "outputs": [
    {
     "name": "stdout",
     "output_type": "stream",
     "text": [
      "\u001b[01;34msrc/main/python\u001b[00m\r\n",
      "├── main.py\r\n",
      "└── \u001b[01;34m__pycache__\u001b[00m\r\n",
      "    └── main.cpython-35.pyc\r\n",
      "\r\n",
      "1 directory, 2 files\r\n"
     ]
    }
   ],
   "source": [
    "! tree src/main/python\n"
   ]
  },
  {
   "cell_type": "markdown",
   "metadata": {},
   "source": [
    "Die Datei `main.py` ersetzen wird nun durch unser Beispielprogramm."
   ]
  },
  {
   "cell_type": "code",
   "execution_count": 33,
   "metadata": {},
   "outputs": [],
   "source": [
    "! cp mainwindow.py src/main/python/main.py"
   ]
  },
  {
   "cell_type": "markdown",
   "metadata": {},
   "source": [
    "Mit dem Befehl `run` kann das Porgramm testweise gestartet werden."
   ]
  },
  {
   "cell_type": "code",
   "execution_count": 34,
   "metadata": {},
   "outputs": [
    {
     "name": "stdout",
     "output_type": "stream",
     "text": [
      "QApplication: invalid style override passed, ignoring it.\r\n"
     ]
    }
   ],
   "source": [
    "! python -m fbs run"
   ]
  },
  {
   "cell_type": "markdown",
   "metadata": {},
   "source": [
    "Das Fenster öffnet sich und die Anwendung kann getestet werden. Mit dem Befehl `freeze` wird die Anwendung eingefroren. Das bedeutet, dass alle benötigten Bibliotheken in einem Verzeichnis gesammelt werden."
   ]
  },
  {
   "cell_type": "code",
   "execution_count": 35,
   "metadata": {},
   "outputs": [
    {
     "name": "stdout",
     "output_type": "stream",
     "text": [
      "3788 WARNING: Hidden import \"sip\" not found!\n",
      "3789 WARNING: Hidden import \"sip\" not found!\n",
      "4118 WARNING: Hidden import \"sip\" not found!\n",
      "4193 WARNING: Hidden import \"sip\" not found!\n",
      "4195 WARNING: Hidden import \"sip\" not found!\n",
      "4252 WARNING: Hidden import \"sip\" not found!\n"
     ]
    }
   ],
   "source": [
    "! python -m fbs freeze"
   ]
  },
  {
   "cell_type": "markdown",
   "metadata": {},
   "source": [
    "Im Ordner `target` werden die eingefrorenen Anwendungen abglegt."
   ]
  },
  {
   "cell_type": "code",
   "execution_count": 36,
   "metadata": {},
   "outputs": [
    {
     "name": "stdout",
     "output_type": "stream",
     "text": [
      "\u001b[01;34mtarget/MainWindow\u001b[00m\r\n",
      "└── \u001b[01;34mPyQt5\u001b[00m\r\n",
      "    └── \u001b[01;34mQt\u001b[00m\r\n",
      "        └── \u001b[01;34mplugins\u001b[00m\r\n",
      "            ├── \u001b[01;34miconengines\u001b[00m\r\n",
      "            ├── \u001b[01;34mimageformats\u001b[00m\r\n",
      "            ├── \u001b[01;34mplatforms\u001b[00m\r\n",
      "            ├── \u001b[01;34mplatformthemes\u001b[00m\r\n",
      "            └── \u001b[01;34mprintsupport\u001b[00m\r\n",
      "\r\n",
      "8 directories\r\n"
     ]
    }
   ],
   "source": [
    "! tree -d target/MainWindow"
   ]
  },
  {
   "cell_type": "markdown",
   "metadata": {},
   "source": [
    "Dieser Ordner `target/MainWindow` - allgemein `target/PROJKETNAME` - kann auf den Zielrechner kopiert werden und enthällt alle benötigten Dateien. Darin befindet sich eine Datei `MainWindow` (unter Linux) oder `MainWindow.exe`, die ausgeführt werden kann."
   ]
  }
 ],
 "metadata": {
  "kernelspec": {
   "display_name": "Python 3",
   "language": "python",
   "name": "python3"
  },
  "language_info": {
   "codemirror_mode": {
    "name": "ipython",
    "version": 3
   },
   "file_extension": ".py",
   "mimetype": "text/x-python",
   "name": "python",
   "nbconvert_exporter": "python",
   "pygments_lexer": "ipython3",
   "version": "3.5.2"
  }
 },
 "nbformat": 4,
 "nbformat_minor": 2
}
