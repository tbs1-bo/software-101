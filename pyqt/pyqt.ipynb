{
 "cells": [
  {
   "cell_type": "markdown",
   "metadata": {},
   "source": [
    "# pyqt\n",
    "\n",
    "## Installation\n",
    "\n",
    "    pip install pyqt5"
   ]
  },
  {
   "cell_type": "markdown",
   "metadata": {},
   "source": [
    "## Erstellen der GUI"
   ]
  },
  {
   "cell_type": "code",
   "execution_count": 7,
   "metadata": {},
   "outputs": [
    {
     "name": "stdout",
     "output_type": "stream",
     "text": [
      "mainwindow.ui\r\n"
     ]
    }
   ],
   "source": [
    "ls mainwindow.ui"
   ]
  },
  {
   "cell_type": "code",
   "execution_count": 29,
   "metadata": {},
   "outputs": [],
   "source": [
    "! qtcreator mainwindow.ui"
   ]
  },
  {
   "cell_type": "code",
   "execution_count": 15,
   "metadata": {},
   "outputs": [],
   "source": [
    "! pyuic5 -x -o mainwindow.py mainwindow.ui"
   ]
  },
  {
   "cell_type": "code",
   "execution_count": 16,
   "metadata": {},
   "outputs": [
    {
     "name": "stdout",
     "output_type": "stream",
     "text": [
      "# -*- coding: utf-8 -*-\r\n",
      "\r\n",
      "# Form implementation generated from reading ui file 'mainwindow.ui'\r\n",
      "#\r\n",
      "# Created by: PyQt5 UI code generator 5.11.3\r\n",
      "#\r\n",
      "# WARNING! All changes made in this file will be lost!\r\n",
      "\r\n",
      "from PyQt5 import QtCore, QtGui, QtWidgets\r\n",
      "\r\n",
      "class Ui_mainWindow(object):\r\n",
      "    def setupUi(self, mainWindow):\r\n",
      "        mainWindow.setObjectName(\"mainWindow\")\r\n",
      "        mainWindow.resize(475, 381)\r\n",
      "        self.centralWidget = QtWidgets.QWidget(mainWindow)\r\n",
      "        self.centralWidget.setObjectName(\"centralWidget\")\r\n",
      "        self.btn_submit = QtWidgets.QPushButton(self.centralWidget)\r\n",
      "        self.btn_submit.setGeometry(QtCore.QRect(10, 300, 85, 27))\r\n",
      "        self.btn_submit.setObjectName(\"btn_submit\")\r\n",
      "        self.tableView = QtWidgets.QTableView(self.centralWidget)\r\n",
      "        self.tableView.setGeometry(QtCore.QRect(0, 0, 471, 291))\r\n",
      "        self.tableView.setSortingEnabled(True)\r\n",
      "        self.tableView.setObjectName(\"tableView\")\r\n",
      "        self.lbl_status = QtWidgets.QLabel(self.centralWidget)\r\n",
      "        self.lbl_status.setGeometry(QtCore.QRect(200, 300, 251, 20))\r\n",
      "        self.lbl_status.setObjectName(\"lbl_status\")\r\n",
      "        self.btn_add_row = QtWidgets.QPushButton(self.centralWidget)\r\n",
      "        self.btn_add_row.setGeometry(QtCore.QRect(100, 300, 31, 27))\r\n",
      "        self.btn_add_row.setObjectName(\"btn_add_row\")\r\n",
      "        mainWindow.setCentralWidget(self.centralWidget)\r\n",
      "        self.menuBar = QtWidgets.QMenuBar(mainWindow)\r\n",
      "        self.menuBar.setGeometry(QtCore.QRect(0, 0, 475, 27))\r\n",
      "        self.menuBar.setObjectName(\"menuBar\")\r\n",
      "        mainWindow.setMenuBar(self.menuBar)\r\n",
      "        self.mainToolBar = QtWidgets.QToolBar(mainWindow)\r\n",
      "        self.mainToolBar.setObjectName(\"mainToolBar\")\r\n",
      "        mainWindow.addToolBar(QtCore.Qt.TopToolBarArea, self.mainToolBar)\r\n",
      "        self.statusBar = QtWidgets.QStatusBar(mainWindow)\r\n",
      "        self.statusBar.setObjectName(\"statusBar\")\r\n",
      "        mainWindow.setStatusBar(self.statusBar)\r\n",
      "\r\n",
      "        self.retranslateUi(mainWindow)\r\n",
      "        QtCore.QMetaObject.connectSlotsByName(mainWindow)\r\n",
      "\r\n",
      "    def retranslateUi(self, mainWindow):\r\n",
      "        _translate = QtCore.QCoreApplication.translate\r\n",
      "        mainWindow.setWindowTitle(_translate(\"mainWindow\", \"Sql Demo Anwendung\"))\r\n",
      "        self.btn_submit.setText(_translate(\"mainWindow\", \"Submit\"))\r\n",
      "        self.lbl_status.setText(_translate(\"mainWindow\", \"Status: OK\"))\r\n",
      "        self.btn_add_row.setText(_translate(\"mainWindow\", \"+\"))\r\n",
      "\r\n",
      "\r\n",
      "if __name__ == \"__main__\":\r\n",
      "    import sys\r\n",
      "    app = QtWidgets.QApplication(sys.argv)\r\n",
      "    mainWindow = QtWidgets.QMainWindow()\r\n",
      "    ui = Ui_mainWindow()\r\n",
      "    ui.setupUi(mainWindow)\r\n",
      "    mainWindow.show()\r\n",
      "    sys.exit(app.exec_())\r\n",
      "\r\n"
     ]
    }
   ],
   "source": [
    "!cat mainwindow.py"
   ]
  },
  {
   "cell_type": "markdown",
   "metadata": {},
   "source": [
    "## Hauptprogramm"
   ]
  },
  {
   "cell_type": "markdown",
   "metadata": {},
   "source": [
    "## Erstellen einer Datenbank"
   ]
  },
  {
   "cell_type": "code",
   "execution_count": 9,
   "metadata": {},
   "outputs": [],
   "source": [
    "! rm db.sqlite"
   ]
  },
  {
   "cell_type": "code",
   "execution_count": 11,
   "metadata": {},
   "outputs": [],
   "source": [
    "DB_NAME = 'db.sqlite'\n",
    "NUM_INIT_DATA = 10\n",
    "SQL_CREATE = '''\n",
    "    CREATE TABLE IF NOT EXISTS person \n",
    "    (\n",
    "    id integer primary key autoincrement,\n",
    "    name text not null,\n",
    "    geschlecht text not null,\n",
    "    gebjahr integer not null,\n",
    "    CONSTRAINT check_correct_val CHECK (geschlecht in ('w', 'm', 'x'))\n",
    "    )\n",
    "'''"
   ]
  },
  {
   "cell_type": "markdown",
   "metadata": {},
   "source": [
    "Beispieldaten in die Datenbank einfügen"
   ]
  },
  {
   "cell_type": "code",
   "execution_count": 13,
   "metadata": {},
   "outputs": [],
   "source": [
    "import sqlite3\n",
    "import random\n",
    "\n",
    "conn = sqlite3.connect(DB_NAME)\n",
    "c = conn.cursor()\n",
    "c.execute(SQL_CREATE)\n",
    "\n",
    "for id in range(NUM_INIT_DATA):\n",
    "    gebjahr = random.randint(1950, 2010)\n",
    "    name = random.choice(['Peter', 'Petra', 'Susi', 'Moni'])\n",
    "    geschlecht = random.choice(['m', 'w', 'x'])\n",
    "\n",
    "    c.execute('''INSERT INTO person (id,name,geschlecht,gebjahr) \n",
    "                 VALUES (?,?,?,?)''',\n",
    "              (id, name, geschlecht, gebjahr))\n",
    "\n",
    "conn.commit()\n",
    "conn.close()"
   ]
  },
  {
   "cell_type": "markdown",
   "metadata": {},
   "source": [
    "Mit sqlite3 können die Daten bereits auf der Kommandozeile ausgelesen werden."
   ]
  },
  {
   "cell_type": "code",
   "execution_count": 17,
   "metadata": {},
   "outputs": [
    {
     "name": "stdout",
     "output_type": "stream",
     "text": [
      "id          name        geschlecht  gebjahr   \r\n",
      "----------  ----------  ----------  ----------\r\n",
      "0           Moni        w           1956      \r\n",
      "1           Petra       w           1972      \r\n",
      "2           Moni        m           1956      \r\n",
      "3           Susi        m           1959      \r\n",
      "4           Petra       x           1994      \r\n",
      "5           Peter       w           1986      \r\n",
      "6           Petra       m           1960      \r\n",
      "7           Petra       m           2005      \r\n",
      "8           Petra       m           1985      \r\n",
      "9           Peter       m           1981      \r\n"
     ]
    }
   ],
   "source": [
    "! sqlite3 --column --header db.sqlite 'SELECT * FROM person'"
   ]
  },
  {
   "cell_type": "code",
   "execution_count": 27,
   "metadata": {},
   "outputs": [
    {
     "ename": "SystemExit",
     "evalue": "0",
     "output_type": "error",
     "traceback": [
      "An exception has occurred, use %tb to see the full traceback.\n",
      "\u001b[0;31mSystemExit\u001b[0m\u001b[0;31m:\u001b[0m 0\n"
     ]
    },
    {
     "name": "stderr",
     "output_type": "stream",
     "text": [
      "/home/marco/proj/software-101/venv/lib/python3.5/site-packages/IPython/core/interactiveshell.py:2969: UserWarning: To exit: use 'exit', 'quit', or Ctrl-D.\n",
      "  warn(\"To exit: use 'exit', 'quit', or Ctrl-D.\", stacklevel=1)\n"
     ]
    }
   ],
   "source": [
    "import sys\n",
    "import random\n",
    "import sqlite3\n",
    "\n",
    "import mainwindow\n",
    "from PyQt5.QtWidgets import QApplication, QDialog, QMainWindow\n",
    "from PyQt5.QtSql import QSqlTableModel, QSqlDatabase\n",
    "\n",
    "class MainWindow(mainwindow.Ui_mainWindow):\n",
    "    def setupUi(self, mainwindow):\n",
    "        super().setupUi(mainwindow)\n",
    "        self.btn_submit.clicked.connect(self.submit_clicked)\n",
    "        self.btn_add_row.clicked.connect(self.add_row_clicked)\n",
    "\n",
    "        db = QSqlDatabase.addDatabase('QSQLITE')\n",
    "        db.setDatabaseName(DB_NAME)\n",
    "\n",
    "        self.tablemodel = QSqlTableModel()\n",
    "        self.tablemodel.setTable('person')\n",
    "        self.tablemodel.setEditStrategy(QSqlTableModel.OnManualSubmit)\n",
    "        self.tablemodel.select()  # populate model with data\n",
    "\n",
    "        self.tableView.setModel(self.tablemodel)\n",
    "        self.tableView.hideColumn(0)  # hide ids\n",
    "\n",
    "    def submit_clicked(self):\n",
    "        succ = self.tablemodel.submitAll()\n",
    "        self.lbl_status.setText(\"Daten erfolgreich gespeichert? %s\" % succ)\n",
    "\n",
    "    def add_row_clicked(self):\n",
    "        self.tablemodel.insertRows(self.tablemodel.rowCount(), 1)\n",
    "\n",
    "def initdb():\n",
    "    conn = sqlite3.connect(DB_NAME)\n",
    "    c = conn.cursor()\n",
    "    c.execute('''\n",
    "        CREATE TABLE IF NOT EXISTS person \n",
    "        (\n",
    "        id integer primary key autoincrement,\n",
    "        name text not null,\n",
    "        geschlecht text not null,\n",
    "        gebjahr integer not null,\n",
    "        CONSTRAINT check_correct_val CHECK (geschlecht in ('w', 'm', 'x'))\n",
    "        )\n",
    "        ''')\n",
    "\n",
    "    rows = c.execute('SELECT * FROM person').fetchall()\n",
    "    if len(rows) > 0:\n",
    "        print(len(rows), \"data entries found\")\n",
    "    else:\n",
    "        # init with sample data\n",
    "        for id in range(NUM_INIT_DATA):\n",
    "            gebjahr = random.randint(1950, 2010)\n",
    "            name = random.choice(['Peter', 'Petra', 'Susi', 'Moni'])\n",
    "            geschlecht = random.choice(['m', 'w', 'x'])\n",
    "\n",
    "            c.execute('''INSERT INTO person (id,name,geschlecht,gebjahr) \n",
    "                         VALUES (?,?,?,?)''',\n",
    "                      (id, name, geschlecht, gebjahr))\n",
    "\n",
    "    conn.commit()\n",
    "    conn.close()\n",
    "\n",
    "def main():\n",
    "    initdb()\n",
    "\n",
    "    app = QApplication(sys.argv)\n",
    "    window = QMainWindow()\n",
    "    ui = MainWindow()\n",
    "    ui.setupUi(window)\n",
    "    window.show()\n",
    "\n",
    "    sys.exit(app.exec_())\n",
    "\n",
    "if __name__ == '__main__':\n",
    "    main()\n"
   ]
  },
  {
   "cell_type": "code",
   "execution_count": null,
   "metadata": {},
   "outputs": [],
   "source": []
  }
 ],
 "metadata": {
  "kernelspec": {
   "display_name": "Python 3",
   "language": "python",
   "name": "python3"
  },
  "language_info": {
   "codemirror_mode": {
    "name": "ipython",
    "version": 3
   },
   "file_extension": ".py",
   "mimetype": "text/x-python",
   "name": "python",
   "nbconvert_exporter": "python",
   "pygments_lexer": "ipython3",
   "version": "3.5.2"
  }
 },
 "nbformat": 4,
 "nbformat_minor": 2
}
