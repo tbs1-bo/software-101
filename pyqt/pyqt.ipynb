{
 "cells": [
  {
   "cell_type": "markdown",
   "metadata": {},
   "source": [
    "# pyqt\n",
    "\n",
    "Qt ist eine professionelle Bibliothek für die platformübergreifende Erstellung von Anwendungen - insbesondere von Desktop-Awendungen. Mit [pyqt](https://riverbankcomputing.com/software/pyqt/intro) existiert eine Python Schnittstelle."
   ]
  },
  {
   "cell_type": "markdown",
   "metadata": {},
   "source": [
    "## Installation - Qt\n",
    "\n",
    "Die Installation von [Qt](https://www.qt.io/) erfolgt über einen Download der Open-Source Variante der Software von der Webseite. "
   ]
  },
  {
   "cell_type": "markdown",
   "metadata": {},
   "source": [
    "## Installation - pyqt\n",
    "\n",
    "pyqt kann über pip installiert werden.\n",
    "\n",
    "* Windows: `pip install pyqt5` oder `python -m pip install pyqt5` oder `py -m pip install pyqt5`\n",
    "* Linux, MacOS: `pip3 install pyqt5`"
   ]
  },
  {
   "cell_type": "markdown",
   "metadata": {},
   "source": [
    "## Einfache Anwendung\n",
    "\n",
    "Eine erste einfach Anwendung kann mit wenigen Zeilen Quelltext schnell erstellt werden.\n",
    "\n",
    "![Hallo Welt](media/hallo_welt.png)"
   ]
  },
  {
   "cell_type": "code",
   "execution_count": 1,
   "metadata": {},
   "outputs": [
    {
     "name": "stdout",
     "output_type": "stream",
     "text": [
      "finished\n"
     ]
    }
   ],
   "source": [
    "from PyQt5.QtWidgets import QApplication, QLabel\n",
    "\n",
    "app = QApplication([])\n",
    "label = QLabel('Hallo Welt!')\n",
    "label.show()\n",
    "app.exec_()\n",
    "print(\"finished\")"
   ]
  },
  {
   "cell_type": "markdown",
   "metadata": {},
   "source": [
    "Die Klasse `QApplication` stellt die Hauptanwendung dar. Sie erhält Parameter als Übergabewert. In diesem Fall eine leere Liste, wenn es keine Parameter gibt."
   ]
  },
  {
   "cell_type": "markdown",
   "metadata": {},
   "source": [
    "## Interaktion mit einem Button\n",
    "\n",
    "Nun soll etwas Leben ins Spiel kommen und eine Anwendung entstehen, die einen Button enthält. Damit der Button etwas tut, wenn man auf ihn drückt, müssen wir ihn mit einer Methode verknüpfen. Für die Verknüpfung von Ereignissen mit Aktionen nutzt Qt \"Signals\" (die Ereignisse) und \"Slots\" als Methoden, die auf die Ereignisse reagieren.\n",
    "\n",
    "![click mich](media/click_mich.png)"
   ]
  },
  {
   "cell_type": "code",
   "execution_count": 1,
   "metadata": {},
   "outputs": [
    {
     "data": {
      "text/plain": [
       "0"
      ]
     },
     "execution_count": 1,
     "metadata": {},
     "output_type": "execute_result"
    }
   ],
   "source": [
    "from PyQt5.QtWidgets import QApplication, QPushButton, QMessageBox\n",
    "\n",
    "app = QApplication([])\n",
    "button = QPushButton('Click mich')\n",
    "\n",
    "def on_button_click():\n",
    "    alert = QMessageBox()\n",
    "    alert.setText('Du hast den Button gefunden')\n",
    "    alert.exec_()\n",
    "    \n",
    "button.clicked.connect(on_button_click)  # connect signal clicked with method\n",
    "button.show()\n",
    "app.exec_()"
   ]
  },
  {
   "cell_type": "markdown",
   "metadata": {},
   "source": [
    "## QtCreator und QtDesigner\n",
    "\n",
    "Das Erstellen einer GUI ist in Qt besonders einfach, da ein mächtiger GUI-Editor mitgeliefert wird. Mit ihm kann die GUI erstellt und als ui-Datei (ui=user interface) gespeichert werden."
   ]
  },
  {
   "cell_type": "markdown",
   "metadata": {},
   "source": [
    "## Neues Design erstellen\n",
    "\n",
    "Um ein neues GUI-Design erstellen zu können, wähle im Qt-Creator \n",
    "\n",
    "1. Neu \n",
    "1. Qt \n",
    "1. Qt-Designer-Formular\n",
    "\n",
    "![qt-creator](media/qt_creator.png)"
   ]
  },
  {
   "cell_type": "markdown",
   "metadata": {},
   "source": [
    "Erstelle nun zwei PushButton, einen TableView und ein Label mit den Namen btn_submit, btn_add_row, tableView und lbl_status. Die fertige Datei hat den Namen [mainwindow.ui](mainwindow.ui). Es handelt sich um eine XML-Datei, die von pyqt eingelesen und in Python-Quelltext umgewandelt werden kann."
   ]
  },
  {
   "cell_type": "code",
   "execution_count": 2,
   "metadata": {},
   "outputs": [
    {
     "name": "stdout",
     "output_type": "stream",
     "text": [
      "mainwindow.ui: XML 1.0 document text, ASCII text\r\n"
     ]
    }
   ],
   "source": [
    "! file mainwindow.ui"
   ]
  },
  {
   "cell_type": "markdown",
   "metadata": {},
   "source": [
    "Um aus einer ui-Datei Python-Quelltext zu erzeugen, wird das Kommandozeilentool `pyuic5` mitgeliefert (uic=user interface compiler)."
   ]
  },
  {
   "cell_type": "code",
   "execution_count": 3,
   "metadata": {},
   "outputs": [],
   "source": [
    "! pyuic5 -x -o mainwindow.py mainwindow.ui"
   ]
  },
  {
   "cell_type": "markdown",
   "metadata": {},
   "source": [
    "Der Parameter `-o` bestimmt den Name der Ausgabedatei. Durch `-x` wird zusätzlich ein kleines Rahmenprogramm generiert, womit die GUI schnell angezeigt werden kann."
   ]
  },
  {
   "cell_type": "code",
   "execution_count": 4,
   "metadata": {},
   "outputs": [
    {
     "name": "stdout",
     "output_type": "stream",
     "text": [
      "QApplication: invalid style override passed, ignoring it.\r\n"
     ]
    }
   ],
   "source": [
    "! python mainwindow.py"
   ]
  },
  {
   "cell_type": "markdown",
   "metadata": {},
   "source": [
    "Die generierte Datei sieht wie folgt aus."
   ]
  },
  {
   "cell_type": "code",
   "execution_count": 5,
   "metadata": {},
   "outputs": [
    {
     "name": "stdout",
     "output_type": "stream",
     "text": [
      "# -*- coding: utf-8 -*-\r\n",
      "\r\n",
      "# Form implementation generated from reading ui file 'mainwindow.ui'\r\n",
      "#\r\n",
      "# Created by: PyQt5 UI code generator 5.11.3\r\n",
      "#\r\n",
      "# WARNING! All changes made in this file will be lost!\r\n",
      "\r\n",
      "from PyQt5 import QtCore, QtGui, QtWidgets\r\n",
      "\r\n",
      "class Ui_mainWindow(object):\r\n",
      "    def setupUi(self, mainWindow):\r\n",
      "        mainWindow.setObjectName(\"mainWindow\")\r\n",
      "        mainWindow.resize(475, 381)\r\n",
      "        self.centralWidget = QtWidgets.QWidget(mainWindow)\r\n",
      "        self.centralWidget.setObjectName(\"centralWidget\")\r\n",
      "        self.btn_submit = QtWidgets.QPushButton(self.centralWidget)\r\n",
      "        self.btn_submit.setGeometry(QtCore.QRect(10, 300, 85, 27))\r\n",
      "        self.btn_submit.setObjectName(\"btn_submit\")\r\n",
      "        self.tableView = QtWidgets.QTableView(self.centralWidget)\r\n",
      "        self.tableView.setGeometry(QtCore.QRect(0, 0, 471, 291))\r\n",
      "        self.tableView.setSortingEnabled(True)\r\n",
      "        self.tableView.setObjectName(\"tableView\")\r\n",
      "        self.lbl_status = QtWidgets.QLabel(self.centralWidget)\r\n",
      "        self.lbl_status.setGeometry(QtCore.QRect(200, 300, 251, 20))\r\n",
      "        self.lbl_status.setObjectName(\"lbl_status\")\r\n",
      "        self.btn_add_row = QtWidgets.QPushButton(self.centralWidget)\r\n",
      "        self.btn_add_row.setGeometry(QtCore.QRect(100, 300, 31, 27))\r\n",
      "        self.btn_add_row.setObjectName(\"btn_add_row\")\r\n",
      "        mainWindow.setCentralWidget(self.centralWidget)\r\n",
      "        self.menuBar = QtWidgets.QMenuBar(mainWindow)\r\n",
      "        self.menuBar.setGeometry(QtCore.QRect(0, 0, 475, 27))\r\n",
      "        self.menuBar.setObjectName(\"menuBar\")\r\n",
      "        mainWindow.setMenuBar(self.menuBar)\r\n",
      "        self.mainToolBar = QtWidgets.QToolBar(mainWindow)\r\n",
      "        self.mainToolBar.setObjectName(\"mainToolBar\")\r\n",
      "        mainWindow.addToolBar(QtCore.Qt.TopToolBarArea, self.mainToolBar)\r\n",
      "        self.statusBar = QtWidgets.QStatusBar(mainWindow)\r\n",
      "        self.statusBar.setObjectName(\"statusBar\")\r\n",
      "        mainWindow.setStatusBar(self.statusBar)\r\n",
      "\r\n",
      "        self.retranslateUi(mainWindow)\r\n",
      "        QtCore.QMetaObject.connectSlotsByName(mainWindow)\r\n",
      "\r\n",
      "    def retranslateUi(self, mainWindow):\r\n",
      "        _translate = QtCore.QCoreApplication.translate\r\n",
      "        mainWindow.setWindowTitle(_translate(\"mainWindow\", \"Sql Demo Anwendung\"))\r\n",
      "        self.btn_submit.setText(_translate(\"mainWindow\", \"Submit\"))\r\n",
      "        self.lbl_status.setText(_translate(\"mainWindow\", \"Status: OK\"))\r\n",
      "        self.btn_add_row.setText(_translate(\"mainWindow\", \"+\"))\r\n",
      "\r\n",
      "\r\n",
      "if __name__ == \"__main__\":\r\n",
      "    import sys\r\n",
      "    app = QtWidgets.QApplication(sys.argv)\r\n",
      "    mainWindow = QtWidgets.QMainWindow()\r\n",
      "    ui = Ui_mainWindow()\r\n",
      "    ui.setupUi(mainWindow)\r\n",
      "    mainWindow.show()\r\n",
      "    sys.exit(app.exec_())\r\n",
      "\r\n"
     ]
    }
   ],
   "source": [
    "! cat mainwindow.py"
   ]
  },
  {
   "cell_type": "markdown",
   "metadata": {},
   "source": [
    "## Eine komplexere Anwendung mit Datenbank-Anbindung\n",
    "\n",
    "Probieren wir uns nun an einer komplexeren Anwendung, die auf eine Datenbank zugreift, sie darstellt und eine Änderung der Daten ermöglicht."
   ]
  },
  {
   "cell_type": "markdown",
   "metadata": {},
   "source": [
    "## Erstellen einer Datenbank\n",
    "\n",
    "Zunächst erstellen wir eine sqlite-Datenbank und darin eine Tabelle Person mit den Attributen id, name, geschlecht und gebjahr. Falls eine solche Datenbank schon vorhanden ist, löschen wir sie vorsorglich."
   ]
  },
  {
   "cell_type": "code",
   "execution_count": 3,
   "metadata": {},
   "outputs": [],
   "source": [
    "! rm db.sqlite"
   ]
  },
  {
   "cell_type": "markdown",
   "metadata": {},
   "source": [
    "Wir legen ein paar Konstanten fest, die für die gesamte Anwendung gelten sollen. Der Name der Datenbank, die Anzahl der zufällig zu erzeugenden Daten, eine Auswahl von Namen, die zufällig gewählt werden und das CREATE-Statement für die Erstellung der Tabelle person.\n",
    "\n",
    "Das CREATE enthält zusätlich einen CONSTRAINT, der für das Geschlecht nur die Werte 'w', 'm' und 'x' zulässt."
   ]
  },
  {
   "cell_type": "code",
   "execution_count": 1,
   "metadata": {},
   "outputs": [],
   "source": [
    "DB_FILE = 'db.sqlite'\n",
    "NUM_INIT_DATA = 10\n",
    "NAMES = ['Peter', 'Susi', 'Moni', 'Max']\n",
    "SQL_CREATE = '''\n",
    "    CREATE TABLE IF NOT EXISTS person \n",
    "    (\n",
    "      id integer primary key autoincrement,\n",
    "      name text not null,\n",
    "      geschlecht text not null,\n",
    "      gebjahr integer not null,\n",
    "      CONSTRAINT check_correct_val CHECK (geschlecht in ('w', 'm', 'x'))\n",
    "    )\n",
    "'''"
   ]
  },
  {
   "cell_type": "markdown",
   "metadata": {},
   "source": [
    "Nun erstellen wir die Datenbank und füllen sie mit Beispieldaten."
   ]
  },
  {
   "cell_type": "code",
   "execution_count": 5,
   "metadata": {},
   "outputs": [],
   "source": [
    "import sqlite3\n",
    "import random\n",
    "\n",
    "conn = sqlite3.connect(DB_FILE)\n",
    "c = conn.cursor()\n",
    "c.execute(SQL_CREATE)\n",
    "\n",
    "for id in range(NUM_INIT_DATA):\n",
    "    gebjahr = random.randint(1950, 2010)\n",
    "    name = random.choice(NAMES)\n",
    "    geschlecht = random.choice(['m', 'w', 'x'])\n",
    "\n",
    "    c.execute('''INSERT INTO person (id,name,geschlecht,gebjahr) \n",
    "                 VALUES (?,?,?,?)''',\n",
    "              (id, name, geschlecht, gebjahr))\n",
    "\n",
    "conn.commit()\n",
    "conn.close()"
   ]
  },
  {
   "cell_type": "markdown",
   "metadata": {},
   "source": [
    "Mit sqlite3 können die Daten bereits auf der Kommandozeile ausgelesen werden."
   ]
  },
  {
   "cell_type": "code",
   "execution_count": 6,
   "metadata": {},
   "outputs": [
    {
     "name": "stdout",
     "output_type": "stream",
     "text": [
      "id          name        geschlecht  gebjahr   \r\n",
      "----------  ----------  ----------  ----------\r\n",
      "0           Susi        m           1965      \r\n",
      "1           Peter       x           1993      \r\n",
      "2           Moni        m           2009      \r\n",
      "3           Peter       m           1967      \r\n",
      "4           Susi        w           1961      \r\n",
      "5           Max         m           1950      \r\n",
      "6           Moni        m           1952      \r\n",
      "7           Moni        w           2009      \r\n",
      "8           Max         w           1986      \r\n",
      "9           Max         x           1954      \r\n"
     ]
    }
   ],
   "source": [
    "! sqlite3 --column --header db.sqlite 'SELECT * FROM person'"
   ]
  },
  {
   "cell_type": "markdown",
   "metadata": {},
   "source": [
    "Wir erstellen nun die Klasse `MainWindow`, die von der Klasse `Ui_mainWindow` erbt - letzte stammt aus der generierten Datei `mainwindow.py`. Wir ändern nichts in der generierten Datei, damit spätere Änderungen an der GUI und ein anschließendes neues Erzeugen unsere Mühen nicht kaputt machen."
   ]
  },
  {
   "cell_type": "code",
   "execution_count": 2,
   "metadata": {},
   "outputs": [],
   "source": [
    "import sys\n",
    "import random\n",
    "import sqlite3\n",
    "\n",
    "import mainwindow\n",
    "from PyQt5.QtWidgets import QApplication, QDialog, QMainWindow\n",
    "from PyQt5.QtSql import QSqlTableModel, QSqlDatabase\n",
    "\n",
    "class MainWindow(mainwindow.Ui_mainWindow):\n",
    "    def __init__(self, dbfile):\n",
    "        self.dbfile = dbfile\n",
    "        \n",
    "    def setupUi(self, mainwindow):\n",
    "        super().setupUi(mainwindow)\n",
    "        # connect signals with methods\n",
    "        self.btn_submit.clicked.connect(self.submit_clicked)\n",
    "        self.btn_add_row.clicked.connect(self.add_row_clicked)\n",
    "\n",
    "        # create database object for sqlite-database\n",
    "        db = QSqlDatabase.addDatabase('QSQLITE')\n",
    "        db.setDatabaseName(self.dbfile)\n",
    "\n",
    "        # the table model will show the data from the db in the tableview\n",
    "        self.tablemodel = QSqlTableModel()\n",
    "        self.tablemodel.setTable('person')\n",
    "        self.tablemodel.setEditStrategy(QSqlTableModel.OnManualSubmit)\n",
    "        self.tablemodel.select()  # populate model with data\n",
    "\n",
    "        self.tableView.setModel(self.tablemodel)\n",
    "        self.tableView.hideColumn(0)  # hide ids\n",
    "\n",
    "    def submit_clicked(self):\n",
    "        'Write changes into the DB when submit button is clicked.'\n",
    "        succ = self.tablemodel.submitAll()\n",
    "        self.lbl_status.setText(\"Daten erfolgreich gespeichert? %s\" % succ)\n",
    "\n",
    "    def add_row_clicked(self):\n",
    "        'Add new row to the table when +-Button is clicked.'\n",
    "        self.tablemodel.insertRows(self.tablemodel.rowCount(), 1)"
   ]
  },
  {
   "cell_type": "markdown",
   "metadata": {},
   "source": [
    "Schließlich erzeugen wir eine neue Instanz der Klasse und starten das Programm.\n",
    "\n",
    "![anwendung](media/sql_demo_anwendung.png)"
   ]
  },
  {
   "cell_type": "code",
   "execution_count": null,
   "metadata": {},
   "outputs": [],
   "source": [
    "app = QApplication([])\n",
    "window = QMainWindow()\n",
    "ui = MainWindow(DB_FILE)\n",
    "ui.setupUi(window)\n",
    "window.show()\n",
    "\n",
    "app.exec_()"
   ]
  }
 ],
 "metadata": {
  "kernelspec": {
   "display_name": "Python 3",
   "language": "python",
   "name": "python3"
  },
  "language_info": {
   "codemirror_mode": {
    "name": "ipython",
    "version": 3
   },
   "file_extension": ".py",
   "mimetype": "text/x-python",
   "name": "python",
   "nbconvert_exporter": "python",
   "pygments_lexer": "ipython3",
   "version": "3.7.0"
  }
 },
 "nbformat": 4,
 "nbformat_minor": 2
}
