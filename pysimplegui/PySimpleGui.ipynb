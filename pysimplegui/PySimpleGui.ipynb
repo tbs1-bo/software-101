{
 "cells": [
  {
   "cell_type": "markdown",
   "metadata": {},
   "source": [
    "# PySimpleGUI\n",
    "\n",
    "Hinter dem GUI-Framework [PySimpleGui](https://github.com/PySimpleGUI/PySimpleGUI) \n",
    "verbirgt sich ein Pythonpaket, mit dem grafische\n",
    "Oberflächen für Pythonprogramme einfach erstellt werden können."
   ]
  },
  {
   "cell_type": "markdown",
   "metadata": {},
   "source": [
    "## Installation\n",
    "\n",
    "Die Installation erfolgt einfach mit Hilfe von pip:\n",
    "\n",
    "    pip install pysimplegui  # oder\n",
    "    py -m pip install pysimplegui"
   ]
  },
  {
   "cell_type": "markdown",
   "metadata": {},
   "source": [
    "## Verwendung\n",
    "\n",
    "Nun kann das Paket importiert werden."
   ]
  },
  {
   "cell_type": "code",
   "execution_count": null,
   "metadata": {},
   "outputs": [],
   "source": [
    "import PySimpleGUI as sg"
   ]
  },
  {
   "cell_type": "markdown",
   "metadata": {},
   "source": [
    "Das Layout innerhalb eines Fensters wird mit Hilfe von Listen erstellt.\n",
    "Eigentlich sind es Listen aus Listen. Jeder dieser Listen entspricht einer\n",
    "Zeile in der Oberfläche.\n",
    "\n",
    "In einer einfachen Anwendung soll zuerst eine Anwendung mit\n",
    "Textfeldern, einem Eingabefeld und zwei Buttons erstellt werden.\n",
    "\n",
    "![screenshot](screenshot.png)"
   ]
  },
  {
   "cell_type": "code",
   "execution_count": null,
   "metadata": {},
   "outputs": [],
   "source": [
    "layout = [ [sg.Text('Ein Text')],\n",
    "           [sg.Text('Gib etwas in Zeile 2 ein'), sg.InputText()],\n",
    "           [sg.Button('Ok'), sg.Button('Abbrechen')]]"
   ]
  },
  {
   "cell_type": "markdown",
   "metadata": {},
   "source": [
    "Dieses Layout wird bei der Erstellung eines Window-Objektes genutzt. Der erste Parameter gibt den \n",
    "Fenstertitel, der zweite das Layout an."
   ]
  },
  {
   "cell_type": "code",
   "execution_count": null,
   "metadata": {},
   "outputs": [],
   "source": [
    "window = sg.Window('Titel', layout)"
   ]
  },
  {
   "cell_type": "markdown",
   "metadata": {},
   "source": [
    "In einer Schleife wird das Programm nun durchlaufen. In jeder Iteration fragt die Schleife\n",
    "über die Methode `read` die Events ab, die von einem Button ausgelöst wurden. Es wird der\n",
    "Name des Buttons sowie ein Dictionary zurückgeliefert. In dem Dictionary sind die Einträge\n",
    "der Eingabefelder gespeichert."
   ]
  },
  {
   "cell_type": "code",
   "execution_count": null,
   "metadata": {},
   "outputs": [],
   "source": [
    "while True:\n",
    "    event, values = window.read()\n",
    "    if event in (None, 'Abbrechen'):\n",
    "        break\n",
    "\n",
    "    print('You entered', values[0])\n",
    "\n",
    "window.close()"
   ]
  },
  {
   "cell_type": "markdown",
   "metadata": {},
   "source": [
    "In den [Tutorials der Anleitung](https://pysimplegui.readthedocs.io/en/latest/cookbook/)\n",
    "sind weitere Möglichkeiten beschrieben, einfach und schnell\n",
    "Anwendungen mit Fenstern zu erstellen."
   ]
  },
  {
   "cell_type": "markdown",
   "metadata": {},
   "source": [
    "## Checkboxen\n",
    "\n",
    "![checkboxen](screenshot2.png)\n",
    "\n",
    "Eingaben können nicht nur mit Textfeldern, sondern z.B. auch mit DropDown-Feldern\n",
    "erfolgen. Dies geschiet mit der Klasse `DropDown`. Bei der Erstellung werden die \n",
    "verschiedenen Optionen als Liste im Konstruktor übergeben.\n",
    "\n",
    "In dem neuen Layout erhalten das DropDown- und das Textfeld über das Attribut `key` einen Namen:\n",
    "`AUSWAHL` und `TEXTFELD`.\n",
    "\n",
    "Die einzelnen GUI-Komponenten werden unter diesem Namen im Window-Objekt abgelegt und die\n",
    "Ergebnisse lassen sich unter diesem Namen im values-Dictionary abrufen."
   ]
  },
  {
   "cell_type": "code",
   "execution_count": null,
   "metadata": {},
   "outputs": [],
   "source": [
    "layout = [ [sg.DropDown(['ja', 'nein'], key='AUSWAHL')], \n",
    "           [sg.Text('     ', key='TEXTFELD')],\n",
    "           [sg.Button('OK'), sg.Button('Abbrechen')]]"
   ]
  },
  {
   "cell_type": "code",
   "execution_count": null,
   "metadata": {},
   "outputs": [],
   "source": [
    "window = sg.Window('Auswahl', layout)"
   ]
  },
  {
   "cell_type": "markdown",
   "metadata": {},
   "source": [
    "Die Komponenten des Objektes `window` lassen sich nun mit eckigen Klammern abrufen und ihr Wert mit der Methode\n",
    "`Update` aktualisieren."
   ]
  },
  {
   "cell_type": "code",
   "execution_count": null,
   "metadata": {},
   "outputs": [],
   "source": [
    "while True:\n",
    "    event, values = window.Read()\n",
    "    if event in (None, 'Abbrechen'):\n",
    "        break\n",
    "        \n",
    "    auswahl = values['AUSWAHL']\n",
    "    window['TEXTFELD'].Update(auswahl)\n",
    "\n",
    "window.close()"
   ]
  }
 ],
 "metadata": {
  "kernelspec": {
   "display_name": "Python 3",
   "language": "python",
   "name": "python3"
  },
  "language_info": {
   "codemirror_mode": {
    "name": "ipython",
    "version": 3
   },
   "file_extension": ".py",
   "mimetype": "text/x-python",
   "name": "python",
   "nbconvert_exporter": "python",
   "pygments_lexer": "ipython3",
   "version": "3.6.8"
  }
 },
 "nbformat": 4,
 "nbformat_minor": 2
}
