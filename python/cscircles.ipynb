{
 "cells": [
  {
   "cell_type": "markdown",
   "metadata": {},
   "source": [
    "# Computer Science Circles\n",
    "\n",
    "Dieses Notebook fasst Inhalte des Kurses [cscircles](https://cscircles.cemc.uwaterloo.ca/de) zusammen. Die Nummerierung der Kapitel orientiert sich daher auch an dem Kurs."
   ]
  },
  {
   "cell_type": "markdown",
   "metadata": {},
   "source": [
    "# 0: Hello\n",
    "\n",
    "Einfache Ausgabe"
   ]
  },
  {
   "cell_type": "code",
   "execution_count": 1,
   "metadata": {},
   "outputs": [
    {
     "name": "stdout",
     "output_type": "stream",
     "text": [
      "Hello, World\n"
     ]
    }
   ],
   "source": [
    "print(\"Hello, World\")"
   ]
  },
  {
   "cell_type": "markdown",
   "metadata": {},
   "source": [
    "Ausgabe mit einem Fehler!"
   ]
  },
  {
   "cell_type": "code",
   "execution_count": 2,
   "metadata": {
    "tags": [
     "raises-exception"
    ]
   },
   "outputs": [
    {
     "ename": "NameError",
     "evalue": "name 'Hello' is not defined",
     "output_type": "error",
     "traceback": [
      "\u001b[0;31m---------------------------------------------------------------------------\u001b[0m",
      "\u001b[0;31mNameError\u001b[0m                                 Traceback (most recent call last)",
      "\u001b[0;32m<ipython-input-2-7fbed5fc27f5>\u001b[0m in \u001b[0;36m<module>\u001b[0;34m()\u001b[0m\n\u001b[0;32m----> 1\u001b[0;31m \u001b[0mprint\u001b[0m\u001b[0;34m(\u001b[0m\u001b[0mHello\u001b[0m\u001b[0;34m,\u001b[0m \u001b[0mWorld\u001b[0m\u001b[0;34m)\u001b[0m\u001b[0;34m\u001b[0m\u001b[0m\n\u001b[0m",
      "\u001b[0;31mNameError\u001b[0m: name 'Hello' is not defined"
     ]
    }
   ],
   "source": [
    "print(Hello, World)"
   ]
  },
  {
   "cell_type": "markdown",
   "metadata": {},
   "source": [
    "# 1: Variablen"
   ]
  },
  {
   "cell_type": "code",
   "execution_count": 3,
   "metadata": {},
   "outputs": [
    {
     "name": "stdout",
     "output_type": "stream",
     "text": [
      "14\n",
      "13\n",
      "7\n"
     ]
    }
   ],
   "source": [
    "meineGluecksZahl = 13\n",
    "print(meineGluecksZahl + 1)\n",
    "print(meineGluecksZahl)\n",
    "meineGluecksZahl = 5 + 2\n",
    "print(meineGluecksZahl)"
   ]
  },
  {
   "cell_type": "markdown",
   "metadata": {},
   "source": [
    "Undefinierte Variablen geben eine Fehlermeldung aus."
   ]
  },
  {
   "cell_type": "code",
   "execution_count": 4,
   "metadata": {
    "tags": [
     "raises-exception"
    ]
   },
   "outputs": [
    {
     "ename": "NameError",
     "evalue": "name 'trouble' is not defined",
     "output_type": "error",
     "traceback": [
      "\u001b[0;31m---------------------------------------------------------------------------\u001b[0m",
      "\u001b[0;31mNameError\u001b[0m                                 Traceback (most recent call last)",
      "\u001b[0;32m<ipython-input-4-1a8cd6af3efe>\u001b[0m in \u001b[0;36m<module>\u001b[0;34m()\u001b[0m\n\u001b[0;32m----> 1\u001b[0;31m \u001b[0mprint\u001b[0m\u001b[0;34m(\u001b[0m\u001b[0mtrouble\u001b[0m\u001b[0;34m)\u001b[0m\u001b[0;34m\u001b[0m\u001b[0m\n\u001b[0m",
      "\u001b[0;31mNameError\u001b[0m: name 'trouble' is not defined"
     ]
    }
   ],
   "source": [
    "print(trouble)"
   ]
  },
  {
   "cell_type": "markdown",
   "metadata": {},
   "source": [
    "Zuweisungen: Variablen auf die linke Seite."
   ]
  },
  {
   "cell_type": "code",
   "execution_count": 5,
   "metadata": {},
   "outputs": [],
   "source": [
    "x = 4"
   ]
  },
  {
   "cell_type": "code",
   "execution_count": 6,
   "metadata": {
    "tags": [
     "raises-exception"
    ]
   },
   "outputs": [
    {
     "ename": "SyntaxError",
     "evalue": "can't assign to literal (<ipython-input-6-646e3a5bea61>, line 1)",
     "output_type": "error",
     "traceback": [
      "\u001b[0;36m  File \u001b[0;32m\"<ipython-input-6-646e3a5bea61>\"\u001b[0;36m, line \u001b[0;32m1\u001b[0m\n\u001b[0;31m    4 = x\u001b[0m\n\u001b[0m         ^\u001b[0m\n\u001b[0;31mSyntaxError\u001b[0m\u001b[0;31m:\u001b[0m can't assign to literal\n"
     ]
    }
   ],
   "source": [
    "4 = x"
   ]
  },
  {
   "cell_type": "markdown",
   "metadata": {},
   "source": [
    "# 1E: Fehler"
   ]
  },
  {
   "cell_type": "markdown",
   "metadata": {},
   "source": [
    "Ein **Syntaxfehler**:"
   ]
  },
  {
   "cell_type": "code",
   "execution_count": 7,
   "metadata": {
    "tags": [
     "raises-exception"
    ]
   },
   "outputs": [
    {
     "ename": "SyntaxError",
     "evalue": "Missing parentheses in call to 'print'. Did you mean print(\"ein Test\")? (<ipython-input-7-6105305e4abe>, line 1)",
     "output_type": "error",
     "traceback": [
      "\u001b[0;36m  File \u001b[0;32m\"<ipython-input-7-6105305e4abe>\"\u001b[0;36m, line \u001b[0;32m1\u001b[0m\n\u001b[0;31m    print \"ein Test\"\u001b[0m\n\u001b[0m                   ^\u001b[0m\n\u001b[0;31mSyntaxError\u001b[0m\u001b[0;31m:\u001b[0m Missing parentheses in call to 'print'. Did you mean print(\"ein Test\")?\n"
     ]
    }
   ],
   "source": [
    "print \"ein Test\""
   ]
  },
  {
   "cell_type": "markdown",
   "metadata": {},
   "source": [
    "Ein **Laufzeitfehler**:"
   ]
  },
  {
   "cell_type": "code",
   "execution_count": 8,
   "metadata": {
    "tags": [
     "raises-exception"
    ]
   },
   "outputs": [
    {
     "ename": "NameError",
     "evalue": "name 'test' is not defined",
     "output_type": "error",
     "traceback": [
      "\u001b[0;31m---------------------------------------------------------------------------\u001b[0m",
      "\u001b[0;31mNameError\u001b[0m                                 Traceback (most recent call last)",
      "\u001b[0;32m<ipython-input-8-4ddfce83ccd5>\u001b[0m in \u001b[0;36m<module>\u001b[0;34m()\u001b[0m\n\u001b[0;32m----> 1\u001b[0;31m \u001b[0mprint\u001b[0m\u001b[0;34m(\u001b[0m\u001b[0mtest\u001b[0m\u001b[0;34m)\u001b[0m\u001b[0;34m\u001b[0m\u001b[0m\n\u001b[0m",
      "\u001b[0;31mNameError\u001b[0m: name 'test' is not defined"
     ]
    }
   ],
   "source": [
    "print(test)"
   ]
  },
  {
   "cell_type": "markdown",
   "metadata": {},
   "source": [
    "Ein **logischer Fehler**:\n",
    "\n",
    "$$\\displaystyle{\\frac{x+y}{2}=\\frac{3+4}{2}=\\frac{7}{2}=3.5}$$\n"
   ]
  },
  {
   "cell_type": "code",
   "execution_count": 9,
   "metadata": {},
   "outputs": [
    {
     "name": "stdout",
     "output_type": "stream",
     "text": [
      "5.0\n"
     ]
    }
   ],
   "source": [
    "x = 3\n",
    "y = 4\n",
    "average = x + y / 2\n",
    "print(average)"
   ]
  },
  {
   "cell_type": "markdown",
   "metadata": {},
   "source": [
    "# 2: Funktionen\n",
    "\n",
    "Funktionen haben einen Namen und müssen mit Klammern aufgerufen werden. `max` ist eine Funktion zur Bestimmung des größten Elements."
   ]
  },
  {
   "cell_type": "code",
   "execution_count": 10,
   "metadata": {},
   "outputs": [
    {
     "name": "stdout",
     "output_type": "stream",
     "text": [
      "42\n"
     ]
    }
   ],
   "source": [
    "print(max(42, 17))"
   ]
  },
  {
   "cell_type": "markdown",
   "metadata": {},
   "source": [
    "Man nennt den Wert 42 auch **Rückgabewert**. Für die Anweisung `max(42, 17) ` sagt man \"Die Funktion `max` gibt den Wert 42 zurück.\""
   ]
  },
  {
   "cell_type": "markdown",
   "metadata": {},
   "source": [
    "Zu wenig Argumente führen zu Fehlern."
   ]
  },
  {
   "cell_type": "code",
   "execution_count": 11,
   "metadata": {
    "tags": [
     "raises-exception"
    ]
   },
   "outputs": [
    {
     "ename": "TypeError",
     "evalue": "max expected 1 arguments, got 0",
     "output_type": "error",
     "traceback": [
      "\u001b[0;31m---------------------------------------------------------------------------\u001b[0m",
      "\u001b[0;31mTypeError\u001b[0m                                 Traceback (most recent call last)",
      "\u001b[0;32m<ipython-input-11-f870ea12a3fc>\u001b[0m in \u001b[0;36m<module>\u001b[0;34m()\u001b[0m\n\u001b[0;32m----> 1\u001b[0;31m \u001b[0mmax\u001b[0m\u001b[0;34m(\u001b[0m\u001b[0;34m)\u001b[0m\u001b[0;34m\u001b[0m\u001b[0m\n\u001b[0m",
      "\u001b[0;31mTypeError\u001b[0m: max expected 1 arguments, got 0"
     ]
    }
   ],
   "source": [
    "max()"
   ]
  },
  {
   "cell_type": "markdown",
   "metadata": {},
   "source": [
    "Fehlermeldungen: Auch mal eine Zeile vorher oder nachher prüfen."
   ]
  },
  {
   "cell_type": "code",
   "execution_count": 12,
   "metadata": {
    "tags": [
     "raises-exception"
    ]
   },
   "outputs": [
    {
     "ename": "SyntaxError",
     "evalue": "invalid syntax (<ipython-input-12-c528c37b0ef6>, line 2)",
     "output_type": "error",
     "traceback": [
      "\u001b[0;36m  File \u001b[0;32m\"<ipython-input-12-c528c37b0ef6>\"\u001b[0;36m, line \u001b[0;32m2\u001b[0m\n\u001b[0;31m    bigger = max(3, 4)\u001b[0m\n\u001b[0m         ^\u001b[0m\n\u001b[0;31mSyntaxError\u001b[0m\u001b[0;31m:\u001b[0m invalid syntax\n"
     ]
    }
   ],
   "source": [
    "smaller = min(14, 99\n",
    "bigger = max(3, 4)"
   ]
  },
  {
   "cell_type": "markdown",
   "metadata": {},
   "source": [
    "Funktionen für Buchstaben im Zusammenhang mit einem ASCII-Wert."
   ]
  },
  {
   "cell_type": "code",
   "execution_count": 13,
   "metadata": {},
   "outputs": [
    {
     "name": "stdout",
     "output_type": "stream",
     "text": [
      "65\n",
      "A\n"
     ]
    }
   ],
   "source": [
    "print(ord(\"A\"))\n",
    "print(chr(65))"
   ]
  },
  {
   "cell_type": "markdown",
   "metadata": {},
   "source": [
    "# 3: Kommentare"
   ]
  },
  {
   "cell_type": "markdown",
   "metadata": {},
   "source": [
    "Kommentare werden mit `#` eingeleitet."
   ]
  },
  {
   "cell_type": "code",
   "execution_count": 14,
   "metadata": {},
   "outputs": [
    {
     "name": "stdout",
     "output_type": "stream",
     "text": [
      "1\n",
      "3\n"
     ]
    }
   ],
   "source": [
    "print(1) # hier ist ein Kommentar\n",
    "# print(2)\n",
    "print(3) # ein weiterer Kommentar @!#!@$"
   ]
  },
  {
   "cell_type": "markdown",
   "metadata": {},
   "source": [
    "Das `#` wird in Zeichenketten ignoriert."
   ]
  },
  {
   "cell_type": "code",
   "execution_count": 15,
   "metadata": {},
   "outputs": [
    {
     "name": "stdout",
     "output_type": "stream",
     "text": [
      "To leave a message, press the # key on your phone.\n"
     ]
    }
   ],
   "source": [
    "myStr = \"To leave a message, press the # key on your phone.\"\n",
    "print(myStr)"
   ]
  },
  {
   "cell_type": "markdown",
   "metadata": {},
   "source": [
    "Mit dem *Maskierungszeichen* `\\` kann man ein Zeichen mit einer besonderen Bedeutung verwenden."
   ]
  },
  {
   "cell_type": "code",
   "execution_count": 16,
   "metadata": {},
   "outputs": [
    {
     "name": "stdout",
     "output_type": "stream",
     "text": [
      "Here's a single-quote escape\n",
      "This is an \"escape\" of a double-quote\n",
      "First line\n",
      "second line\n"
     ]
    }
   ],
   "source": [
    "print('Here\\'s a single-quote escape')\n",
    "print(\"This is an \\\"escape\\\" of a double-quote\")\n",
    "print('First line\\nsecond line')"
   ]
  },
  {
   "cell_type": "code",
   "execution_count": 17,
   "metadata": {},
   "outputs": [
    {
     "name": "stdout",
     "output_type": "stream",
     "text": [
      "Backslashes \\ and single quotes ' and double quotes \" and pound signs # are awesome!\n"
     ]
    }
   ],
   "source": [
    "print(\"Backslashes \\\\ and single quotes \\' and double quotes \\\" and pound signs # are awesome!\")"
   ]
  },
  {
   "cell_type": "markdown",
   "metadata": {},
   "source": [
    "# 4: Typen"
   ]
  },
  {
   "cell_type": "markdown",
   "metadata": {},
   "source": [
    "Werte haben unterschiedliche Typen."
   ]
  },
  {
   "cell_type": "code",
   "execution_count": 18,
   "metadata": {},
   "outputs": [
    {
     "name": "stdout",
     "output_type": "stream",
     "text": [
      "<class 'str'>\n",
      "<class 'int'>\n",
      "<class 'float'>\n"
     ]
    }
   ],
   "source": [
    "print(type(\"Hello, World!\"))\n",
    "print(type(34))\n",
    "print(type(1.234))"
   ]
  },
  {
   "cell_type": "markdown",
   "metadata": {},
   "source": [
    "Auch Vaiablen haben einen Typ."
   ]
  },
  {
   "cell_type": "code",
   "execution_count": 19,
   "metadata": {},
   "outputs": [
    {
     "name": "stdout",
     "output_type": "stream",
     "text": [
      "1.2 2 2.4\n",
      "<class 'float'> <class 'int'> <class 'float'>\n"
     ]
    }
   ],
   "source": [
    "x = 1.2\n",
    "y = 2\n",
    "z = x * y\n",
    "print(x, y, z)\n",
    "print(type(x), type(y), type(z))"
   ]
  },
  {
   "cell_type": "markdown",
   "metadata": {},
   "source": [
    "Sogar Funktionen haben einen Typ."
   ]
  },
  {
   "cell_type": "code",
   "execution_count": 20,
   "metadata": {},
   "outputs": [
    {
     "name": "stdout",
     "output_type": "stream",
     "text": [
      "<class 'builtin_function_or_method'>\n"
     ]
    }
   ],
   "source": [
    "print(type(min))"
   ]
  },
  {
   "cell_type": "markdown",
   "metadata": {},
   "source": [
    "Typen können und müssen manchmal in einen andern Typ umgewandelt werden."
   ]
  },
  {
   "cell_type": "code",
   "execution_count": 21,
   "metadata": {
    "tags": [
     "raises-exception"
    ]
   },
   "outputs": [
    {
     "name": "stdout",
     "output_type": "stream",
     "text": [
      "The input type is <class 'str'>\n",
      "12 is of type <class 'int'> and its square is 144\n"
     ]
    },
    {
     "ename": "TypeError",
     "evalue": "can't multiply sequence by non-int of type 'str'",
     "output_type": "error",
     "traceback": [
      "\u001b[0;31m---------------------------------------------------------------------------\u001b[0m",
      "\u001b[0;31mTypeError\u001b[0m                                 Traceback (most recent call last)",
      "\u001b[0;32m<ipython-input-21-a2cf34820357>\u001b[0m in \u001b[0;36m<module>\u001b[0;34m()\u001b[0m\n\u001b[1;32m      3\u001b[0m \u001b[0mx\u001b[0m \u001b[0;34m=\u001b[0m \u001b[0mint\u001b[0m\u001b[0;34m(\u001b[0m\u001b[0minputStr\u001b[0m\u001b[0;34m)\u001b[0m\u001b[0;34m\u001b[0m\u001b[0m\n\u001b[1;32m      4\u001b[0m \u001b[0mprint\u001b[0m\u001b[0;34m(\u001b[0m\u001b[0mx\u001b[0m\u001b[0;34m,\u001b[0m \u001b[0;34m\"is of type\"\u001b[0m\u001b[0;34m,\u001b[0m \u001b[0mtype\u001b[0m\u001b[0;34m(\u001b[0m\u001b[0mx\u001b[0m\u001b[0;34m)\u001b[0m\u001b[0;34m,\u001b[0m \u001b[0;34m\"and its square is\"\u001b[0m\u001b[0;34m,\u001b[0m \u001b[0mx\u001b[0m\u001b[0;34m*\u001b[0m\u001b[0mx\u001b[0m\u001b[0;34m)\u001b[0m\u001b[0;34m\u001b[0m\u001b[0m\n\u001b[0;32m----> 5\u001b[0;31m \u001b[0mprint\u001b[0m\u001b[0;34m(\u001b[0m\u001b[0minputStr\u001b[0m \u001b[0;34m*\u001b[0m \u001b[0minputStr\u001b[0m\u001b[0;34m)\u001b[0m\u001b[0;34m\u001b[0m\u001b[0m\n\u001b[0m",
      "\u001b[0;31mTypeError\u001b[0m: can't multiply sequence by non-int of type 'str'"
     ]
    }
   ],
   "source": [
    "inputStr = \"12\"\n",
    "print(\"The input type is\", type(inputStr))\n",
    "x = int(inputStr)\n",
    "print(x, \"is of type\", type(x), \"and its square is\", x*x)\n",
    "print(inputStr * inputStr)\n"
   ]
  },
  {
   "cell_type": "markdown",
   "metadata": {},
   "source": [
    "# 5: Eingabe"
   ]
  },
  {
   "cell_type": "markdown",
   "metadata": {},
   "source": [
    "Mit der `input()`-Funktion kann eine Eingabe vom Nutzer erfragt werden."
   ]
  },
  {
   "cell_type": "code",
   "execution_count": 22,
   "metadata": {},
   "outputs": [
    {
     "name": "stdout",
     "output_type": "stream",
     "text": [
      "Hallo\n",
      "The first line of input is: Hallo\n"
     ]
    }
   ],
   "source": [
    "line = input()\n",
    "print(\"The first line of input is:\", line)"
   ]
  },
  {
   "cell_type": "markdown",
   "metadata": {},
   "source": [
    "# 6: if"
   ]
  },
  {
   "cell_type": "markdown",
   "metadata": {},
   "source": [
    "Anweisungen können in Abhängigkeit von einer Bedingung ausgeführt werden. Eine Bedinung ist entweder wahr (True) oder falsch (False)."
   ]
  },
  {
   "cell_type": "code",
   "execution_count": 23,
   "metadata": {},
   "outputs": [
    {
     "name": "stdout",
     "output_type": "stream",
     "text": [
      "Du bist 31 Jahre alt\n"
     ]
    }
   ],
   "source": [
    "birthYear = 1982\n",
    "currentYear = 2013\n",
    "age = currentYear - birthYear\n",
    "if age > 65:\n",
    "   print('Genieße die Rente!')\n",
    "print('Du bist', age, 'Jahre alt')"
   ]
  },
  {
   "cell_type": "markdown",
   "metadata": {},
   "source": [
    "Wir nennen die Sache, die überprüft wird, **condition**, und die Anweisungen, die davon abhängig sind, ob die Sache als richtig gilt, **body**. Der body muss eingerückt sein. Er kann mehr als eine Anweisung enthalten."
   ]
  },
  {
   "cell_type": "markdown",
   "metadata": {},
   "source": [
    "    if x < y: heißt \"falls x kleiner als y\"\n",
    "    if x >= y: heißt \"falls x größer oder gleich y\"\n",
    "    if x <= y: heißt \"falls x kleiner oder gleich y\""
   ]
  },
  {
   "cell_type": "markdown",
   "metadata": {},
   "source": [
    "Bedingungen haben den Typ **bool**."
   ]
  },
  {
   "cell_type": "code",
   "execution_count": 24,
   "metadata": {},
   "outputs": [
    {
     "name": "stdout",
     "output_type": "stream",
     "text": [
      "True\n",
      "False\n",
      "<class 'bool'> <class 'bool'> <class 'bool'>\n"
     ]
    }
   ],
   "source": [
    "print(2>1)\n",
    "b = False\n",
    "print(b)\n",
    "print(type(b), type(2>1), type(True))"
   ]
  },
  {
   "cell_type": "markdown",
   "metadata": {},
   "source": [
    "# 7C: Schleifen\n",
    "\n",
    "Schleifen ermöglichen eine wiederholte Ausführung von Quelltextblöcken.\n",
    "\n",
    "Es gibt verschiedene Arten von Schleifen - z.B. die **while**-Schleife. Sie wird ausgeführt, solange die Bedingung erfüllt ist."
   ]
  },
  {
   "cell_type": "code",
   "execution_count": 25,
   "metadata": {},
   "outputs": [
    {
     "name": "stdout",
     "output_type": "stream",
     "text": [
      "5\n",
      "4\n",
      "3\n",
      "2\n",
      "1\n",
      "Blastoff!\n"
     ]
    }
   ],
   "source": [
    "timeLeft = 5\n",
    "while timeLeft > 0:      # condition\n",
    "  print(timeLeft)        # body\n",
    "  timeLeft = timeLeft-1  # body\n",
    "print('Blastoff!')       # this is not part of the loop"
   ]
  },
  {
   "cell_type": "markdown",
   "metadata": {},
   "source": [
    "Die **for**-Schleife iteriert über Elemente einer Liste - z.B. über Zahlen aus einem Bereich."
   ]
  },
  {
   "cell_type": "code",
   "execution_count": 26,
   "metadata": {},
   "outputs": [
    {
     "name": "stdout",
     "output_type": "stream",
     "text": [
      "The counter's value is 10\n",
      "The counter's value is 11\n",
      "The counter's value is 12\n",
      "The counter's value is 13\n",
      "The counter's value is 14\n"
     ]
    }
   ],
   "source": [
    "for counter in range(10, 15):\n",
    "  print(\"The counter's value is\", counter)"
   ]
  },
  {
   "cell_type": "markdown",
   "metadata": {},
   "source": [
    "Schleifen können auch ineinander geschachtelt werden."
   ]
  },
  {
   "cell_type": "code",
   "execution_count": 27,
   "metadata": {},
   "outputs": [
    {
     "name": "stdout",
     "output_type": "stream",
     "text": [
      "*****\n",
      "*****\n",
      "*****\n",
      "*****\n",
      "*****\n"
     ]
    }
   ],
   "source": [
    "for i in range(0, 5):\n",
    "  S = ''\n",
    "  for j in range(0, 5):\n",
    "    S = S + '*'\n",
    "  print(S)"
   ]
  },
  {
   "cell_type": "markdown",
   "metadata": {},
   "source": [
    "Mit der `break`-Anweisung kann eine Schleife vorzeitig beendet werden."
   ]
  },
  {
   "cell_type": "code",
   "execution_count": 28,
   "metadata": {},
   "outputs": [
    {
     "name": "stdout",
     "output_type": "stream",
     "text": [
      "a\n",
      "line 1 = a\n",
      "b\n",
      "line 2 = b\n",
      "END\n"
     ]
    }
   ],
   "source": [
    "counter = 0\n",
    "while True:\n",
    "  lineIn = input()\n",
    "  if lineIn == 'END':\n",
    "    break\n",
    "  counter = counter+1\n",
    "  print('line', counter, '=', lineIn)"
   ]
  },
  {
   "cell_type": "markdown",
   "metadata": {},
   "source": [
    "Mit `continue` wird die aktuelle Schleifen-Iteration beendet und mit der nächsten begonnen."
   ]
  },
  {
   "cell_type": "code",
   "execution_count": 29,
   "metadata": {},
   "outputs": [
    {
     "name": "stdout",
     "output_type": "stream",
     "text": [
      "10\n",
      "11\n",
      "12\n",
      "14\n",
      "15\n"
     ]
    }
   ],
   "source": [
    "for n in range(10, 16):\n",
    "  if (n == 13):  # bad luck\n",
    "    continue     # so we skip it\n",
    "  print(n)"
   ]
  },
  {
   "cell_type": "markdown",
   "metadata": {},
   "source": [
    "# 9: Fälle & Logik"
   ]
  },
  {
   "cell_type": "markdown",
   "metadata": {},
   "source": [
    "Nach einem *if «C»* Statement wird ein *else* Statement nur ausgeführt, wenn C false ist."
   ]
  },
  {
   "cell_type": "code",
   "execution_count": 30,
   "metadata": {},
   "outputs": [
    {
     "name": "stdout",
     "output_type": "stream",
     "text": [
      "Du bist nicht unbedingt ein Zeitreisender\n"
     ]
    }
   ],
   "source": [
    "if age >= 0:  \n",
    "  print('Du bist nicht unbedingt ein Zeitreisender')\n",
    "if age < 0:\n",
    "  print('Du bist ein Zeitreisender')"
   ]
  },
  {
   "cell_type": "markdown",
   "metadata": {},
   "source": [
    "Zwei Varianten: mit und ohne `else`."
   ]
  },
  {
   "cell_type": "code",
   "execution_count": 31,
   "metadata": {},
   "outputs": [],
   "source": [
    "height = 200"
   ]
  },
  {
   "cell_type": "code",
   "execution_count": 32,
   "metadata": {},
   "outputs": [
    {
     "name": "stdout",
     "output_type": "stream",
     "text": [
      "Too short for this ride\n"
     ]
    }
   ],
   "source": [
    "# Variante A\n",
    "if height < 256:\n",
    "   print('Too short for this ride')\n",
    "else:\n",
    "   print('Welcome aboard!')"
   ]
  },
  {
   "cell_type": "code",
   "execution_count": 33,
   "metadata": {},
   "outputs": [
    {
     "name": "stdout",
     "output_type": "stream",
     "text": [
      "Too short for this ride\n"
     ]
    }
   ],
   "source": [
    "# Vairante B\n",
    "if height < 256:\n",
    "   print('Too short for this ride')\n",
    "if height >= 256:\n",
    "   print('Welcome aboard!')"
   ]
  },
  {
   "cell_type": "markdown",
   "metadata": {},
   "source": [
    "Versuche Variante A zu verwenden. Bei Änderungen der Bedingung muss nur eine Stelle geändert werden. Bei Variante B muss zudem geprüft werden, ob eventuell beiden Bedingungen wahr sein können."
   ]
  },
  {
   "cell_type": "markdown",
   "metadata": {},
   "source": [
    "Boolesche Ausdrücke können mit **and**, **or**, und **not** kombiniert werden. Sie funktionieren genauso wie in normaler Sprache."
   ]
  },
  {
   "cell_type": "code",
   "execution_count": 34,
   "metadata": {},
   "outputs": [
    {
     "name": "stdout",
     "output_type": "stream",
     "text": [
      "10\n",
      "letter 10 in the alphabet: J\n"
     ]
    }
   ],
   "source": [
    "x = int(input())\n",
    "if x>=1 and x<=26:\n",
    "    print('letter', x, 'in the alphabet:', chr(ord('A')+(x-1)))\n",
    "else:\n",
    "    print('invalid input:', x)\n",
    "    "
   ]
  },
  {
   "cell_type": "markdown",
   "metadata": {},
   "source": [
    "# 10: def\n",
    "\n",
    "Eigene Funktionen können mit `def` beschrieben werden - sie werden *deklariert*."
   ]
  },
  {
   "cell_type": "code",
   "execution_count": 35,
   "metadata": {},
   "outputs": [],
   "source": [
    "def abs(x):     # definiere eine Funktion 'abs' mit einem Argument 'x'\n",
    "  if x >= 0:    # Funktionskörper beginnt hier\n",
    "    return x\n",
    "  else:\n",
    "    return -x   # Funktionskörper endet hier"
   ]
  },
  {
   "cell_type": "markdown",
   "metadata": {},
   "source": [
    "Die erste Zeile in einer Funktionsdefinition gibt den Namen der Funktion und die Argumente der Funktion an. Man nennt dies eine **Methodensignatur**.\n",
    "\n",
    "    def «function-name»(«argument-list»):\n",
    "    \n",
    "Der **Rückgabewert** einer Funktion wird mit **return** festgelegt.\n",
    "\n",
    "Nach der Deklaration kann die Funktion verwendet werden."
   ]
  },
  {
   "cell_type": "code",
   "execution_count": 36,
   "metadata": {},
   "outputs": [
    {
     "name": "stdout",
     "output_type": "stream",
     "text": [
      "100\n",
      "16\n"
     ]
    }
   ],
   "source": [
    "def square(x):     # function definition\n",
    "    return x*x     # body only has one line\n",
    "\n",
    "# use the function, now that it's defined\n",
    "print(square(10))        \n",
    "print(square(square(2)))"
   ]
  },
  {
   "cell_type": "markdown",
   "metadata": {},
   "source": [
    "# 13: Listen (Arrays)\n",
    "\n",
    "In einer **Liste** werden Variablen unter einem Namen zusammengefasst."
   ]
  },
  {
   "cell_type": "code",
   "execution_count": 37,
   "metadata": {},
   "outputs": [],
   "source": [
    "myList = [\"the first value in the list\", 1999, 4.5]"
   ]
  },
  {
   "cell_type": "markdown",
   "metadata": {},
   "source": [
    "Elemente sind über eine Zahl (den **Index**) in der Liste abruf- und veränderbar."
   ]
  },
  {
   "cell_type": "code",
   "execution_count": 38,
   "metadata": {},
   "outputs": [
    {
     "name": "stdout",
     "output_type": "stream",
     "text": [
      "Element at position 0: zero\n",
      "['zilch', 'one', 'two']\n"
     ]
    }
   ],
   "source": [
    "numbers = ['zero', 'one', 'two']\n",
    "print(\"Element at position 0:\", numbers[0])\n",
    "numbers[0] = 'zilch'\n",
    "print(numbers)"
   ]
  },
  {
   "cell_type": "markdown",
   "metadata": {},
   "source": [
    "Mit der Funktion `len()` kann die Länge einer Liste (die Anzahl der Elemente) bestimmt werden."
   ]
  },
  {
   "cell_type": "code",
   "execution_count": 39,
   "metadata": {},
   "outputs": [
    {
     "name": "stdout",
     "output_type": "stream",
     "text": [
      "myList has length 5\n",
      "item at index 0 : 3\n",
      "item at index 1 : 12\n",
      "item at index 2 : pizza\n",
      "item at index 3 : 3\n",
      "item at index 4 : 4\n"
     ]
    }
   ],
   "source": [
    "myList = [3, 12, \"pizza\", 3, 4]\n",
    "print(\"myList has length\", len(myList))\n",
    "for i in range(0, len(myList)):\n",
    " print(\"item at index\", i, \":\", myList[i])"
   ]
  },
  {
   "cell_type": "markdown",
   "metadata": {},
   "source": [
    "Listen können mit `+` verkettet werden."
   ]
  },
  {
   "cell_type": "code",
   "execution_count": 40,
   "metadata": {},
   "outputs": [
    {
     "name": "stdout",
     "output_type": "stream",
     "text": [
      "6\n",
      "[3, 'go', 7.1, 4, 'hi', 1]\n"
     ]
    }
   ],
   "source": [
    "listA = [3, 'go', 7.1]\n",
    "listB = [4, 'hi', 1]\n",
    "listC = listA + listB\n",
    "print(len(listC))\n",
    "print(listC)"
   ]
  },
  {
   "cell_type": "markdown",
   "metadata": {},
   "source": [
    "Um an das letzte Element einer Liste zu kommen, verwende\n",
    "\n",
    "    «listName»[-1]\n",
    "    \n",
    "Mit negativen Indizes wird allgemein vom Ende der Liste gezählt."
   ]
  },
  {
   "cell_type": "code",
   "execution_count": 41,
   "metadata": {},
   "outputs": [
    {
     "name": "stdout",
     "output_type": "stream",
     "text": [
      "3\n",
      "2\n"
     ]
    }
   ],
   "source": [
    "listA = [1, 2, 3]\n",
    "print(listA[-1])\n",
    "print(listA[-2])"
   ]
  },
  {
   "cell_type": "markdown",
   "metadata": {},
   "source": [
    "Häufig muss man über Einträge in einer Liste iterieren. Daher gibt es eine verkürzende Schreibweise für eine Schleife."
   ]
  },
  {
   "cell_type": "code",
   "execution_count": 42,
   "metadata": {},
   "outputs": [
    {
     "name": "stdout",
     "output_type": "stream",
     "text": [
      "s\n",
      "o\n",
      "s\n"
     ]
    }
   ],
   "source": [
    "message=['s', 'o', 's']\n",
    "for x in message:\n",
    "  print(x)"
   ]
  },
  {
   "cell_type": "markdown",
   "metadata": {},
   "source": [
    "# 14: Methoden\n",
    "\n",
    "Methoden sind eine Variante von Funktionen. Sie werden immer auf Objekten wie z.B. Strings und Listen aufgerufen."
   ]
  },
  {
   "cell_type": "code",
   "execution_count": 43,
   "metadata": {},
   "outputs": [
    {
     "name": "stdout",
     "output_type": "stream",
     "text": [
      "[5, 4, 3, 2, 1]\n"
     ]
    }
   ],
   "source": [
    "l = [1, 2, 3, 4, 5]\n",
    "l.reverse()\n",
    "print(l)"
   ]
  },
  {
   "cell_type": "markdown",
   "metadata": {},
   "source": [
    "Hier sind weitere Methoden für Listen."
   ]
  },
  {
   "cell_type": "code",
   "execution_count": 44,
   "metadata": {},
   "outputs": [
    {
     "name": "stdout",
     "output_type": "stream",
     "text": [
      "5\n",
      "3\n",
      "2\n",
      "[3, 1, 4, 1, 5, 9, 99]\n"
     ]
    }
   ],
   "source": [
    "l = [3, 1, 4, 1, 5, 9]\n",
    "print(l.index(9))\n",
    "print(l[l.index(3)])\n",
    "print(l.count(1))\n",
    "l.append(99)\n",
    "print(l)"
   ]
  },
  {
   "cell_type": "markdown",
   "metadata": {},
   "source": [
    "Zeichenketten sind Listen sehr ähnlich und biete daher ähnliche Methoden."
   ]
  },
  {
   "cell_type": "code",
   "execution_count": 45,
   "metadata": {},
   "outputs": [
    {
     "name": "stdout",
     "output_type": "stream",
     "text": [
      "2\n",
      "7\n",
      "True\n"
     ]
    }
   ],
   "source": [
    "print(\"marmalade\".count(\"ma\"))\n",
    "print(\"find a substring\".index(\"substring\"))\n",
    "print(\"key\" in \"monkey\")"
   ]
  },
  {
   "cell_type": "markdown",
   "metadata": {},
   "source": [
    "**Strings sind unveränderlich**. Daher geben Methoden auf Strings häufig einen neuen String zurück."
   ]
  },
  {
   "cell_type": "markdown",
   "metadata": {},
   "source": [
    "Die Funktion `dir` ermittelt, welche Methoden auf einem Objekte aufgerufen werden können."
   ]
  },
  {
   "cell_type": "code",
   "execution_count": 46,
   "metadata": {},
   "outputs": [
    {
     "name": "stdout",
     "output_type": "stream",
     "text": [
      "['__add__', '__class__', '__contains__', '__delattr__', '__dir__', '__doc__', '__eq__', '__format__', '__ge__', '__getattribute__', '__getitem__', '__getnewargs__', '__gt__', '__hash__', '__init__', '__init_subclass__', '__iter__', '__le__', '__len__', '__lt__', '__mod__', '__mul__', '__ne__', '__new__', '__reduce__', '__reduce_ex__', '__repr__', '__rmod__', '__rmul__', '__setattr__', '__sizeof__', '__str__', '__subclasshook__', 'capitalize', 'casefold', 'center', 'count', 'encode', 'endswith', 'expandtabs', 'find', 'format', 'format_map', 'index', 'isalnum', 'isalpha', 'isascii', 'isdecimal', 'isdigit', 'isidentifier', 'islower', 'isnumeric', 'isprintable', 'isspace', 'istitle', 'isupper', 'join', 'ljust', 'lower', 'lstrip', 'maketrans', 'partition', 'replace', 'rfind', 'rindex', 'rjust', 'rpartition', 'rsplit', 'rstrip', 'split', 'splitlines', 'startswith', 'strip', 'swapcase', 'title', 'translate', 'upper', 'zfill']\n"
     ]
    }
   ],
   "source": [
    "myName = 'Jim'\n",
    "print(dir(myName))"
   ]
  },
  {
   "cell_type": "markdown",
   "metadata": {},
   "source": [
    "Alles in Python kann Methoden haben. So z.B. auch Zahlen."
   ]
  },
  {
   "cell_type": "code",
   "execution_count": 47,
   "metadata": {},
   "outputs": [
    {
     "name": "stdout",
     "output_type": "stream",
     "text": [
      "['__abs__', '__add__', '__and__', '__bool__', '__ceil__', '__class__', '__delattr__', '__dir__', '__divmod__', '__doc__', '__eq__', '__float__', '__floor__', '__floordiv__', '__format__', '__ge__', '__getattribute__', '__getnewargs__', '__gt__', '__hash__', '__index__', '__init__', '__init_subclass__', '__int__', '__invert__', '__le__', '__lshift__', '__lt__', '__mod__', '__mul__', '__ne__', '__neg__', '__new__', '__or__', '__pos__', '__pow__', '__radd__', '__rand__', '__rdivmod__', '__reduce__', '__reduce_ex__', '__repr__', '__rfloordiv__', '__rlshift__', '__rmod__', '__rmul__', '__ror__', '__round__', '__rpow__', '__rrshift__', '__rshift__', '__rsub__', '__rtruediv__', '__rxor__', '__setattr__', '__sizeof__', '__str__', '__sub__', '__subclasshook__', '__truediv__', '__trunc__', '__xor__', 'bit_length', 'conjugate', 'denominator', 'from_bytes', 'imag', 'numerator', 'real', 'to_bytes']\n",
      "6\n"
     ]
    }
   ],
   "source": [
    "x = 42\n",
    "print(dir(x)) # includes 'bit_length' \n",
    "print(x.bit_length()) # a method of int"
   ]
  }
 ],
 "metadata": {
  "kernelspec": {
   "display_name": "Python 3",
   "language": "python",
   "name": "python3"
  },
  "language_info": {
   "codemirror_mode": {
    "name": "ipython",
    "version": 3
   },
   "file_extension": ".py",
   "mimetype": "text/x-python",
   "name": "python",
   "nbconvert_exporter": "python",
   "pygments_lexer": "ipython3",
   "version": "3.7.0"
  }
 },
 "nbformat": 4,
 "nbformat_minor": 2
}
