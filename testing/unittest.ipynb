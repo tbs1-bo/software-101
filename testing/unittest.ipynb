{
 "cells": [
  {
   "cell_type": "markdown",
   "metadata": {},
   "source": [
    "# Unittests\n",
    "\n",
    "Mit Unittests (auf deutsch Komponententests) können in Python Klassen getestet werden. Hierfür wird das Modul [unittest](https://docs.python.org/3/library/unittest.html) verwendet, das mit jeder Python-Installation ausgeliefert wird."
   ]
  },
  {
   "cell_type": "markdown",
   "metadata": {},
   "source": [
    "Wir erstellen zunächst eine einfache Klasse, die getestet werden soll und speichern sie in der Datei `person.py`."
   ]
  },
  {
   "cell_type": "markdown",
   "metadata": {},
   "source": [
    "Die erste Zeile mit \"%%writefile\" kann ignoriert werden."
   ]
  },
  {
   "cell_type": "code",
   "execution_count": 1,
   "metadata": {},
   "outputs": [
    {
     "name": "stdout",
     "output_type": "stream",
     "text": [
      "Overwriting person.py\n"
     ]
    }
   ],
   "source": [
    "%%writefile person.py\n",
    "\n",
    "class Person:\n",
    "    def __init__(self, name, alter):\n",
    "        self.name = name\n",
    "        self.alter = alter\n",
    "        \n",
    "    def altern(self, jahre):\n",
    "        self.alter += jahre"
   ]
  },
  {
   "cell_type": "markdown",
   "metadata": {},
   "source": [
    "Wir testen nun die Methode `altern` und schauen, ob sie das tut, was sie soll. Hierfür wird eine Testklasse erzeugt - vorzugsweise in einer neuen Datei. "
   ]
  },
  {
   "cell_type": "markdown",
   "metadata": {},
   "source": [
    "Ein Testfall erbt von `unittest.TestCase` und erhält dadurch verschiedene Methoden, die in Testfällen verwendet werden können - z.B. `assertEqual, assertTrue, assertFalse`."
   ]
  },
  {
   "cell_type": "markdown",
   "metadata": {},
   "source": [
    "Alle Methoden, die mit `test...` beginnen sind Testfälle, die automatisch ausgeführt werden."
   ]
  },
  {
   "cell_type": "markdown",
   "metadata": {},
   "source": [
    "Die Methode `setUp` wird vor jeder Methode `test...` ausgeführt. Hier können Vorbereitungen für den Test getroffen werden."
   ]
  },
  {
   "cell_type": "code",
   "execution_count": 2,
   "metadata": {},
   "outputs": [
    {
     "name": "stdout",
     "output_type": "stream",
     "text": [
      "Overwriting person_test.py\n"
     ]
    }
   ],
   "source": [
    "%%writefile person_test.py\n",
    "\n",
    "from person import Person\n",
    "import unittest\n",
    "\n",
    "class PersonTest(unittest.TestCase):\n",
    "    def setUp(self):\n",
    "        self.p = Person(\"Hans\", 18)\n",
    "        \n",
    "    def test_altern(self):\n",
    "        vorher = self.p.alter\n",
    "        self.p.altern(1)\n",
    "        \n",
    "        self.assertEqual(self.p.alter, 19)\n",
    "        self.assertTrue(self.p.alter == 19)        "
   ]
  },
  {
   "cell_type": "markdown",
   "metadata": {},
   "source": [
    "Die Test können anschließend ausgeführt werden."
   ]
  },
  {
   "cell_type": "code",
   "execution_count": 3,
   "metadata": {},
   "outputs": [
    {
     "name": "stdout",
     "output_type": "stream",
     "text": [
      ".\r\n",
      "----------------------------------------------------------------------\r\n",
      "Ran 1 test in 0.000s\r\n",
      "\r\n",
      "OK\r\n"
     ]
    }
   ],
   "source": [
    "! python3 -m unittest person_test.py"
   ]
  },
  {
   "cell_type": "markdown",
   "metadata": {},
   "source": [
    "Das sieht gut aus. Es gibt keine Fehler."
   ]
  },
  {
   "cell_type": "markdown",
   "metadata": {},
   "source": [
    "Mit der Option `-v` werden zusätzliche Informationen beim Ausführen der Tests angezeigt."
   ]
  },
  {
   "cell_type": "code",
   "execution_count": 4,
   "metadata": {},
   "outputs": [
    {
     "name": "stdout",
     "output_type": "stream",
     "text": [
      "test_altern (person_test.PersonTest) ... ok\r\n",
      "\r\n",
      "----------------------------------------------------------------------\r\n",
      "Ran 1 test in 0.000s\r\n",
      "\r\n",
      "OK\r\n"
     ]
    }
   ],
   "source": [
    "! python3 -m unittest -v person_test.py"
   ]
  },
  {
   "cell_type": "markdown",
   "metadata": {},
   "source": [
    "Es gibt jedoch ein Problem mit der Methode `altern`. Wenn `altern` mit einem negativen Parameter aufgerufen wird, wird die Zahl abgezogen. Das sollte nicht passieren, da dieses Verhalten nicht zum Name `altern` passt."
   ]
  },
  {
   "cell_type": "code",
   "execution_count": 5,
   "metadata": {},
   "outputs": [
    {
     "name": "stdout",
     "output_type": "stream",
     "text": [
      "Overwriting person_test.py\n"
     ]
    }
   ],
   "source": [
    "%%writefile person_test.py\n",
    "\n",
    "from person import Person\n",
    "import unittest\n",
    "\n",
    "class PersonTest(unittest.TestCase):\n",
    "    def setUp(self):\n",
    "        self.p = Person(\"Hans\", 18)\n",
    "        \n",
    "    def test_altern(self):\n",
    "        vorher = self.p.alter\n",
    "        self.p.altern(1)\n",
    "        \n",
    "        self.assertEqual(self.p.alter, 19)\n",
    "        self.assertTrue(self.p.alter == 19)\n",
    "        \n",
    "    def test_altern2(self):  # ein neuer Testfall\n",
    "        self.p.altern(-100)  # Das sollte nicht funktionieren dürfen\n",
    "        self.assertTrue(self.p.alter > 0, \"Die Person hat ein negatives Alter!\")        "
   ]
  },
  {
   "cell_type": "markdown",
   "metadata": {},
   "source": [
    "Nun schlägt der Testfall fehl."
   ]
  },
  {
   "cell_type": "code",
   "execution_count": 6,
   "metadata": {},
   "outputs": [
    {
     "name": "stdout",
     "output_type": "stream",
     "text": [
      ".F\r\n",
      "======================================================================\r\n",
      "FAIL: test_altern2 (person_test.PersonTest)\r\n",
      "----------------------------------------------------------------------\r\n",
      "Traceback (most recent call last):\r\n",
      "  File \"/Users/bakera/proj/software-101/unittest/person_test.py\", line 18, in test_altern2\r\n",
      "    self.assertTrue(self.p.alter > 0, \"Die Person hat ein negatives Alter!\")\r\n",
      "AssertionError: False is not true : Die Person hat ein negatives Alter!\r\n",
      "\r\n",
      "----------------------------------------------------------------------\r\n",
      "Ran 2 tests in 0.000s\r\n",
      "\r\n",
      "FAILED (failures=1)\r\n"
     ]
    }
   ],
   "source": [
    "! python3 -m unittest person_test.py"
   ]
  },
  {
   "cell_type": "markdown",
   "metadata": {},
   "source": [
    "Wir beheben das Problem, indem wir die Methode `altern` so anpassen, dass sie bei negativen Werten nichts tut."
   ]
  },
  {
   "cell_type": "code",
   "execution_count": 7,
   "metadata": {},
   "outputs": [
    {
     "name": "stdout",
     "output_type": "stream",
     "text": [
      "Overwriting person.py\n"
     ]
    }
   ],
   "source": [
    "%%writefile person.py\n",
    "\n",
    "class Person:\n",
    "    def __init__(self, name, alter):\n",
    "        self.name = name\n",
    "        self.alter = alter\n",
    "        \n",
    "    def altern(self, jahre):\n",
    "        if jahre >= 0:\n",
    "            self.alter += jahre"
   ]
  },
  {
   "cell_type": "markdown",
   "metadata": {},
   "source": [
    "Nun läuft unser Test durch."
   ]
  },
  {
   "cell_type": "code",
   "execution_count": 8,
   "metadata": {},
   "outputs": [
    {
     "name": "stdout",
     "output_type": "stream",
     "text": [
      "..\r\n",
      "----------------------------------------------------------------------\r\n",
      "Ran 2 tests in 0.000s\r\n",
      "\r\n",
      "OK\r\n"
     ]
    }
   ],
   "source": [
    "! python3 -m unittest person_test.py"
   ]
  },
  {
   "cell_type": "markdown",
   "metadata": {},
   "source": [
    "# Doctest\n",
    "\n",
    "Eine Besonderheit von Python sind doctests. Darunter versteht man Kommentare im Quelltext, die gleichzeitig getestet werden können."
   ]
  },
  {
   "cell_type": "markdown",
   "metadata": {},
   "source": [
    "Wir verwenden wieder die defekte Version der Klasse Person. Kommentare ähneln nun einer Interpreter-Sitzung und werden bei einem Test ausgeführt. Eingaben beginnen mit `>>>` und erwartete Ausgaben stehen direkt darunter."
   ]
  },
  {
   "cell_type": "code",
   "execution_count": 45,
   "metadata": {},
   "outputs": [],
   "source": [
    "class Person:\n",
    "    '''Eine Person. Die Klasse kann wie folgt verwendet werden.\n",
    "    \n",
    "    >>> peter = Person(\"Person\", 21)\n",
    "    >>> peter.alter\n",
    "    21\n",
    "    \n",
    "    >>> peter.altern(1)\n",
    "    >>> peter.alter\n",
    "    22\n",
    "    \n",
    "    Wenn ein negativer Wert für altern verwendet wird, so \n",
    "    ändert sich das Alter nicht.\n",
    "    \n",
    "    >>> peter.altern(-10)\n",
    "    >>> peter.alter\n",
    "    22\n",
    "    \n",
    "    '''\n",
    "    def __init__(self, name, alter):\n",
    "        self.name = name\n",
    "        self.alter = alter\n",
    "        \n",
    "    def altern(self, jahre):\n",
    "        self.alter += jahre"
   ]
  },
  {
   "cell_type": "markdown",
   "metadata": {},
   "source": [
    "Mit Hilfe des Moduls `doctest` kann das aktuelle Modul mit der Methode `testmod` getestet werden."
   ]
  },
  {
   "cell_type": "code",
   "execution_count": 46,
   "metadata": {},
   "outputs": [
    {
     "name": "stdout",
     "output_type": "stream",
     "text": [
      "**********************************************************************\n",
      "File \"__main__\", line ?, in __main__.Person\n",
      "Failed example:\n",
      "    peter.alter\n",
      "Expected:\n",
      "    22\n",
      "Got:\n",
      "    12\n",
      "**********************************************************************\n",
      "1 items had failures:\n",
      "   1 of   6 in __main__.Person\n",
      "***Test Failed*** 1 failures.\n"
     ]
    },
    {
     "data": {
      "text/plain": [
       "TestResults(failed=1, attempted=6)"
      ]
     },
     "execution_count": 46,
     "metadata": {},
     "output_type": "execute_result"
    }
   ],
   "source": [
    "import doctest\n",
    "doctest.testmod()"
   ]
  },
  {
   "cell_type": "markdown",
   "metadata": {},
   "source": [
    "Wir sehen einen Fehler. Er taucht bei der Verwendung `altern(-10)` auf. Wir müssen die Methode `altern` reparieren. Das Alter soll sich nicht ändern, wenn der Änderungswert negativ ist. Mit einer geänderten Version der Methode klappen die Tests schließlich wieder."
   ]
  },
  {
   "cell_type": "code",
   "execution_count": 47,
   "metadata": {},
   "outputs": [],
   "source": [
    "class Person:\n",
    "    '''Eine Person. Die Klasse kann wie folgt verwendet werden.\n",
    "    \n",
    "    >>> peter = Person(\"Person\", 21)\n",
    "    >>> peter.alter\n",
    "    21\n",
    "    \n",
    "    >>> peter.altern(1)\n",
    "    >>> peter.alter\n",
    "    22\n",
    "    \n",
    "    Wenn ein negativer Wert für altern verwendet wird, so \n",
    "    ändert sich das Alter nicht.\n",
    "    \n",
    "    >>> peter.altern(-10)\n",
    "    >>> peter.alter\n",
    "    22\n",
    "    \n",
    "    '''\n",
    "    def __init__(self, name, alter):\n",
    "        self.name = name\n",
    "        self.alter = alter\n",
    "        \n",
    "    def altern(self, jahre):\n",
    "        if jahre >= 0:\n",
    "            self.alter += jahre"
   ]
  },
  {
   "cell_type": "markdown",
   "metadata": {},
   "source": [
    "Erneut lassen wir die Tests laufen."
   ]
  },
  {
   "cell_type": "code",
   "execution_count": 48,
   "metadata": {},
   "outputs": [
    {
     "data": {
      "text/plain": [
       "TestResults(failed=0, attempted=6)"
      ]
     },
     "execution_count": 48,
     "metadata": {},
     "output_type": "execute_result"
    }
   ],
   "source": [
    "doctest.testmod()"
   ]
  },
  {
   "cell_type": "markdown",
   "metadata": {},
   "source": [
    "Wir erhalten keine Ausgaben. Dies zeigt an, dass die Tests durchgelaufen sind."
   ]
  },
  {
   "cell_type": "markdown",
   "metadata": {},
   "source": [
    "# Pytest\n",
    "\n",
    "Das Modul [pytest](https://docs.pytest.org) ist ein Python-Modul, das den Entwickler beim Testen unterstützen will. "
   ]
  },
  {
   "cell_type": "markdown",
   "metadata": {},
   "source": [
    "## Installation\n",
    "\n",
    "Die Installation erfolgt mit pip.\n",
    "\n",
    "  - Linux/MacOS: `pip3 install pytest` oder `python3 -m pip install pytest`\n",
    "  - Windows: `pip install pytest` oder `python -m pip install pytest` oder `py -m pip install pytest`\n",
    "  \n",
    "Danach steht ein Befehl `pytest` zur Verfügung, mit dem die Tests durchgeführt werden."
   ]
  },
  {
   "cell_type": "code",
   "execution_count": 90,
   "metadata": {},
   "outputs": [
    {
     "name": "stdout",
     "output_type": "stream",
     "text": [
      "\u001b[1m============================= test session starts ==============================\u001b[0m\r\n",
      "platform linux -- Python 3.5.2, pytest-3.8.2, py-1.6.0, pluggy-0.7.1\r\n",
      "rootdir: /home/marco/proj/software-101/testing, inifile:\r\n",
      "\u001b[1m\r",
      "collecting 0 items                                                             \u001b[0m\u001b[1m\r",
      "collected 0 items                                                              \u001b[0m\r\n",
      "\r\n",
      "\u001b[1m\u001b[33m========================= no tests ran in 0.00 seconds =========================\u001b[0m\r\n"
     ]
    }
   ],
   "source": [
    "! pytest"
   ]
  },
  {
   "cell_type": "markdown",
   "metadata": {},
   "source": [
    "## Pytest-Beispiele\n",
    "\n",
    "Wir verwenden wieder die bekannte Klasse Person und ergänzen sie um eine Methode `test_person`. Methoden, die mit `test` beginnen, werden von pytest für die Tests genutzt. Die eigentlichen Annahmen, werden mit gewöhnlichen `assert`-Statements durchgeführt. Dadurch müssen keine weiteren Bibliotheken importiert werden."
   ]
  },
  {
   "cell_type": "code",
   "execution_count": 76,
   "metadata": {},
   "outputs": [
    {
     "name": "stdout",
     "output_type": "stream",
     "text": [
      "Overwriting person.py\n"
     ]
    }
   ],
   "source": [
    "%%writefile person.py\n",
    "\n",
    "class Person:\n",
    "    def __init__(self, name, alter):\n",
    "        self.name = name\n",
    "        self.alter = alter\n",
    "        \n",
    "    def altern(self, jahre):\n",
    "        self.alter += jahre\n",
    "        \n",
    "def test_person():\n",
    "    p = Person(\"Hans\", 18)\n",
    "        \n",
    "    vorher = p.alter\n",
    "    p.altern(1)\n",
    "    \n",
    "    assert p.alter > vorher\n",
    "    assert p.alter == 19\n",
    "\n",
    "    p.altern(-100)  # Das sollte nicht funktionieren dürfen\n",
    "    assert p.alter > 0, \"Die Person hat ein negatives Alter!\"        "
   ]
  },
  {
   "cell_type": "markdown",
   "metadata": {},
   "source": [
    "Wenn wir die Tests nun ausführen, schlagen sie wie erwartet fehlt."
   ]
  },
  {
   "cell_type": "code",
   "execution_count": 77,
   "metadata": {},
   "outputs": [
    {
     "name": "stdout",
     "output_type": "stream",
     "text": [
      "\u001b[1m============================= test session starts ==============================\u001b[0m\n",
      "platform linux -- Python 3.5.2, pytest-3.8.2, py-1.6.0, pluggy-0.7.1\n",
      "rootdir: /home/marco/proj/software-101/testing, inifile:\n",
      "collected 1 item                                                               \u001b[0m\u001b[1m\n",
      "\n",
      "person.py F\u001b[36m                                                              [100%]\u001b[0m\n",
      "\n",
      "=================================== FAILURES ===================================\n",
      "\u001b[1m\u001b[31m_________________________________ test_person __________________________________\u001b[0m\n",
      "\n",
      "\u001b[1m    def test_person():\u001b[0m\n",
      "\u001b[1m        p = Person(\"Hans\", 18)\u001b[0m\n",
      "\u001b[1m    \u001b[0m\n",
      "\u001b[1m        vorher = p.alter\u001b[0m\n",
      "\u001b[1m        p.altern(1)\u001b[0m\n",
      "\u001b[1m    \u001b[0m\n",
      "\u001b[1m        assert p.alter > vorher\u001b[0m\n",
      "\u001b[1m        assert p.alter == 19\u001b[0m\n",
      "\u001b[1m    \u001b[0m\n",
      "\u001b[1m        p.altern(-100)  # Das sollte nicht funktionieren dürfen\u001b[0m\n",
      "\u001b[1m>       assert p.alter > 0, \"Die Person hat ein negatives Alter!\"\u001b[0m\n",
      "\u001b[1m\u001b[31mE       AssertionError: Die Person hat ein negatives Alter!\u001b[0m\n",
      "\u001b[1m\u001b[31mE       assert -81 > 0\u001b[0m\n",
      "\u001b[1m\u001b[31mE        +  where -81 = <person.Person object at 0x7f5341e4bdd8>.alter\u001b[0m\n",
      "\n",
      "\u001b[1m\u001b[31mperson.py\u001b[0m:20: AssertionError\n",
      "\u001b[1m\u001b[31m=========================== 1 failed in 0.04 seconds ===========================\u001b[0m\n"
     ]
    }
   ],
   "source": [
    "! pytest person.py"
   ]
  },
  {
   "cell_type": "markdown",
   "metadata": {},
   "source": [
    "Wir korrigieren nun erneut die Methode `altern` und ändern das Alter nur, wenn der Änderungswert positiv ist."
   ]
  },
  {
   "cell_type": "code",
   "execution_count": 78,
   "metadata": {},
   "outputs": [
    {
     "name": "stdout",
     "output_type": "stream",
     "text": [
      "Overwriting person.py\n"
     ]
    }
   ],
   "source": [
    "%%writefile person.py\n",
    "\n",
    "class Person:\n",
    "    def __init__(self, name, alter):\n",
    "        self.name = name\n",
    "        self.alter = alter\n",
    "        \n",
    "    def altern(self, jahre):\n",
    "        if jahre >= 0:  # Korrektur\n",
    "            self.alter += jahre  \n",
    "        \n",
    "def test_person():\n",
    "    p = Person(\"Hans\", 18)\n",
    "        \n",
    "    vorher = p.alter\n",
    "    p.altern(1)\n",
    "    \n",
    "    assert p.alter > vorher\n",
    "        \n",
    "    assert p.alter == 19\n",
    "\n",
    "    p.altern(-100)  # Das sollte nicht funktionieren dürfen\n",
    "    assert p.alter > 0, \"Die Person hat ein negatives Alter!\"        "
   ]
  },
  {
   "cell_type": "code",
   "execution_count": 79,
   "metadata": {},
   "outputs": [
    {
     "name": "stdout",
     "output_type": "stream",
     "text": [
      "\u001b[1m============================= test session starts ==============================\u001b[0m\r\n",
      "platform linux -- Python 3.5.2, pytest-3.8.2, py-1.6.0, pluggy-0.7.1\r\n",
      "rootdir: /home/marco/proj/software-101/testing, inifile:\r\n",
      "\u001b[1m\r",
      "collecting 0 items                                                             \u001b[0m\u001b[1m\r",
      "collecting 1 item                                                              \u001b[0m\u001b[1m\r",
      "collected 1 item                                                               \u001b[0m\r\n",
      "\r\n",
      "person.py .\u001b[36m                                                              [100%]\u001b[0m\r\n",
      "\r\n",
      "\u001b[32m\u001b[1m=========================== 1 passed in 0.02 seconds ===========================\u001b[0m\r\n"
     ]
    }
   ],
   "source": [
    "! pytest person.py"
   ]
  },
  {
   "cell_type": "markdown",
   "metadata": {},
   "source": [
    "Nun sind die Tests erfolgreich durchgelaufen."
   ]
  },
  {
   "cell_type": "markdown",
   "metadata": {},
   "source": [
    "Doch wie testet man, ob ein Fehler auftritt? Wenn das Ändern des Alters mit einem negativen Wert zu einem Fehler führen soll, kann auch dies getestet werden. Dafür wird der Teil, der einen Fehler erzeugen soll, in einen try-except-Block platziert."
   ]
  },
  {
   "cell_type": "code",
   "execution_count": 85,
   "metadata": {},
   "outputs": [
    {
     "name": "stdout",
     "output_type": "stream",
     "text": [
      "Overwriting person.py\n"
     ]
    }
   ],
   "source": [
    "%%writefile person.py\n",
    "\n",
    "class Person:\n",
    "    def __init__(self, name, alter):\n",
    "        self.name = name\n",
    "        self.alter = alter\n",
    "        \n",
    "    def altern(self, jahre):\n",
    "        if jahre >= 0:\n",
    "            self.alter += jahre  \n",
    "        else:\n",
    "            raise ValueError(\"Keine negativen Werte erlaubt\") # Fehler erzeugen\n",
    "        \n",
    "def test_person_mit_Fehler():\n",
    "    p = Person(\"Hans\", 18)\n",
    "        \n",
    "    try:\n",
    "        p.altern(-100)  # Fehler soll auftreten -> Sprung in Except-Zweig\n",
    "        assert False  # Diese Zeile schlägt immer fehl\n",
    "    except ValueError:\n",
    "        assert p.alter > 0, \"Die Person hat ein negatives Alter!\"        \n",
    "    "
   ]
  },
  {
   "cell_type": "code",
   "execution_count": 86,
   "metadata": {},
   "outputs": [
    {
     "name": "stdout",
     "output_type": "stream",
     "text": [
      "\u001b[1m============================= test session starts ==============================\u001b[0m\r\n",
      "platform linux -- Python 3.5.2, pytest-3.8.2, py-1.6.0, pluggy-0.7.1\r\n",
      "rootdir: /home/marco/proj/software-101/testing, inifile:\r\n",
      "\u001b[1m\r",
      "collecting 0 items                                                             \u001b[0m\u001b[1m\r",
      "collecting 1 item                                                              \u001b[0m\u001b[1m\r",
      "collected 1 item                                                               \u001b[0m\r\n",
      "\r\n",
      "person.py .\u001b[36m                                                              [100%]\u001b[0m\r\n",
      "\r\n",
      "\u001b[32m\u001b[1m=========================== 1 passed in 0.02 seconds ===========================\u001b[0m\r\n"
     ]
    }
   ],
   "source": [
    "! pytest person.py"
   ]
  },
  {
   "cell_type": "markdown",
   "metadata": {},
   "source": [
    "Die Tests waren erfolgreich, da die Exception wie erwartet aufgetreten ist."
   ]
  },
  {
   "cell_type": "markdown",
   "metadata": {},
   "source": [
    "## Testabdeckung\n",
    "\n",
    "Die Anweisungs und Zweigabdeckung von Testfällen kann mit dem\n",
    "Pythonpaket [coverage.py](https://coverage.readthedocs.io/) ermittelt werden.\n",
    "\n",
    "Es wird wie gewohnt mit pip installiert: \n",
    "* `pip3 install coverage` (Linux, MacOS)\n",
    "* `py -m pip install coverage` (Windows)."
   ]
  },
  {
   "cell_type": "markdown",
   "metadata": {},
   "source": [
    "Für die Testabdeckung verwenden wir wieder die Klasse Person."
   ]
  },
  {
   "cell_type": "code",
   "execution_count": 20,
   "metadata": {},
   "outputs": [
    {
     "name": "stdout",
     "output_type": "stream",
     "text": [
      "Overwriting person.py\n"
     ]
    }
   ],
   "source": [
    "%%writefile person.py\n",
    "\n",
    "class Person:\n",
    "    def __init__(self, name, alter):\n",
    "        self.name = name\n",
    "        self.alter = alter\n",
    "        \n",
    "    def altern(self, jahre):\n",
    "        if jahre >= 0:\n",
    "            self.alter += jahre  \n",
    "        else:\n",
    "            raise ValueError(\"Keine negativen Werte erlaubt\")\n",
    "        \n",
    "def test_person():\n",
    "    p = Person(\"Hans\", 18)\n",
    "    p.altern(1)\n",
    "    assert p.alter == 19\n",
    "        \n",
    "test_person()"
   ]
  },
  {
   "cell_type": "markdown",
   "metadata": {},
   "source": [
    "Mit dem Kommando `run` können die Tests ausgeführt werden."
   ]
  },
  {
   "cell_type": "code",
   "execution_count": 21,
   "metadata": {},
   "outputs": [],
   "source": [
    "!coverage run person.py"
   ]
  },
  {
   "cell_type": "markdown",
   "metadata": {},
   "source": [
    "Anschließend werden die Ergebnisse mit `report` angezeigt."
   ]
  },
  {
   "cell_type": "code",
   "execution_count": 22,
   "metadata": {},
   "outputs": [
    {
     "name": "stdout",
     "output_type": "stream",
     "text": [
      "Name        Stmts   Miss  Cover\r\n",
      "-------------------------------\r\n",
      "person.py      13      1    92%\r\n"
     ]
    }
   ],
   "source": [
    "!coverage report"
   ]
  },
  {
   "cell_type": "markdown",
   "metadata": {},
   "source": [
    "Eine Zweigabdeckung wird mit der Option `--branch` ermöglicht."
   ]
  },
  {
   "cell_type": "code",
   "execution_count": 23,
   "metadata": {},
   "outputs": [],
   "source": [
    "!coverage run --branch person.py"
   ]
  },
  {
   "cell_type": "markdown",
   "metadata": {},
   "source": [
    "Nun tauchen auch Informationen zur Zweigabdeckung auf."
   ]
  },
  {
   "cell_type": "code",
   "execution_count": 24,
   "metadata": {},
   "outputs": [
    {
     "name": "stdout",
     "output_type": "stream",
     "text": [
      "Name        Stmts   Miss Branch BrPart  Cover\r\n",
      "---------------------------------------------\r\n",
      "person.py      13      1      2      1    87%\r\n"
     ]
    }
   ],
   "source": [
    "!coverage report"
   ]
  },
  {
   "cell_type": "markdown",
   "metadata": {},
   "source": [
    "Mit dem Kommando `html` kann eine übersichtliche Darstellung erzeugt\n",
    "werden."
   ]
  },
  {
   "cell_type": "code",
   "execution_count": 25,
   "metadata": {},
   "outputs": [],
   "source": [
    "!coverage html"
   ]
  },
  {
   "cell_type": "markdown",
   "metadata": {},
   "source": [
    "Das Ergebnis steht in dem Unterordner [htmlcov](htmlcov/index.html) zur\n",
    "Verfügung."
   ]
  },
  {
   "cell_type": "code",
   "execution_count": 26,
   "metadata": {},
   "outputs": [
    {
     "name": "stdout",
     "output_type": "stream",
     "text": [
      "coverage_html.js                   jquery.tablesorter.min.js\r\n",
      "index.html                         keybd_closed.png\r\n",
      "jquery.ba-throttle-debounce.min.js keybd_open.png\r\n",
      "jquery.hotkeys.js                  person_py.html\r\n",
      "jquery.isonscreen.js               status.json\r\n",
      "jquery.min.js                      style.css\r\n"
     ]
    }
   ],
   "source": [
    "!ls htmlcov"
   ]
  }
 ],
 "metadata": {
  "kernelspec": {
   "display_name": "Python 3",
   "language": "python",
   "name": "python3"
  },
  "language_info": {
   "codemirror_mode": {
    "name": "ipython",
    "version": 3
   },
   "file_extension": ".py",
   "mimetype": "text/x-python",
   "name": "python",
   "nbconvert_exporter": "python",
   "pygments_lexer": "ipython3",
   "version": "3.5.2"
  }
 },
 "nbformat": 4,
 "nbformat_minor": 2
}
