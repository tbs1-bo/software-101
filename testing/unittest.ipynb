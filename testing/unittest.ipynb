{
 "cells": [
  {
   "cell_type": "markdown",
   "metadata": {},
   "source": [
    "# Unittests\n",
    "\n",
    "Mit Unittests (auf deutsch Komponententests) können in Python Klassen getestet werden. Hierfür wird das Modul [unittest](https://docs.python.org/3/library/unittest.html) verwendet, das mit jeder Python-Installation ausgeliefert wird."
   ]
  },
  {
   "cell_type": "markdown",
   "metadata": {},
   "source": [
    "Wir erstellen zunächst eine einfache Klasse, die getestet werden soll und speichern sie in der Datei `person.py`."
   ]
  },
  {
   "cell_type": "markdown",
   "metadata": {},
   "source": [
    "Die erste Zeile mit \"%%writefile\" kann ignoriert werden."
   ]
  },
  {
   "cell_type": "code",
   "execution_count": 1,
   "metadata": {},
   "outputs": [
    {
     "name": "stdout",
     "output_type": "stream",
     "text": [
      "Overwriting person.py\n"
     ]
    }
   ],
   "source": [
    "%%writefile person.py\n",
    "\n",
    "class Person:\n",
    "    def __init__(self, name, alter):\n",
    "        self.name = name\n",
    "        self.alter = alter\n",
    "        \n",
    "    def altern(self, jahre):\n",
    "        self.alter += jahre"
   ]
  },
  {
   "cell_type": "markdown",
   "metadata": {},
   "source": [
    "Wir testen nun die Methode `altern` und schauen, ob sie das tut, was sie soll. Hierfür wird eine Testklasse erzeugt - vorzugsweise in einer neuen Datei. "
   ]
  },
  {
   "cell_type": "markdown",
   "metadata": {},
   "source": [
    "Ein Testfall erbt von `unittest.TestCase` und erhält dadurch verschiedene Methoden, die in Testfällen verwendet werden können - z.B. `assertEqual, assertTrue, assertFalse`."
   ]
  },
  {
   "cell_type": "markdown",
   "metadata": {},
   "source": [
    "Alle Methoden, die mit `test...` beginnen sind Testfälle, die automatisch ausgeführt werden."
   ]
  },
  {
   "cell_type": "markdown",
   "metadata": {},
   "source": [
    "Die Methode `setUp` wird vor jeder Methode `test...` ausgeführt. Hier können Vorbereitungen für den Test getroffen werden."
   ]
  },
  {
   "cell_type": "code",
   "execution_count": 2,
   "metadata": {},
   "outputs": [
    {
     "name": "stdout",
     "output_type": "stream",
     "text": [
      "Overwriting person_test.py\n"
     ]
    }
   ],
   "source": [
    "%%writefile person_test.py\n",
    "\n",
    "from person import Person\n",
    "import unittest\n",
    "\n",
    "class PersonTest(unittest.TestCase):\n",
    "    def setUp(self):\n",
    "        self.p = Person(\"Hans\", 18)\n",
    "        \n",
    "    def test_altern(self):\n",
    "        vorher = self.p.alter\n",
    "        self.p.altern(1)\n",
    "        \n",
    "        self.assertEqual(self.p.alter, 19)\n",
    "        self.assertTrue(self.p.alter == 19)        "
   ]
  },
  {
   "cell_type": "markdown",
   "metadata": {},
   "source": [
    "Die Test können anschließend ausgeführt werden."
   ]
  },
  {
   "cell_type": "code",
   "execution_count": 3,
   "metadata": {},
   "outputs": [
    {
     "name": "stdout",
     "output_type": "stream",
     "text": [
      ".\r\n",
      "----------------------------------------------------------------------\r\n",
      "Ran 1 test in 0.000s\r\n",
      "\r\n",
      "OK\r\n"
     ]
    }
   ],
   "source": [
    "! python3 -m unittest person_test.py"
   ]
  },
  {
   "cell_type": "markdown",
   "metadata": {},
   "source": [
    "Das sieht gut aus. Es gibt keine Fehler."
   ]
  },
  {
   "cell_type": "markdown",
   "metadata": {},
   "source": [
    "Mit der Option `-v` werden zusätzliche Informationen beim Ausführen der Tests angezeigt."
   ]
  },
  {
   "cell_type": "code",
   "execution_count": 4,
   "metadata": {},
   "outputs": [
    {
     "name": "stdout",
     "output_type": "stream",
     "text": [
      "test_altern (person_test.PersonTest) ... ok\r\n",
      "\r\n",
      "----------------------------------------------------------------------\r\n",
      "Ran 1 test in 0.000s\r\n",
      "\r\n",
      "OK\r\n"
     ]
    }
   ],
   "source": [
    "! python3 -m unittest -v person_test.py"
   ]
  },
  {
   "cell_type": "markdown",
   "metadata": {},
   "source": [
    "Es gibt jedoch ein Problem mit der Methode `altern`. Wenn `altern` mit einem negativen Parameter aufgerufen wird, wird die Zahl abgezogen. Das sollte nicht passieren, da dieses Verhalten nicht zum Name `altern` passt."
   ]
  },
  {
   "cell_type": "code",
   "execution_count": 5,
   "metadata": {},
   "outputs": [
    {
     "name": "stdout",
     "output_type": "stream",
     "text": [
      "Overwriting person_test.py\n"
     ]
    }
   ],
   "source": [
    "%%writefile person_test.py\n",
    "\n",
    "from person import Person\n",
    "import unittest\n",
    "\n",
    "class PersonTest(unittest.TestCase):\n",
    "    def setUp(self):\n",
    "        self.p = Person(\"Hans\", 18)\n",
    "        \n",
    "    def test_altern(self):\n",
    "        vorher = self.p.alter\n",
    "        self.p.altern(1)\n",
    "        \n",
    "        self.assertEqual(self.p.alter, 19)\n",
    "        self.assertTrue(self.p.alter == 19)\n",
    "        \n",
    "    def test_altern2(self):  # ein neuer Testfall\n",
    "        self.p.altern(-100)  # Das sollte nicht funktionieren dürfen\n",
    "        self.assertTrue(self.p.alter > 0, \"Die Person hat ein negatives Alter!\")        "
   ]
  },
  {
   "cell_type": "markdown",
   "metadata": {},
   "source": [
    "Nun schlägt der Testfall fehl."
   ]
  },
  {
   "cell_type": "code",
   "execution_count": 6,
   "metadata": {},
   "outputs": [
    {
     "name": "stdout",
     "output_type": "stream",
     "text": [
      ".F\r\n",
      "======================================================================\r\n",
      "FAIL: test_altern2 (person_test.PersonTest)\r\n",
      "----------------------------------------------------------------------\r\n",
      "Traceback (most recent call last):\r\n",
      "  File \"/Users/bakera/proj/software-101/unittest/person_test.py\", line 18, in test_altern2\r\n",
      "    self.assertTrue(self.p.alter > 0, \"Die Person hat ein negatives Alter!\")\r\n",
      "AssertionError: False is not true : Die Person hat ein negatives Alter!\r\n",
      "\r\n",
      "----------------------------------------------------------------------\r\n",
      "Ran 2 tests in 0.000s\r\n",
      "\r\n",
      "FAILED (failures=1)\r\n"
     ]
    }
   ],
   "source": [
    "! python3 -m unittest person_test.py"
   ]
  },
  {
   "cell_type": "markdown",
   "metadata": {},
   "source": [
    "Wir beheben das Problem, indem wir die Methode `altern` so anpassen, dass sie bei negativen Werten nichts tut."
   ]
  },
  {
   "cell_type": "code",
   "execution_count": 7,
   "metadata": {},
   "outputs": [
    {
     "name": "stdout",
     "output_type": "stream",
     "text": [
      "Overwriting person.py\n"
     ]
    }
   ],
   "source": [
    "%%writefile person.py\n",
    "\n",
    "class Person:\n",
    "    def __init__(self, name, alter):\n",
    "        self.name = name\n",
    "        self.alter = alter\n",
    "        \n",
    "    def altern(self, jahre):\n",
    "        if jahre >= 0:\n",
    "            self.alter += jahre"
   ]
  },
  {
   "cell_type": "markdown",
   "metadata": {},
   "source": [
    "Nun läuft unser Test durch."
   ]
  },
  {
   "cell_type": "code",
   "execution_count": 8,
   "metadata": {},
   "outputs": [
    {
     "name": "stdout",
     "output_type": "stream",
     "text": [
      "..\r\n",
      "----------------------------------------------------------------------\r\n",
      "Ran 2 tests in 0.000s\r\n",
      "\r\n",
      "OK\r\n"
     ]
    }
   ],
   "source": [
    "! python3 -m unittest person_test.py"
   ]
  },
  {
   "cell_type": "markdown",
   "metadata": {},
   "source": [
    "# Doctest\n",
    "\n",
    "Eine Besonderheit von Python sind doctests. Darunter versteht man Kommentare im Quelltext, die gleichzeitig automatisch getestet werden können."
   ]
  },
  {
   "cell_type": "markdown",
   "metadata": {},
   "source": [
    "Wir verwenden wieder die defekte Version der Klasse Person. Kommentare ähneln nun einer Interpreter-Sitzung und werden bei einem Test ausgeführt. Eingaben beginnen mit `>>>` und Ausgaben stehen direkt darunter."
   ]
  },
  {
   "cell_type": "code",
   "execution_count": 45,
   "metadata": {},
   "outputs": [],
   "source": [
    "class Person:\n",
    "    '''Eine Person. Die Klasse kann wie folgt verwendet werden.\n",
    "    \n",
    "    >>> peter = Person(\"Person\", 21)\n",
    "    >>> peter.alter\n",
    "    21\n",
    "    \n",
    "    >>> peter.altern(1)\n",
    "    >>> peter.alter\n",
    "    22\n",
    "    \n",
    "    Wenn ein negativer Wert für altern verwendet wird, so \n",
    "    ändert sich das Alter nicht.\n",
    "    \n",
    "    >>> peter.altern(-10)\n",
    "    >>> peter.alter\n",
    "    22\n",
    "    \n",
    "    '''\n",
    "    def __init__(self, name, alter):\n",
    "        self.name = name\n",
    "        self.alter = alter\n",
    "        \n",
    "    def altern(self, jahre):\n",
    "        self.alter += jahre"
   ]
  },
  {
   "cell_type": "code",
   "execution_count": 46,
   "metadata": {},
   "outputs": [
    {
     "name": "stdout",
     "output_type": "stream",
     "text": [
      "**********************************************************************\n",
      "File \"__main__\", line ?, in __main__.Person\n",
      "Failed example:\n",
      "    peter.alter\n",
      "Expected:\n",
      "    22\n",
      "Got:\n",
      "    12\n",
      "**********************************************************************\n",
      "1 items had failures:\n",
      "   1 of   6 in __main__.Person\n",
      "***Test Failed*** 1 failures.\n"
     ]
    },
    {
     "data": {
      "text/plain": [
       "TestResults(failed=1, attempted=6)"
      ]
     },
     "execution_count": 46,
     "metadata": {},
     "output_type": "execute_result"
    }
   ],
   "source": [
    "import doctest\n",
    "doctest.testmod()"
   ]
  },
  {
   "cell_type": "markdown",
   "metadata": {},
   "source": [
    "Der Fehler taucht bei der Verwendung `altern(-10)` auf.\n",
    "Mit einer geänderten Version der Methode `altern` klappen die Tests schließlich wieder."
   ]
  },
  {
   "cell_type": "code",
   "execution_count": 47,
   "metadata": {},
   "outputs": [],
   "source": [
    "class Person:\n",
    "    '''Eine Person. Die Klasse kann wie folgt verwendet werden.\n",
    "    \n",
    "    >>> peter = Person(\"Person\", 21)\n",
    "    >>> peter.alter\n",
    "    21\n",
    "    \n",
    "    >>> peter.altern(1)\n",
    "    >>> peter.alter\n",
    "    22\n",
    "    \n",
    "    Wenn ein negativer Wert für altern verwendet wird, so \n",
    "    ändert sich das Alter nicht.\n",
    "    \n",
    "    >>> peter.altern(-10)\n",
    "    >>> peter.alter\n",
    "    22\n",
    "    \n",
    "    '''\n",
    "    def __init__(self, name, alter):\n",
    "        self.name = name\n",
    "        self.alter = alter\n",
    "        \n",
    "    def altern(self, jahre):\n",
    "        if jahre >= 0:\n",
    "            self.alter += jahre"
   ]
  },
  {
   "cell_type": "code",
   "execution_count": 48,
   "metadata": {},
   "outputs": [
    {
     "data": {
      "text/plain": [
       "TestResults(failed=0, attempted=6)"
      ]
     },
     "execution_count": 48,
     "metadata": {},
     "output_type": "execute_result"
    }
   ],
   "source": [
    "doctest.testmod()"
   ]
  },
  {
   "cell_type": "markdown",
   "metadata": {},
   "source": [
    "Wir erhalten keine Ausgaben. Dies zeigt an, dass die Tests durchgelaufen sind."
   ]
  },
  {
   "cell_type": "code",
   "execution_count": null,
   "metadata": {},
   "outputs": [],
   "source": []
  }
 ],
 "metadata": {
  "kernelspec": {
   "display_name": "Python 3",
   "language": "python",
   "name": "python3"
  },
  "language_info": {
   "codemirror_mode": {
    "name": "ipython",
    "version": 3
   },
   "file_extension": ".py",
   "mimetype": "text/x-python",
   "name": "python",
   "nbconvert_exporter": "python",
   "pygments_lexer": "ipython3",
   "version": "3.5.2"
  }
 },
 "nbformat": 4,
 "nbformat_minor": 2
}
