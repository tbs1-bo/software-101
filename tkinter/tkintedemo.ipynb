{
 "cells": [
  {
   "cell_type": "markdown",
   "metadata": {},
   "source": [
    "# tkinter\n",
    "\n",
    "Mit Python wird das Paket ``tkinter`` für die Gestaltung von GUIs \n",
    "mitgeliefert. Es muss daher nicht installiert werden und ist bei \n",
    "jeder Python-Installation vorhanden. Das \n",
    "[tkinter-Book](http://effbot.org/tkinterbook/) beschreibt ausführlich\n",
    "das Modul.\n",
    "\n",
    "## Beispiel\n",
    "\n",
    "Die folgende Beispielanwendung enthält\n",
    "einen Button, ein Menü, ein Label, ein Bild und eine Statusbar.\n",
    "\n",
    "![Bild](ball.gif)\n",
    "\n",
    "Beim Klick\n",
    "auf den Button oder bei Auswahl des Menüs wird der Counter\n",
    "hochgezählt. Die GUI-Element werden über ein Grid-Layout in Zeilen\n",
    "und Spalten angeordnet.\n"
   ]
  },
  {
   "cell_type": "code",
   "execution_count": 1,
   "metadata": {},
   "outputs": [],
   "source": [
    "import tkinter\n",
    "\n",
    "class GUI:\n",
    "    def __init__(self):\n",
    "        self.counter = 0\n",
    "\n",
    "        root = tkinter.Tk()\n",
    "        root.title(\"TKinter Demo\")\n",
    "\n",
    "        # add menu\n",
    "        menubar = tkinter.Menu(root)\n",
    "        root.config(menu=menubar)\n",
    "        # adding Tools-menu to menubar\n",
    "        tools_menu = tkinter.Menu(menubar)\n",
    "        menubar.add_cascade(label=\"Tools\", menu=tools_menu)\n",
    "        tools_menu.add_command(label=\"Next\", command=self.click)\n",
    "\n",
    "        # add image in a label\n",
    "        bild = tkinter.PhotoImage(file=\"ball.gif\")  # only GIF or PGM/PPM\n",
    "        lbl = tkinter.Label(root, image=bild)\n",
    "        lbl.grid(row=0, column=0)\n",
    "\n",
    "        # add button, invoking method 'click' when clicked.\n",
    "        btn = tkinter.Button(root, text=\"next\", command=self.click)\n",
    "        btn.grid(row=1, column=0)\n",
    "\n",
    "        # add label with counter value\n",
    "        self.lbl = tkinter.Label(root, text=\"Label für Counter\")\n",
    "        self.lbl.grid(row=1, column=1)\n",
    "\n",
    "        # add entry field\n",
    "        self.ent = tkinter.Entry(root)\n",
    "        self.ent.grid(row=1, column=2)\n",
    "\n",
    "        # entering main event loop\n",
    "        root.mainloop()\n",
    "\n",
    "    def click(self):\n",
    "        # update label\n",
    "        self.lbl.configure(text=\"Counter \" + str(self.counter))\n",
    "\n",
    "        # clear the entry field and inter counter value at beginning\n",
    "        self.ent.delete(0, tkinter.END)        \n",
    "        self.ent.insert(0, self.counter)\n",
    "\n",
    "        self.counter += 1\n",
    "\n",
    "if __name__ == \"__main__\":\n",
    "    GUI()\n"
   ]
  }
 ],
 "metadata": {
  "kernelspec": {
   "display_name": "Python 3",
   "language": "python",
   "name": "python3"
  },
  "language_info": {
   "codemirror_mode": {
    "name": "ipython",
    "version": 3
   },
   "file_extension": ".py",
   "mimetype": "text/x-python",
   "name": "python",
   "nbconvert_exporter": "python",
   "pygments_lexer": "ipython3",
   "version": "3.5.2"
  }
 },
 "nbformat": 4,
 "nbformat_minor": 2
}
