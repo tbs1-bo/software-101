{
 "cells": [
  {
   "cell_type": "markdown",
   "metadata": {},
   "source": [
    "# Type-Hints in Python\n",
    "\n",
    "In Python können ab Version 3.6 Typen im Quelltext annotiert werden. Mit `mypy` können diese Typen geprüft werden. Es kann einfach mit pip installiert werden.\n",
    "\n",
    "    $ pip install mypy"
   ]
  },
  {
   "cell_type": "markdown",
   "metadata": {},
   "source": [
    "Einfache Type können für Zahlen angegeben werden."
   ]
  },
  {
   "cell_type": "code",
   "execution_count": 1,
   "metadata": {},
   "outputs": [
    {
     "name": "stdout",
     "output_type": "stream",
     "text": [
      "Overwriting typentest.py\n"
     ]
    }
   ],
   "source": [
    "%%writefile typentest.py\n",
    "\n",
    "a:int = 1"
   ]
  },
  {
   "cell_type": "markdown",
   "metadata": {},
   "source": [
    "Mit mypy kann die Datei getestet werden."
   ]
  },
  {
   "cell_type": "code",
   "execution_count": 2,
   "metadata": {},
   "outputs": [],
   "source": [
    "! mypy typentest.py"
   ]
  },
  {
   "cell_type": "markdown",
   "metadata": {},
   "source": [
    "Wir bauen nun einen Fehler ein."
   ]
  },
  {
   "cell_type": "code",
   "execution_count": 3,
   "metadata": {},
   "outputs": [
    {
     "name": "stdout",
     "output_type": "stream",
     "text": [
      "Overwriting typentest.py\n"
     ]
    }
   ],
   "source": [
    "%%writefile typentest.py\n",
    "\n",
    "a:int = 1\n",
    "a = \"eins\""
   ]
  },
  {
   "cell_type": "markdown",
   "metadata": {},
   "source": [
    "mypy zeigt nun den Fehler an."
   ]
  },
  {
   "cell_type": "code",
   "execution_count": 4,
   "metadata": {},
   "outputs": [
    {
     "name": "stdout",
     "output_type": "stream",
     "text": [
      "typentest.py:3: error: Incompatible types in assignment (expression has type \"str\", variable has type \"int\")\r\n"
     ]
    }
   ],
   "source": [
    "! mypy typentest.py"
   ]
  },
  {
   "cell_type": "markdown",
   "metadata": {},
   "source": [
    "Funktionen können auch mit Typinformationen ausgestattet werden. Zu Erinnerung: so sehen für gewöhnlich Funktionen aus, wenn sie keine Typinformationen enthalten."
   ]
  },
  {
   "cell_type": "code",
   "execution_count": 5,
   "metadata": {},
   "outputs": [],
   "source": [
    "def greet(name):\n",
    "    return \"Hallo\" + name"
   ]
  },
  {
   "cell_type": "markdown",
   "metadata": {},
   "source": [
    "Die Funktion kann um Typen ergänzt werden. Es kann sowohl der Parameter als auch der Rückgabewert typisiert werden."
   ]
  },
  {
   "cell_type": "code",
   "execution_count": 6,
   "metadata": {},
   "outputs": [
    {
     "name": "stdout",
     "output_type": "stream",
     "text": [
      "Overwriting typentest.py\n"
     ]
    }
   ],
   "source": [
    "%%writefile typentest.py\n",
    "\n",
    "def greeting(name:str) -> str:\n",
    "    return \"Hallo\" + name\n",
    "\n",
    "\n",
    "greeting(\"Otto\")          # OK\n",
    "greeting(\"Du \" + \"Otto\")  # OK\n",
    "greeting(23)      # not OK\n",
    "greeting(False)   # not OK"
   ]
  },
  {
   "cell_type": "markdown",
   "metadata": {},
   "source": [
    "Durch eine Überprüfung können so Fehler im Quelltext entdeckt werden."
   ]
  },
  {
   "cell_type": "code",
   "execution_count": 7,
   "metadata": {},
   "outputs": [
    {
     "name": "stdout",
     "output_type": "stream",
     "text": [
      "typentest.py:8: error: Argument 1 to \"greeting\" has incompatible type \"int\"; expected \"str\"\r\n",
      "typentest.py:9: error: Argument 1 to \"greeting\" has incompatible type \"bool\"; expected \"str\"\r\n"
     ]
    }
   ],
   "source": [
    "! mypy typentest.py"
   ]
  },
  {
   "cell_type": "markdown",
   "metadata": {},
   "source": [
    "Nun eine Funktion, die keinen Rückgabewert besitzt."
   ]
  },
  {
   "cell_type": "code",
   "execution_count": 8,
   "metadata": {},
   "outputs": [
    {
     "name": "stdout",
     "output_type": "stream",
     "text": [
      "Overwriting typentest.py\n"
     ]
    }
   ],
   "source": [
    "%%writefile typentest.py\n",
    "\n",
    "def func_without_retval() -> None:\n",
    "    print(\"In p()\")\n",
    "    \n",
    "func_without_retval()           # OK\n",
    "result = func_without_retval()  # not OK"
   ]
  },
  {
   "cell_type": "code",
   "execution_count": 9,
   "metadata": {},
   "outputs": [
    {
     "name": "stdout",
     "output_type": "stream",
     "text": [
      "typentest.py:6: error: \"func_without_retval\" does not return a value\r\n"
     ]
    }
   ],
   "source": [
    "! mypy typentest.py"
   ]
  },
  {
   "cell_type": "markdown",
   "metadata": {},
   "source": [
    "Es sind auch komplexe Typen wie Listen, Mengen oder Dictionaries erlaubt."
   ]
  },
  {
   "cell_type": "code",
   "execution_count": 10,
   "metadata": {},
   "outputs": [
    {
     "name": "stdout",
     "output_type": "stream",
     "text": [
      "Overwriting typentest.py\n"
     ]
    }
   ],
   "source": [
    "%%writefile typentest.py\n",
    "\n",
    "from typing import List, Set\n",
    "\n",
    "x1:List[int] = [1, 2, 3]    # OK\n",
    "x2:List[int] = [1, 2, 3.3]  # not OK\n",
    "y1:Set[float] = {1.1, 2.2}  # OK\n",
    "y2:Set[float] = {1, \"2\"}    # not OK    "
   ]
  },
  {
   "cell_type": "code",
   "execution_count": 11,
   "metadata": {},
   "outputs": [
    {
     "name": "stdout",
     "output_type": "stream",
     "text": [
      "typentest.py:5: error: List item 2 has incompatible type \"float\"; expected \"int\"\r\n",
      "typentest.py:7: error: Argument 2 to <set> has incompatible type \"str\"; expected \"float\"\r\n"
     ]
    }
   ],
   "source": [
    "! mypy typentest.py"
   ]
  },
  {
   "cell_type": "markdown",
   "metadata": {},
   "source": [
    "Bei Dictionaries müssen der Typ für den Key und den Value angegeben werden."
   ]
  },
  {
   "cell_type": "code",
   "execution_count": 12,
   "metadata": {},
   "outputs": [
    {
     "name": "stdout",
     "output_type": "stream",
     "text": [
      "Overwriting typentest.py\n"
     ]
    }
   ],
   "source": [
    "%%writefile typentest.py\n",
    "\n",
    "from typing import Dict\n",
    "\n",
    "x:Dict[int, str] = {1: \"eins\", 2: \"zwei\"}    # OK\n",
    "y:Dict[int, str] = {\"1\": \"eins\", 2: \"zwei\"}  # not OK"
   ]
  },
  {
   "cell_type": "code",
   "execution_count": 13,
   "metadata": {},
   "outputs": [
    {
     "name": "stdout",
     "output_type": "stream",
     "text": [
      "typentest.py:5: error: Dict entry 0 has incompatible type \"str\": \"str\"; expected \"int\": \"str\"\r\n"
     ]
    }
   ],
   "source": [
    "! mypy typentest.py"
   ]
  },
  {
   "cell_type": "markdown",
   "metadata": {},
   "source": [
    "Auch eigene Klassen können als Typen verwendet werden."
   ]
  },
  {
   "cell_type": "code",
   "execution_count": 14,
   "metadata": {},
   "outputs": [
    {
     "name": "stdout",
     "output_type": "stream",
     "text": [
      "Overwriting typentest.py\n"
     ]
    }
   ],
   "source": [
    "%%writefile typentest.py\n",
    "\n",
    "class MeineKlasse:\n",
    "    def __init__(self, x:int) -> None:\n",
    "        self.x:int = x\n",
    "            \n",
    "            \n",
    "mk1:MeineKlasse = MeineKlasse(23)     # OK\n",
    "mk2:MeineKlasse = MeineKlasse(23.42)  # not OK"
   ]
  },
  {
   "cell_type": "code",
   "execution_count": 15,
   "metadata": {},
   "outputs": [
    {
     "name": "stdout",
     "output_type": "stream",
     "text": [
      "typentest.py:8: error: Argument 1 to \"MeineKlasse\" has incompatible type \"float\"; expected \"int\"\r\n"
     ]
    }
   ],
   "source": [
    "! mypy typentest.py"
   ]
  },
  {
   "cell_type": "markdown",
   "metadata": {},
   "source": [
    "Die Klasse kann auch in anderen Klassen verwendet werden."
   ]
  },
  {
   "cell_type": "code",
   "execution_count": 16,
   "metadata": {},
   "outputs": [
    {
     "name": "stdout",
     "output_type": "stream",
     "text": [
      "Overwriting typentest.py\n"
     ]
    }
   ],
   "source": [
    "%%writefile typentest.py\n",
    "\n",
    "class MeineKlasse:\n",
    "    def __init__(self) -> None:\n",
    "        self.x:int = 23\n",
    "\n",
    "class AndereKlasse:\n",
    "    def __init__(self, mk: MeineKlasse) -> None:\n",
    "        self.attr: MeineKlasse = mk\n",
    "            \n",
    "            \n",
    "mk:MeineKlasse = MeineKlasse()\n",
    "ak1:AndereKlasse = AndereKlasse(mk)  # OK\n",
    "ak2:AndereKlasse = AndereKlasse(23)  # not OK"
   ]
  },
  {
   "cell_type": "code",
   "execution_count": 17,
   "metadata": {},
   "outputs": [
    {
     "name": "stdout",
     "output_type": "stream",
     "text": [
      "typentest.py:13: error: Argument 1 to \"AndereKlasse\" has incompatible type \"int\"; expected \"MeineKlasse\"\r\n"
     ]
    }
   ],
   "source": [
    "! mypy typentest.py"
   ]
  },
  {
   "cell_type": "markdown",
   "metadata": {},
   "source": [
    "Weitere Annotationen sind im [Cheat Sheet von mypy](https://mypy.readthedocs.io/en/latest/cheat_sheet_py3.html) gelistet."
   ]
  }
 ],
 "metadata": {
  "kernelspec": {
   "display_name": "Python 3",
   "language": "python",
   "name": "python3"
  },
  "language_info": {
   "codemirror_mode": {
    "name": "ipython",
    "version": 3
   },
   "file_extension": ".py",
   "mimetype": "text/x-python",
   "name": "python",
   "nbconvert_exporter": "python",
   "pygments_lexer": "ipython3",
   "version": "3.7.0"
  }
 },
 "nbformat": 4,
 "nbformat_minor": 2
}
